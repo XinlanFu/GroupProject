{
 "cells": [
  {
   "cell_type": "code",
   "execution_count": 34,
   "metadata": {},
   "outputs": [
    {
     "name": "stderr",
     "output_type": "stream",
     "text": [
      "Warning message:\n",
      "“Missing column names filled in: 'X44' [44], 'X45' [45]”Parsed with column specification:\n",
      "cols(\n",
      "  .default = col_double(),\n",
      "  name = \u001b[31mcol_character()\u001b[39m,\n",
      "  tier_name = \u001b[31mcol_character()\u001b[39m,\n",
      "  state = \u001b[31mcol_character()\u001b[39m,\n",
      "  czname = \u001b[31mcol_character()\u001b[39m,\n",
      "  X44 = \u001b[33mcol_logical()\u001b[39m,\n",
      "  X45 = \u001b[33mcol_logical()\u001b[39m\n",
      ")\n",
      "See spec(...) for full column specifications.\n"
     ]
    },
    {
     "data": {
      "text/html": [
       "<table>\n",
       "<caption>A tibble: 6 × 45</caption>\n",
       "<thead>\n",
       "\t<tr><th scope=col>super_opeid</th><th scope=col>name</th><th scope=col>type</th><th scope=col>tier</th><th scope=col>tier_name</th><th scope=col>iclevel</th><th scope=col>region</th><th scope=col>state</th><th scope=col>czname</th><th scope=col>par_q1</th><th scope=col>⋯</th><th scope=col>kq3_cond_parq4</th><th scope=col>kq4_cond_parq4</th><th scope=col>kq5_cond_parq4</th><th scope=col>kq1_cond_parq5</th><th scope=col>kq2_cond_parq5</th><th scope=col>kq3_cond_parq5</th><th scope=col>kq4_cond_parq5</th><th scope=col>kq5_cond_parq5</th><th scope=col>X44</th><th scope=col>X45</th></tr>\n",
       "\t<tr><th scope=col>&lt;dbl&gt;</th><th scope=col>&lt;chr&gt;</th><th scope=col>&lt;dbl&gt;</th><th scope=col>&lt;dbl&gt;</th><th scope=col>&lt;chr&gt;</th><th scope=col>&lt;dbl&gt;</th><th scope=col>&lt;dbl&gt;</th><th scope=col>&lt;chr&gt;</th><th scope=col>&lt;chr&gt;</th><th scope=col>&lt;dbl&gt;</th><th scope=col>⋯</th><th scope=col>&lt;dbl&gt;</th><th scope=col>&lt;dbl&gt;</th><th scope=col>&lt;dbl&gt;</th><th scope=col>&lt;dbl&gt;</th><th scope=col>&lt;dbl&gt;</th><th scope=col>&lt;dbl&gt;</th><th scope=col>&lt;dbl&gt;</th><th scope=col>&lt;dbl&gt;</th><th scope=col>&lt;lgl&gt;</th><th scope=col>&lt;lgl&gt;</th></tr>\n",
       "</thead>\n",
       "<tbody>\n",
       "\t<tr><td>30955</td><td>ASA Institute Of Business &amp; Computer Technology</td><td>3</td><td>11</td><td><span style=white-space:pre-wrap>Two-year for-profit          </span></td><td>2</td><td>1</td><td>NY</td><td><span style=white-space:pre-wrap>New York     </span></td><td>0.44357512</td><td>⋯</td><td>0.1760198</td><td>0.2858109</td><td>0.1156441</td><td>0.0962707</td><td>0.2985320</td><td>0.2036935</td><td>0.2042709</td><td>0.1972328</td><td>NA</td><td>NA</td></tr>\n",
       "\t<tr><td> 3537</td><td>Abilene Christian University                   </td><td>2</td><td> 6</td><td>Selective private            </td><td>1</td><td>3</td><td>TX</td><td>Abilene      </td><td>0.05244135</td><td>⋯</td><td>0.1742201</td><td>0.2332917</td><td>0.3146711</td><td>0.1346296</td><td>0.1225604</td><td>0.1417430</td><td>0.2391946</td><td>0.3618724</td><td>NA</td><td>NA</td></tr>\n",
       "\t<tr><td> 1541</td><td>Abraham Baldwin Agricultural College           </td><td>1</td><td> 7</td><td>Nonselective four-year public</td><td>1</td><td>3</td><td>GA</td><td>Valdosta     </td><td>0.15455518</td><td>⋯</td><td>0.2335978</td><td>0.3056518</td><td>0.2012344</td><td>0.1240982</td><td>0.1493977</td><td>0.1966711</td><td>0.3047610</td><td>0.2250720</td><td>NA</td><td>NA</td></tr>\n",
       "\t<tr><td> 7531</td><td>Academy Of Art University                      </td><td>3</td><td>10</td><td>Four-year for-profit         </td><td>1</td><td>4</td><td>CA</td><td>San Francisco</td><td>0.09352422</td><td>⋯</td><td>0.1671838</td><td>0.1889049</td><td>0.2519145</td><td>0.1966253</td><td>0.1850919</td><td>0.1701652</td><td>0.1515126</td><td>0.2966050</td><td>NA</td><td>NA</td></tr>\n",
       "\t<tr><td> 1345</td><td>Adams State University                         </td><td>1</td><td> 5</td><td>Selective public             </td><td>1</td><td>4</td><td>CO</td><td>Alamosa      </td><td>0.12922439</td><td>⋯</td><td>0.2277163</td><td>0.2919978</td><td>0.2034337</td><td>0.1050013</td><td>0.1181480</td><td>0.2660201</td><td>0.2192669</td><td>0.2915637</td><td>NA</td><td>NA</td></tr>\n",
       "\t<tr><td> 2666</td><td>Adelphi University                             </td><td>2</td><td> 6</td><td>Selective private            </td><td>1</td><td>1</td><td>NY</td><td>New York     </td><td>0.08704802</td><td>⋯</td><td>0.1625158</td><td>0.1900162</td><td>0.4280847</td><td>0.1032917</td><td>0.1018200</td><td>0.1185716</td><td>0.1900711</td><td>0.4862457</td><td>NA</td><td>NA</td></tr>\n",
       "</tbody>\n",
       "</table>\n"
      ],
      "text/latex": [
       "A tibble: 6 × 45\n",
       "\\begin{tabular}{r|lllllllllllllllllllllllllllllllllllllllllllll}\n",
       " super\\_opeid & name & type & tier & tier\\_name & iclevel & region & state & czname & par\\_q1 & par\\_q2 & par\\_q3 & par\\_q4 & par\\_q5 & par\\_top10pc & par\\_top5pc & par\\_top1pc & par\\_toppt1pc & kq1\\_cond\\_parq1 & kq2\\_cond\\_parq1 & kq3\\_cond\\_parq1 & kq4\\_cond\\_parq1 & kq5\\_cond\\_parq1 & kq1\\_cond\\_parq2 & kq2\\_cond\\_parq2 & kq3\\_cond\\_parq2 & kq4\\_cond\\_parq2 & kq5\\_cond\\_parq2 & kq1\\_cond\\_parq3 & kq2\\_cond\\_parq3 & kq3\\_cond\\_parq3 & kq4\\_cond\\_parq3 & kq5\\_cond\\_parq3 & kq1\\_cond\\_parq4 & kq2\\_cond\\_parq4 & kq3\\_cond\\_parq4 & kq4\\_cond\\_parq4 & kq5\\_cond\\_parq4 & kq1\\_cond\\_parq5 & kq2\\_cond\\_parq5 & kq3\\_cond\\_parq5 & kq4\\_cond\\_parq5 & kq5\\_cond\\_parq5 & X44 & X45\\\\\n",
       " <dbl> & <chr> & <dbl> & <dbl> & <chr> & <dbl> & <dbl> & <chr> & <chr> & <dbl> & <dbl> & <dbl> & <dbl> & <dbl> & <dbl> & <dbl> & <dbl> & <dbl> & <dbl> & <dbl> & <dbl> & <dbl> & <dbl> & <dbl> & <dbl> & <dbl> & <dbl> & <dbl> & <dbl> & <dbl> & <dbl> & <dbl> & <dbl> & <dbl> & <dbl> & <dbl> & <dbl> & <dbl> & <dbl> & <dbl> & <dbl> & <dbl> & <dbl> & <lgl> & <lgl>\\\\\n",
       "\\hline\n",
       "\t 30955 & ASA Institute Of Business \\& Computer Technology & 3 & 11 & Two-year for-profit           & 2 & 1 & NY & New York      & 0.44357512 & 0.3267902 & 0.1437108 & 0.05970676 & 0.02621719 & 0.01322289 & 0.006964943 & 0.000415863 & 0.000103003 & 0.17915321 & 0.3395770 & 0.2437785 & 0.1923267 & 0.04516471 & 0.1655211 & 0.2724355 & 0.2694793 & 0.2078743 & 0.08468985 & 0.19135211 & 0.2240845 & 0.2754507 & 0.2390751 & 0.07003761 & 0.12893395 & 0.2935912 & 0.1760198 & 0.2858109 & 0.1156441 & 0.0962707 & 0.2985320 & 0.2036935 & 0.2042709 & 0.1972328 & NA & NA\\\\\n",
       "\t  3537 & Abilene Christian University                    & 2 &  6 & Selective private             & 1 & 3 & TX & Abilene       & 0.05244135 & 0.1010320 & 0.1639357 & 0.25824005 & 0.42435089 & 0.23586491 & 0.126604725 & 0.023049100 & 0.000841904 & 0.09414483 & 0.1086272 & 0.2559982 & 0.2673270 & 0.27390282 & 0.1861876 & 0.1296391 & 0.2034312 & 0.2330906 & 0.24765150 & 0.14365052 & 0.1588360 & 0.2083745 & 0.2874772 & 0.20166175 & 0.13800210 & 0.1398150 & 0.1742201 & 0.2332917 & 0.3146711 & 0.1346296 & 0.1225604 & 0.1417430 & 0.2391946 & 0.3618724 & NA & NA\\\\\n",
       "\t  1541 & Abraham Baldwin Agricultural College            & 1 &  7 & Nonselective four-year public & 1 & 3 & GA & Valdosta      & 0.15455518 & 0.1871586 & 0.2254971 & 0.23676258 & 0.19602657 & 0.07293054 & 0.033044620 & 0.002520282 & 0.000608527 & 0.17649073 & 0.2397960 & 0.3010153 & 0.1865683 & 0.09612966 & 0.1140146 & 0.2289665 & 0.2860668 & 0.2284759 & 0.14247610 & 0.11998492 & 0.1345169 & 0.2723120 & 0.3115461 & 0.16164010 & 0.09271151 & 0.1668045 & 0.2335978 & 0.3056518 & 0.2012344 & 0.1240982 & 0.1493977 & 0.1966711 & 0.3047610 & 0.2250720 & NA & NA\\\\\n",
       "\t  7531 & Academy Of Art University                       & 3 & 10 & Four-year for-profit          & 1 & 4 & CA & San Francisco & 0.09352422 & 0.1229171 & 0.1753495 & 0.21152512 & 0.39668401 & 0.24404959 & 0.147395509 & 0.035681199 & 0.003368348 & 0.26703011 & 0.1854258 & 0.2062937 & 0.1663503 & 0.17490002 & 0.2090548 & 0.1915711 & 0.2189319 & 0.1363872 & 0.24405494 & 0.19975941 & 0.2208330 & 0.1813436 & 0.1469258 & 0.25113821 & 0.19936280 & 0.1926340 & 0.1671838 & 0.1889049 & 0.2519145 & 0.1966253 & 0.1850919 & 0.1701652 & 0.1515126 & 0.2966050 & NA & NA\\\\\n",
       "\t  1345 & Adams State University                          & 1 &  5 & Selective public              & 1 & 4 & CO & Alamosa       & 0.12922439 & 0.1855039 & 0.2484288 & 0.26087633 & 0.17596664 & 0.06427846 & 0.024887405 & 0.003146715 & 0.000000000 & 0.16999300 & 0.2016696 & 0.2188124 & 0.2636958 & 0.14582912 & 0.1288845 & 0.1836279 & 0.2358722 & 0.2891828 & 0.16243258 & 0.10558637 & 0.1473407 & 0.2641172 & 0.2809070 & 0.20204862 & 0.11754400 & 0.1593082 & 0.2277163 & 0.2919978 & 0.2034337 & 0.1050013 & 0.1181480 & 0.2660201 & 0.2192669 & 0.2915637 & NA & NA\\\\\n",
       "\t  2666 & Adelphi University                              & 2 &  6 & Selective private             & 1 & 1 & NY & New York      & 0.08704802 & 0.1285386 & 0.1564339 & 0.22986453 & 0.39811498 & 0.20536980 & 0.103923967 & 0.023863256 & 0.001936710 & 0.09847519 & 0.1251636 & 0.1938495 & 0.2081772 & 0.37433442 & 0.1281903 & 0.1139460 & 0.1512318 & 0.1938885 & 0.41274347 & 0.09056527 & 0.1066129 & 0.1711234 & 0.1966504 & 0.43504794 & 0.08777559 & 0.1316076 & 0.1625158 & 0.1900162 & 0.4280847 & 0.1032917 & 0.1018200 & 0.1185716 & 0.1900711 & 0.4862457 & NA & NA\\\\\n",
       "\\end{tabular}\n"
      ],
      "text/markdown": [
       "\n",
       "A tibble: 6 × 45\n",
       "\n",
       "| super_opeid &lt;dbl&gt; | name &lt;chr&gt; | type &lt;dbl&gt; | tier &lt;dbl&gt; | tier_name &lt;chr&gt; | iclevel &lt;dbl&gt; | region &lt;dbl&gt; | state &lt;chr&gt; | czname &lt;chr&gt; | par_q1 &lt;dbl&gt; | ⋯ ⋯ | kq3_cond_parq4 &lt;dbl&gt; | kq4_cond_parq4 &lt;dbl&gt; | kq5_cond_parq4 &lt;dbl&gt; | kq1_cond_parq5 &lt;dbl&gt; | kq2_cond_parq5 &lt;dbl&gt; | kq3_cond_parq5 &lt;dbl&gt; | kq4_cond_parq5 &lt;dbl&gt; | kq5_cond_parq5 &lt;dbl&gt; | X44 &lt;lgl&gt; | X45 &lt;lgl&gt; |\n",
       "|---|---|---|---|---|---|---|---|---|---|---|---|---|---|---|---|---|---|---|---|---|\n",
       "| 30955 | ASA Institute Of Business &amp; Computer Technology | 3 | 11 | Two-year for-profit           | 2 | 1 | NY | New York      | 0.44357512 | ⋯ | 0.1760198 | 0.2858109 | 0.1156441 | 0.0962707 | 0.2985320 | 0.2036935 | 0.2042709 | 0.1972328 | NA | NA |\n",
       "|  3537 | Abilene Christian University                    | 2 |  6 | Selective private             | 1 | 3 | TX | Abilene       | 0.05244135 | ⋯ | 0.1742201 | 0.2332917 | 0.3146711 | 0.1346296 | 0.1225604 | 0.1417430 | 0.2391946 | 0.3618724 | NA | NA |\n",
       "|  1541 | Abraham Baldwin Agricultural College            | 1 |  7 | Nonselective four-year public | 1 | 3 | GA | Valdosta      | 0.15455518 | ⋯ | 0.2335978 | 0.3056518 | 0.2012344 | 0.1240982 | 0.1493977 | 0.1966711 | 0.3047610 | 0.2250720 | NA | NA |\n",
       "|  7531 | Academy Of Art University                       | 3 | 10 | Four-year for-profit          | 1 | 4 | CA | San Francisco | 0.09352422 | ⋯ | 0.1671838 | 0.1889049 | 0.2519145 | 0.1966253 | 0.1850919 | 0.1701652 | 0.1515126 | 0.2966050 | NA | NA |\n",
       "|  1345 | Adams State University                          | 1 |  5 | Selective public              | 1 | 4 | CO | Alamosa       | 0.12922439 | ⋯ | 0.2277163 | 0.2919978 | 0.2034337 | 0.1050013 | 0.1181480 | 0.2660201 | 0.2192669 | 0.2915637 | NA | NA |\n",
       "|  2666 | Adelphi University                              | 2 |  6 | Selective private             | 1 | 1 | NY | New York      | 0.08704802 | ⋯ | 0.1625158 | 0.1900162 | 0.4280847 | 0.1032917 | 0.1018200 | 0.1185716 | 0.1900711 | 0.4862457 | NA | NA |\n",
       "\n"
      ],
      "text/plain": [
       "  super_opeid name                                            type tier\n",
       "1 30955       ASA Institute Of Business & Computer Technology 3    11  \n",
       "2  3537       Abilene Christian University                    2     6  \n",
       "3  1541       Abraham Baldwin Agricultural College            1     7  \n",
       "4  7531       Academy Of Art University                       3    10  \n",
       "5  1345       Adams State University                          1     5  \n",
       "6  2666       Adelphi University                              2     6  \n",
       "  tier_name                     iclevel region state czname        par_q1     ⋯\n",
       "1 Two-year for-profit           2       1      NY    New York      0.44357512 ⋯\n",
       "2 Selective private             1       3      TX    Abilene       0.05244135 ⋯\n",
       "3 Nonselective four-year public 1       3      GA    Valdosta      0.15455518 ⋯\n",
       "4 Four-year for-profit          1       4      CA    San Francisco 0.09352422 ⋯\n",
       "5 Selective public              1       4      CO    Alamosa       0.12922439 ⋯\n",
       "6 Selective private             1       1      NY    New York      0.08704802 ⋯\n",
       "  kq3_cond_parq4 kq4_cond_parq4 kq5_cond_parq4 kq1_cond_parq5 kq2_cond_parq5\n",
       "1 0.1760198      0.2858109      0.1156441      0.0962707      0.2985320     \n",
       "2 0.1742201      0.2332917      0.3146711      0.1346296      0.1225604     \n",
       "3 0.2335978      0.3056518      0.2012344      0.1240982      0.1493977     \n",
       "4 0.1671838      0.1889049      0.2519145      0.1966253      0.1850919     \n",
       "5 0.2277163      0.2919978      0.2034337      0.1050013      0.1181480     \n",
       "6 0.1625158      0.1900162      0.4280847      0.1032917      0.1018200     \n",
       "  kq3_cond_parq5 kq4_cond_parq5 kq5_cond_parq5 X44 X45\n",
       "1 0.2036935      0.2042709      0.1972328      NA  NA \n",
       "2 0.1417430      0.2391946      0.3618724      NA  NA \n",
       "3 0.1966711      0.3047610      0.2250720      NA  NA \n",
       "4 0.1701652      0.1515126      0.2966050      NA  NA \n",
       "5 0.2660201      0.2192669      0.2915637      NA  NA \n",
       "6 0.1185716      0.1900711      0.4862457      NA  NA "
      ]
     },
     "metadata": {},
     "output_type": "display_data"
    }
   ],
   "source": [
    "library(readr)\n",
    "library(dplyr)\n",
    "dat <- read_csv(\"CollegeMobility.csv\")\n",
    "head(dat)"
   ]
  },
  {
   "cell_type": "code",
   "execution_count": 35,
   "metadata": {},
   "outputs": [
    {
     "data": {
      "text/html": [
       "<table>\n",
       "<caption>A tibble: 6 × 9</caption>\n",
       "<thead>\n",
       "\t<tr><th scope=col>super_opeid</th><th scope=col>name</th><th scope=col>type</th><th scope=col>tier</th><th scope=col>tier_name</th><th scope=col>iclevel</th><th scope=col>region</th><th scope=col>state</th><th scope=col>czname</th></tr>\n",
       "\t<tr><th scope=col>&lt;dbl&gt;</th><th scope=col>&lt;chr&gt;</th><th scope=col>&lt;dbl&gt;</th><th scope=col>&lt;dbl&gt;</th><th scope=col>&lt;chr&gt;</th><th scope=col>&lt;dbl&gt;</th><th scope=col>&lt;dbl&gt;</th><th scope=col>&lt;chr&gt;</th><th scope=col>&lt;chr&gt;</th></tr>\n",
       "</thead>\n",
       "<tbody>\n",
       "\t<tr><td>30955</td><td>ASA Institute Of Business &amp; Computer Technology</td><td>3</td><td>11</td><td><span style=white-space:pre-wrap>Two-year for-profit          </span></td><td>2</td><td>1</td><td>NY</td><td><span style=white-space:pre-wrap>New York     </span></td></tr>\n",
       "\t<tr><td> 3537</td><td>Abilene Christian University                   </td><td>2</td><td> 6</td><td>Selective private            </td><td>1</td><td>3</td><td>TX</td><td>Abilene      </td></tr>\n",
       "\t<tr><td> 1541</td><td>Abraham Baldwin Agricultural College           </td><td>1</td><td> 7</td><td>Nonselective four-year public</td><td>1</td><td>3</td><td>GA</td><td>Valdosta     </td></tr>\n",
       "\t<tr><td> 7531</td><td>Academy Of Art University                      </td><td>3</td><td>10</td><td>Four-year for-profit         </td><td>1</td><td>4</td><td>CA</td><td>San Francisco</td></tr>\n",
       "\t<tr><td> 1345</td><td>Adams State University                         </td><td>1</td><td> 5</td><td>Selective public             </td><td>1</td><td>4</td><td>CO</td><td>Alamosa      </td></tr>\n",
       "\t<tr><td> 2666</td><td>Adelphi University                             </td><td>2</td><td> 6</td><td>Selective private            </td><td>1</td><td>1</td><td>NY</td><td>New York     </td></tr>\n",
       "</tbody>\n",
       "</table>\n"
      ],
      "text/latex": [
       "A tibble: 6 × 9\n",
       "\\begin{tabular}{r|lllllllll}\n",
       " super\\_opeid & name & type & tier & tier\\_name & iclevel & region & state & czname\\\\\n",
       " <dbl> & <chr> & <dbl> & <dbl> & <chr> & <dbl> & <dbl> & <chr> & <chr>\\\\\n",
       "\\hline\n",
       "\t 30955 & ASA Institute Of Business \\& Computer Technology & 3 & 11 & Two-year for-profit           & 2 & 1 & NY & New York     \\\\\n",
       "\t  3537 & Abilene Christian University                    & 2 &  6 & Selective private             & 1 & 3 & TX & Abilene      \\\\\n",
       "\t  1541 & Abraham Baldwin Agricultural College            & 1 &  7 & Nonselective four-year public & 1 & 3 & GA & Valdosta     \\\\\n",
       "\t  7531 & Academy Of Art University                       & 3 & 10 & Four-year for-profit          & 1 & 4 & CA & San Francisco\\\\\n",
       "\t  1345 & Adams State University                          & 1 &  5 & Selective public              & 1 & 4 & CO & Alamosa      \\\\\n",
       "\t  2666 & Adelphi University                              & 2 &  6 & Selective private             & 1 & 1 & NY & New York     \\\\\n",
       "\\end{tabular}\n"
      ],
      "text/markdown": [
       "\n",
       "A tibble: 6 × 9\n",
       "\n",
       "| super_opeid &lt;dbl&gt; | name &lt;chr&gt; | type &lt;dbl&gt; | tier &lt;dbl&gt; | tier_name &lt;chr&gt; | iclevel &lt;dbl&gt; | region &lt;dbl&gt; | state &lt;chr&gt; | czname &lt;chr&gt; |\n",
       "|---|---|---|---|---|---|---|---|---|\n",
       "| 30955 | ASA Institute Of Business &amp; Computer Technology | 3 | 11 | Two-year for-profit           | 2 | 1 | NY | New York      |\n",
       "|  3537 | Abilene Christian University                    | 2 |  6 | Selective private             | 1 | 3 | TX | Abilene       |\n",
       "|  1541 | Abraham Baldwin Agricultural College            | 1 |  7 | Nonselective four-year public | 1 | 3 | GA | Valdosta      |\n",
       "|  7531 | Academy Of Art University                       | 3 | 10 | Four-year for-profit          | 1 | 4 | CA | San Francisco |\n",
       "|  1345 | Adams State University                          | 1 |  5 | Selective public              | 1 | 4 | CO | Alamosa       |\n",
       "|  2666 | Adelphi University                              | 2 |  6 | Selective private             | 1 | 1 | NY | New York      |\n",
       "\n"
      ],
      "text/plain": [
       "  super_opeid name                                            type tier\n",
       "1 30955       ASA Institute Of Business & Computer Technology 3    11  \n",
       "2  3537       Abilene Christian University                    2     6  \n",
       "3  1541       Abraham Baldwin Agricultural College            1     7  \n",
       "4  7531       Academy Of Art University                       3    10  \n",
       "5  1345       Adams State University                          1     5  \n",
       "6  2666       Adelphi University                              2     6  \n",
       "  tier_name                     iclevel region state czname       \n",
       "1 Two-year for-profit           2       1      NY    New York     \n",
       "2 Selective private             1       3      TX    Abilene      \n",
       "3 Nonselective four-year public 1       3      GA    Valdosta     \n",
       "4 Four-year for-profit          1       4      CA    San Francisco\n",
       "5 Selective public              1       4      CO    Alamosa      \n",
       "6 Selective private             1       1      NY    New York     "
      ]
     },
     "metadata": {},
     "output_type": "display_data"
    }
   ],
   "source": [
    "dset <- unique(dat[,c(\"super_opeid\",\"name\",\"type\",\"tier\",\"tier_name\",\"iclevel\",\"region\",\"state\",\"czname\")])\n",
    "head(dset)"
   ]
  },
  {
   "cell_type": "code",
   "execution_count": 36,
   "metadata": {},
   "outputs": [
    {
     "data": {
      "text/html": [
       "<table>\n",
       "<caption>A tibble: 6 × 13</caption>\n",
       "<thead>\n",
       "\t<tr><th scope=col>super_opeid</th><th scope=col>name</th><th scope=col>type</th><th scope=col>tier</th><th scope=col>tier_name</th><th scope=col>iclevel</th><th scope=col>region</th><th scope=col>state</th><th scope=col>czname</th><th scope=col>q1up</th><th scope=col>q2up</th><th scope=col>q3up</th><th scope=col>q4up</th></tr>\n",
       "\t<tr><th scope=col>&lt;dbl&gt;</th><th scope=col>&lt;chr&gt;</th><th scope=col>&lt;dbl&gt;</th><th scope=col>&lt;dbl&gt;</th><th scope=col>&lt;chr&gt;</th><th scope=col>&lt;dbl&gt;</th><th scope=col>&lt;dbl&gt;</th><th scope=col>&lt;chr&gt;</th><th scope=col>&lt;chr&gt;</th><th scope=col>&lt;dbl&gt;</th><th scope=col>&lt;dbl&gt;</th><th scope=col>&lt;dbl&gt;</th><th scope=col>&lt;dbl&gt;</th></tr>\n",
       "</thead>\n",
       "<tbody>\n",
       "\t<tr><td>30955</td><td>ASA Institute Of Business &amp; Computer Technology</td><td>3</td><td>11</td><td><span style=white-space:pre-wrap>Two-year for-profit          </span></td><td>2</td><td>1</td><td>NY</td><td><span style=white-space:pre-wrap>New York     </span></td><td>0.8208468</td><td>0.5620435</td><td>0.3091127</td><td>0.1156441</td></tr>\n",
       "\t<tr><td> 3537</td><td>Abilene Christian University                   </td><td>2</td><td> 6</td><td>Selective private            </td><td>1</td><td>3</td><td>TX</td><td>Abilene      </td><td>0.9058552</td><td>0.6841733</td><td>0.4891389</td><td>0.3146711</td></tr>\n",
       "\t<tr><td> 1541</td><td>Abraham Baldwin Agricultural College           </td><td>1</td><td> 7</td><td>Nonselective four-year public</td><td>1</td><td>3</td><td>GA</td><td>Valdosta     </td><td>0.8235093</td><td>0.6570189</td><td>0.4731862</td><td>0.2012344</td></tr>\n",
       "\t<tr><td> 7531</td><td>Academy Of Art University                      </td><td>3</td><td>10</td><td>Four-year for-profit         </td><td>1</td><td>4</td><td>CA</td><td>San Francisco</td><td>0.7329699</td><td>0.5993741</td><td>0.3980640</td><td>0.2519145</td></tr>\n",
       "\t<tr><td> 1345</td><td>Adams State University                         </td><td>1</td><td> 5</td><td>Selective public             </td><td>1</td><td>4</td><td>CO</td><td>Alamosa      </td><td>0.8300070</td><td>0.6874876</td><td>0.4829557</td><td>0.2034337</td></tr>\n",
       "\t<tr><td> 2666</td><td>Adelphi University                             </td><td>2</td><td> 6</td><td>Selective private            </td><td>1</td><td>1</td><td>NY</td><td>New York     </td><td>0.9015248</td><td>0.7578637</td><td>0.6316984</td><td>0.4280847</td></tr>\n",
       "</tbody>\n",
       "</table>\n"
      ],
      "text/latex": [
       "A tibble: 6 × 13\n",
       "\\begin{tabular}{r|lllllllllllll}\n",
       " super\\_opeid & name & type & tier & tier\\_name & iclevel & region & state & czname & q1up & q2up & q3up & q4up\\\\\n",
       " <dbl> & <chr> & <dbl> & <dbl> & <chr> & <dbl> & <dbl> & <chr> & <chr> & <dbl> & <dbl> & <dbl> & <dbl>\\\\\n",
       "\\hline\n",
       "\t 30955 & ASA Institute Of Business \\& Computer Technology & 3 & 11 & Two-year for-profit           & 2 & 1 & NY & New York      & 0.8208468 & 0.5620435 & 0.3091127 & 0.1156441\\\\\n",
       "\t  3537 & Abilene Christian University                    & 2 &  6 & Selective private             & 1 & 3 & TX & Abilene       & 0.9058552 & 0.6841733 & 0.4891389 & 0.3146711\\\\\n",
       "\t  1541 & Abraham Baldwin Agricultural College            & 1 &  7 & Nonselective four-year public & 1 & 3 & GA & Valdosta      & 0.8235093 & 0.6570189 & 0.4731862 & 0.2012344\\\\\n",
       "\t  7531 & Academy Of Art University                       & 3 & 10 & Four-year for-profit          & 1 & 4 & CA & San Francisco & 0.7329699 & 0.5993741 & 0.3980640 & 0.2519145\\\\\n",
       "\t  1345 & Adams State University                          & 1 &  5 & Selective public              & 1 & 4 & CO & Alamosa       & 0.8300070 & 0.6874876 & 0.4829557 & 0.2034337\\\\\n",
       "\t  2666 & Adelphi University                              & 2 &  6 & Selective private             & 1 & 1 & NY & New York      & 0.9015248 & 0.7578637 & 0.6316984 & 0.4280847\\\\\n",
       "\\end{tabular}\n"
      ],
      "text/markdown": [
       "\n",
       "A tibble: 6 × 13\n",
       "\n",
       "| super_opeid &lt;dbl&gt; | name &lt;chr&gt; | type &lt;dbl&gt; | tier &lt;dbl&gt; | tier_name &lt;chr&gt; | iclevel &lt;dbl&gt; | region &lt;dbl&gt; | state &lt;chr&gt; | czname &lt;chr&gt; | q1up &lt;dbl&gt; | q2up &lt;dbl&gt; | q3up &lt;dbl&gt; | q4up &lt;dbl&gt; |\n",
       "|---|---|---|---|---|---|---|---|---|---|---|---|---|\n",
       "| 30955 | ASA Institute Of Business &amp; Computer Technology | 3 | 11 | Two-year for-profit           | 2 | 1 | NY | New York      | 0.8208468 | 0.5620435 | 0.3091127 | 0.1156441 |\n",
       "|  3537 | Abilene Christian University                    | 2 |  6 | Selective private             | 1 | 3 | TX | Abilene       | 0.9058552 | 0.6841733 | 0.4891389 | 0.3146711 |\n",
       "|  1541 | Abraham Baldwin Agricultural College            | 1 |  7 | Nonselective four-year public | 1 | 3 | GA | Valdosta      | 0.8235093 | 0.6570189 | 0.4731862 | 0.2012344 |\n",
       "|  7531 | Academy Of Art University                       | 3 | 10 | Four-year for-profit          | 1 | 4 | CA | San Francisco | 0.7329699 | 0.5993741 | 0.3980640 | 0.2519145 |\n",
       "|  1345 | Adams State University                          | 1 |  5 | Selective public              | 1 | 4 | CO | Alamosa       | 0.8300070 | 0.6874876 | 0.4829557 | 0.2034337 |\n",
       "|  2666 | Adelphi University                              | 2 |  6 | Selective private             | 1 | 1 | NY | New York      | 0.9015248 | 0.7578637 | 0.6316984 | 0.4280847 |\n",
       "\n"
      ],
      "text/plain": [
       "  super_opeid name                                            type tier\n",
       "1 30955       ASA Institute Of Business & Computer Technology 3    11  \n",
       "2  3537       Abilene Christian University                    2     6  \n",
       "3  1541       Abraham Baldwin Agricultural College            1     7  \n",
       "4  7531       Academy Of Art University                       3    10  \n",
       "5  1345       Adams State University                          1     5  \n",
       "6  2666       Adelphi University                              2     6  \n",
       "  tier_name                     iclevel region state czname        q1up     \n",
       "1 Two-year for-profit           2       1      NY    New York      0.8208468\n",
       "2 Selective private             1       3      TX    Abilene       0.9058552\n",
       "3 Nonselective four-year public 1       3      GA    Valdosta      0.8235093\n",
       "4 Four-year for-profit          1       4      CA    San Francisco 0.7329699\n",
       "5 Selective public              1       4      CO    Alamosa       0.8300070\n",
       "6 Selective private             1       1      NY    New York      0.9015248\n",
       "  q2up      q3up      q4up     \n",
       "1 0.5620435 0.3091127 0.1156441\n",
       "2 0.6841733 0.4891389 0.3146711\n",
       "3 0.6570189 0.4731862 0.2012344\n",
       "4 0.5993741 0.3980640 0.2519145\n",
       "5 0.6874876 0.4829557 0.2034337\n",
       "6 0.7578637 0.6316984 0.4280847"
      ]
     },
     "metadata": {},
     "output_type": "display_data"
    }
   ],
   "source": [
    "dset$q1up <- rowSums(dat[,c(\"kq2_cond_parq1\",\"kq3_cond_parq1\",\"kq4_cond_parq1\",\"kq5_cond_parq1\")])\n",
    "dset$q2up <- rowSums(dat[,c(\"kq3_cond_parq2\",\"kq4_cond_parq2\",\"kq5_cond_parq2\")])\n",
    "dset$q3up <- rowSums(dat[,c(\"kq4_cond_parq3\",\"kq5_cond_parq3\")])\n",
    "dset$q4up <- rowSums(dat[,c(\"kq5_cond_parq4\")])\n",
    "\n",
    "\n",
    "head(dset)"
   ]
  },
  {
   "cell_type": "code",
   "execution_count": 40,
   "metadata": {},
   "outputs": [
    {
     "data": {
      "text/html": [
       "<table>\n",
       "<caption>A tibble: 6 × 17</caption>\n",
       "<thead>\n",
       "\t<tr><th scope=col>super_opeid</th><th scope=col>name</th><th scope=col>type</th><th scope=col>tier</th><th scope=col>tier_name</th><th scope=col>iclevel</th><th scope=col>region</th><th scope=col>state</th><th scope=col>czname</th><th scope=col>q1up</th><th scope=col>q2up</th><th scope=col>q3up</th><th scope=col>q4up</th><th scope=col>q5down</th><th scope=col>q4down</th><th scope=col>q3down</th><th scope=col>q2down</th></tr>\n",
       "\t<tr><th scope=col>&lt;dbl&gt;</th><th scope=col>&lt;chr&gt;</th><th scope=col>&lt;dbl&gt;</th><th scope=col>&lt;dbl&gt;</th><th scope=col>&lt;chr&gt;</th><th scope=col>&lt;dbl&gt;</th><th scope=col>&lt;dbl&gt;</th><th scope=col>&lt;chr&gt;</th><th scope=col>&lt;chr&gt;</th><th scope=col>&lt;dbl&gt;</th><th scope=col>&lt;dbl&gt;</th><th scope=col>&lt;dbl&gt;</th><th scope=col>&lt;dbl&gt;</th><th scope=col>&lt;dbl&gt;</th><th scope=col>&lt;dbl&gt;</th><th scope=col>&lt;dbl&gt;</th><th scope=col>&lt;dbl&gt;</th></tr>\n",
       "</thead>\n",
       "<tbody>\n",
       "\t<tr><td>30955</td><td>ASA Institute Of Business &amp; Computer Technology</td><td>3</td><td>11</td><td><span style=white-space:pre-wrap>Two-year for-profit          </span></td><td>2</td><td>1</td><td>NY</td><td><span style=white-space:pre-wrap>New York     </span></td><td>0.8208468</td><td>0.5620435</td><td>0.3091127</td><td>0.1156441</td><td>0.8027672</td><td>0.5985450</td><td>0.4154366</td><td>0.1655211</td></tr>\n",
       "\t<tr><td> 3537</td><td>Abilene Christian University                   </td><td>2</td><td> 6</td><td>Selective private            </td><td>1</td><td>3</td><td>TX</td><td>Abilene      </td><td>0.9058552</td><td>0.6841733</td><td>0.4891389</td><td>0.3146711</td><td>0.6381276</td><td>0.4520373</td><td>0.3024865</td><td>0.1861876</td></tr>\n",
       "\t<tr><td> 1541</td><td>Abraham Baldwin Agricultural College           </td><td>1</td><td> 7</td><td>Nonselective four-year public</td><td>1</td><td>3</td><td>GA</td><td>Valdosta     </td><td>0.8235093</td><td>0.6570189</td><td>0.4731862</td><td>0.2012344</td><td>0.7749280</td><td>0.4931138</td><td>0.2545018</td><td>0.1140146</td></tr>\n",
       "\t<tr><td> 7531</td><td>Academy Of Art University                      </td><td>3</td><td>10</td><td>Four-year for-profit         </td><td>1</td><td>4</td><td>CA</td><td>San Francisco</td><td>0.7329699</td><td>0.5993741</td><td>0.3980640</td><td>0.2519145</td><td>0.7033950</td><td>0.5591806</td><td>0.4205924</td><td>0.2090548</td></tr>\n",
       "\t<tr><td> 1345</td><td>Adams State University                         </td><td>1</td><td> 5</td><td>Selective public             </td><td>1</td><td>4</td><td>CO</td><td>Alamosa      </td><td>0.8300070</td><td>0.6874876</td><td>0.4829557</td><td>0.2034337</td><td>0.7084363</td><td>0.5045686</td><td>0.2529271</td><td>0.1288845</td></tr>\n",
       "\t<tr><td> 2666</td><td>Adelphi University                             </td><td>2</td><td> 6</td><td>Selective private            </td><td>1</td><td>1</td><td>NY</td><td>New York     </td><td>0.9015248</td><td>0.7578637</td><td>0.6316984</td><td>0.4280847</td><td>0.5137543</td><td>0.3818990</td><td>0.1971782</td><td>0.1281903</td></tr>\n",
       "</tbody>\n",
       "</table>\n"
      ],
      "text/latex": [
       "A tibble: 6 × 17\n",
       "\\begin{tabular}{r|lllllllllllllllll}\n",
       " super\\_opeid & name & type & tier & tier\\_name & iclevel & region & state & czname & q1up & q2up & q3up & q4up & q5down & q4down & q3down & q2down\\\\\n",
       " <dbl> & <chr> & <dbl> & <dbl> & <chr> & <dbl> & <dbl> & <chr> & <chr> & <dbl> & <dbl> & <dbl> & <dbl> & <dbl> & <dbl> & <dbl> & <dbl>\\\\\n",
       "\\hline\n",
       "\t 30955 & ASA Institute Of Business \\& Computer Technology & 3 & 11 & Two-year for-profit           & 2 & 1 & NY & New York      & 0.8208468 & 0.5620435 & 0.3091127 & 0.1156441 & 0.8027672 & 0.5985450 & 0.4154366 & 0.1655211\\\\\n",
       "\t  3537 & Abilene Christian University                    & 2 &  6 & Selective private             & 1 & 3 & TX & Abilene       & 0.9058552 & 0.6841733 & 0.4891389 & 0.3146711 & 0.6381276 & 0.4520373 & 0.3024865 & 0.1861876\\\\\n",
       "\t  1541 & Abraham Baldwin Agricultural College            & 1 &  7 & Nonselective four-year public & 1 & 3 & GA & Valdosta      & 0.8235093 & 0.6570189 & 0.4731862 & 0.2012344 & 0.7749280 & 0.4931138 & 0.2545018 & 0.1140146\\\\\n",
       "\t  7531 & Academy Of Art University                       & 3 & 10 & Four-year for-profit          & 1 & 4 & CA & San Francisco & 0.7329699 & 0.5993741 & 0.3980640 & 0.2519145 & 0.7033950 & 0.5591806 & 0.4205924 & 0.2090548\\\\\n",
       "\t  1345 & Adams State University                          & 1 &  5 & Selective public              & 1 & 4 & CO & Alamosa       & 0.8300070 & 0.6874876 & 0.4829557 & 0.2034337 & 0.7084363 & 0.5045686 & 0.2529271 & 0.1288845\\\\\n",
       "\t  2666 & Adelphi University                              & 2 &  6 & Selective private             & 1 & 1 & NY & New York      & 0.9015248 & 0.7578637 & 0.6316984 & 0.4280847 & 0.5137543 & 0.3818990 & 0.1971782 & 0.1281903\\\\\n",
       "\\end{tabular}\n"
      ],
      "text/markdown": [
       "\n",
       "A tibble: 6 × 17\n",
       "\n",
       "| super_opeid &lt;dbl&gt; | name &lt;chr&gt; | type &lt;dbl&gt; | tier &lt;dbl&gt; | tier_name &lt;chr&gt; | iclevel &lt;dbl&gt; | region &lt;dbl&gt; | state &lt;chr&gt; | czname &lt;chr&gt; | q1up &lt;dbl&gt; | q2up &lt;dbl&gt; | q3up &lt;dbl&gt; | q4up &lt;dbl&gt; | q5down &lt;dbl&gt; | q4down &lt;dbl&gt; | q3down &lt;dbl&gt; | q2down &lt;dbl&gt; |\n",
       "|---|---|---|---|---|---|---|---|---|---|---|---|---|---|---|---|---|\n",
       "| 30955 | ASA Institute Of Business &amp; Computer Technology | 3 | 11 | Two-year for-profit           | 2 | 1 | NY | New York      | 0.8208468 | 0.5620435 | 0.3091127 | 0.1156441 | 0.8027672 | 0.5985450 | 0.4154366 | 0.1655211 |\n",
       "|  3537 | Abilene Christian University                    | 2 |  6 | Selective private             | 1 | 3 | TX | Abilene       | 0.9058552 | 0.6841733 | 0.4891389 | 0.3146711 | 0.6381276 | 0.4520373 | 0.3024865 | 0.1861876 |\n",
       "|  1541 | Abraham Baldwin Agricultural College            | 1 |  7 | Nonselective four-year public | 1 | 3 | GA | Valdosta      | 0.8235093 | 0.6570189 | 0.4731862 | 0.2012344 | 0.7749280 | 0.4931138 | 0.2545018 | 0.1140146 |\n",
       "|  7531 | Academy Of Art University                       | 3 | 10 | Four-year for-profit          | 1 | 4 | CA | San Francisco | 0.7329699 | 0.5993741 | 0.3980640 | 0.2519145 | 0.7033950 | 0.5591806 | 0.4205924 | 0.2090548 |\n",
       "|  1345 | Adams State University                          | 1 |  5 | Selective public              | 1 | 4 | CO | Alamosa       | 0.8300070 | 0.6874876 | 0.4829557 | 0.2034337 | 0.7084363 | 0.5045686 | 0.2529271 | 0.1288845 |\n",
       "|  2666 | Adelphi University                              | 2 |  6 | Selective private             | 1 | 1 | NY | New York      | 0.9015248 | 0.7578637 | 0.6316984 | 0.4280847 | 0.5137543 | 0.3818990 | 0.1971782 | 0.1281903 |\n",
       "\n"
      ],
      "text/plain": [
       "  super_opeid name                                            type tier\n",
       "1 30955       ASA Institute Of Business & Computer Technology 3    11  \n",
       "2  3537       Abilene Christian University                    2     6  \n",
       "3  1541       Abraham Baldwin Agricultural College            1     7  \n",
       "4  7531       Academy Of Art University                       3    10  \n",
       "5  1345       Adams State University                          1     5  \n",
       "6  2666       Adelphi University                              2     6  \n",
       "  tier_name                     iclevel region state czname        q1up     \n",
       "1 Two-year for-profit           2       1      NY    New York      0.8208468\n",
       "2 Selective private             1       3      TX    Abilene       0.9058552\n",
       "3 Nonselective four-year public 1       3      GA    Valdosta      0.8235093\n",
       "4 Four-year for-profit          1       4      CA    San Francisco 0.7329699\n",
       "5 Selective public              1       4      CO    Alamosa       0.8300070\n",
       "6 Selective private             1       1      NY    New York      0.9015248\n",
       "  q2up      q3up      q4up      q5down    q4down    q3down    q2down   \n",
       "1 0.5620435 0.3091127 0.1156441 0.8027672 0.5985450 0.4154366 0.1655211\n",
       "2 0.6841733 0.4891389 0.3146711 0.6381276 0.4520373 0.3024865 0.1861876\n",
       "3 0.6570189 0.4731862 0.2012344 0.7749280 0.4931138 0.2545018 0.1140146\n",
       "4 0.5993741 0.3980640 0.2519145 0.7033950 0.5591806 0.4205924 0.2090548\n",
       "5 0.6874876 0.4829557 0.2034337 0.7084363 0.5045686 0.2529271 0.1288845\n",
       "6 0.7578637 0.6316984 0.4280847 0.5137543 0.3818990 0.1971782 0.1281903"
      ]
     },
     "metadata": {},
     "output_type": "display_data"
    }
   ],
   "source": [
    "# These codes are not used in the following calculation, just in case if you guys want to analyze how do kids with parrents in different quintile do.\n",
    "dset$q5down <- rowSums(dat[,c(\"kq4_cond_parq5\",\"kq3_cond_parq5\",\"kq2_cond_parq5\",\"kq1_cond_parq5\")])\n",
    "dset$q4down <- rowSums(dat[,c(\"kq3_cond_parq4\",\"kq2_cond_parq4\",\"kq1_cond_parq4\")])\n",
    "dset$q3down <- rowSums(dat[,c(\"kq2_cond_parq3\",\"kq1_cond_parq3\")])\n",
    "dset$q2down <- rowSums(dat[,c(\"kq1_cond_parq2\")])\n",
    "head(dset)"
   ]
  },
  {
   "cell_type": "code",
   "execution_count": 45,
   "metadata": {},
   "outputs": [
    {
     "data": {
      "text/html": [
       "<table>\n",
       "<caption>A tibble: 6 × 23</caption>\n",
       "<thead>\n",
       "\t<tr><th scope=col>super_opeid</th><th scope=col>name</th><th scope=col>type</th><th scope=col>tier</th><th scope=col>tier_name</th><th scope=col>iclevel</th><th scope=col>region</th><th scope=col>state</th><th scope=col>czname</th><th scope=col>q1up</th><th scope=col>⋯</th><th scope=col>q5down</th><th scope=col>q4down</th><th scope=col>q3down</th><th scope=col>q2down</th><th scope=col>mobility</th><th scope=col>mobility1</th><th scope=col>mobility2</th><th scope=col>mobility3</th><th scope=col>mobility4</th><th scope=col>mobility5</th></tr>\n",
       "\t<tr><th scope=col>&lt;dbl&gt;</th><th scope=col>&lt;chr&gt;</th><th scope=col>&lt;dbl&gt;</th><th scope=col>&lt;dbl&gt;</th><th scope=col>&lt;chr&gt;</th><th scope=col>&lt;dbl&gt;</th><th scope=col>&lt;dbl&gt;</th><th scope=col>&lt;chr&gt;</th><th scope=col>&lt;chr&gt;</th><th scope=col>&lt;dbl&gt;</th><th scope=col>⋯</th><th scope=col>&lt;dbl&gt;</th><th scope=col>&lt;dbl&gt;</th><th scope=col>&lt;dbl&gt;</th><th scope=col>&lt;dbl&gt;</th><th scope=col>&lt;dbl&gt;</th><th scope=col>&lt;dbl&gt;</th><th scope=col>&lt;dbl&gt;</th><th scope=col>&lt;dbl&gt;</th><th scope=col>&lt;dbl&gt;</th><th scope=col>&lt;dbl&gt;</th></tr>\n",
       "</thead>\n",
       "<tbody>\n",
       "\t<tr><td>30955</td><td>ASA Institute Of Business &amp; Computer Technology</td><td>3</td><td>11</td><td><span style=white-space:pre-wrap>Two-year for-profit          </span></td><td>2</td><td>1</td><td>NY</td><td><span style=white-space:pre-wrap>New York     </span></td><td>0.8208468</td><td>⋯</td><td>0.8027672</td><td>0.5985450</td><td>0.4154366</td><td>0.1655211</td><td>-0.7957861</td><td>1.584773</td><td>0.7737764</td><td>-0.2276384</td><td>-1.0343600</td><td>-1.892337</td></tr>\n",
       "\t<tr><td> 3537</td><td>Abilene Christian University                   </td><td>2</td><td> 6</td><td>Selective private            </td><td>1</td><td>3</td><td>TX</td><td>Abilene      </td><td>0.9058552</td><td>⋯</td><td>0.6381276</td><td>0.4520373</td><td>0.3024865</td><td>0.1861876</td><td> 2.0071932</td><td>2.518216</td><td>1.2263793</td><td> 0.2446637</td><td>-0.5531854</td><td>-1.428880</td></tr>\n",
       "\t<tr><td> 1541</td><td>Abraham Baldwin Agricultural College           </td><td>1</td><td> 7</td><td>Nonselective four-year public</td><td>1</td><td>3</td><td>GA</td><td>Valdosta     </td><td>0.8235093</td><td>⋯</td><td>0.7749280</td><td>0.4931138</td><td>0.2545018</td><td>0.1140146</td><td> 0.8160261</td><td>1.786050</td><td>1.0564324</td><td> 0.2603396</td><td>-0.6441070</td><td>-1.642689</td></tr>\n",
       "\t<tr><td> 7531</td><td>Academy Of Art University                      </td><td>3</td><td>10</td><td>Four-year for-profit         </td><td>1</td><td>4</td><td>CA</td><td>San Francisco</td><td>0.7329699</td><td>⋯</td><td>0.7033950</td><td>0.5591806</td><td>0.4205924</td><td>0.2090548</td><td> 0.1080854</td><td>1.796664</td><td>1.0148164</td><td> 0.0288504</td><td>-0.8986257</td><td>-1.833620</td></tr>\n",
       "\t<tr><td> 1345</td><td>Adams State University                         </td><td>1</td><td> 5</td><td>Selective public             </td><td>1</td><td>4</td><td>CO</td><td>Alamosa      </td><td>0.8300070</td><td>⋯</td><td>0.7084363</td><td>0.5045686</td><td>0.2529271</td><td>0.1288845</td><td> 1.2915529</td><td>2.013698</td><td>1.1726510</td><td> 0.3264908</td><td>-0.6955311</td><td>-1.525756</td></tr>\n",
       "\t<tr><td> 2666</td><td>Adelphi University                             </td><td>2</td><td> 6</td><td>Selective private            </td><td>1</td><td>1</td><td>NY</td><td>New York     </td><td>0.9015248</td><td>⋯</td><td>0.5137543</td><td>0.3818990</td><td>0.1971782</td><td>0.1281903</td><td> 3.6559698</td><td>2.634732</td><td>1.6490488</td><td> 0.7790028</td><td>-0.2609731</td><td>-1.145841</td></tr>\n",
       "</tbody>\n",
       "</table>\n"
      ],
      "text/latex": [
       "A tibble: 6 × 23\n",
       "\\begin{tabular}{r|lllllllllllllllllllllll}\n",
       " super\\_opeid & name & type & tier & tier\\_name & iclevel & region & state & czname & q1up & q2up & q3up & q4up & q5down & q4down & q3down & q2down & mobility & mobility1 & mobility2 & mobility3 & mobility4 & mobility5\\\\\n",
       " <dbl> & <chr> & <dbl> & <dbl> & <chr> & <dbl> & <dbl> & <chr> & <chr> & <dbl> & <dbl> & <dbl> & <dbl> & <dbl> & <dbl> & <dbl> & <dbl> & <dbl> & <dbl> & <dbl> & <dbl> & <dbl> & <dbl>\\\\\n",
       "\\hline\n",
       "\t 30955 & ASA Institute Of Business \\& Computer Technology & 3 & 11 & Two-year for-profit           & 2 & 1 & NY & New York      & 0.8208468 & 0.5620435 & 0.3091127 & 0.1156441 & 0.8027672 & 0.5985450 & 0.4154366 & 0.1655211 & -0.7957861 & 1.584773 & 0.7737764 & -0.2276384 & -1.0343600 & -1.892337\\\\\n",
       "\t  3537 & Abilene Christian University                    & 2 &  6 & Selective private             & 1 & 3 & TX & Abilene       & 0.9058552 & 0.6841733 & 0.4891389 & 0.3146711 & 0.6381276 & 0.4520373 & 0.3024865 & 0.1861876 &  2.0071932 & 2.518216 & 1.2263793 &  0.2446637 & -0.5531854 & -1.428880\\\\\n",
       "\t  1541 & Abraham Baldwin Agricultural College            & 1 &  7 & Nonselective four-year public & 1 & 3 & GA & Valdosta      & 0.8235093 & 0.6570189 & 0.4731862 & 0.2012344 & 0.7749280 & 0.4931138 & 0.2545018 & 0.1140146 &  0.8160261 & 1.786050 & 1.0564324 &  0.2603396 & -0.6441070 & -1.642689\\\\\n",
       "\t  7531 & Academy Of Art University                       & 3 & 10 & Four-year for-profit          & 1 & 4 & CA & San Francisco & 0.7329699 & 0.5993741 & 0.3980640 & 0.2519145 & 0.7033950 & 0.5591806 & 0.4205924 & 0.2090548 &  0.1080854 & 1.796664 & 1.0148164 &  0.0288504 & -0.8986257 & -1.833620\\\\\n",
       "\t  1345 & Adams State University                          & 1 &  5 & Selective public              & 1 & 4 & CO & Alamosa       & 0.8300070 & 0.6874876 & 0.4829557 & 0.2034337 & 0.7084363 & 0.5045686 & 0.2529271 & 0.1288845 &  1.2915529 & 2.013698 & 1.1726510 &  0.3264908 & -0.6955311 & -1.525756\\\\\n",
       "\t  2666 & Adelphi University                              & 2 &  6 & Selective private             & 1 & 1 & NY & New York      & 0.9015248 & 0.7578637 & 0.6316984 & 0.4280847 & 0.5137543 & 0.3818990 & 0.1971782 & 0.1281903 &  3.6559698 & 2.634732 & 1.6490488 &  0.7790028 & -0.2609731 & -1.145841\\\\\n",
       "\\end{tabular}\n"
      ],
      "text/markdown": [
       "\n",
       "A tibble: 6 × 23\n",
       "\n",
       "| super_opeid &lt;dbl&gt; | name &lt;chr&gt; | type &lt;dbl&gt; | tier &lt;dbl&gt; | tier_name &lt;chr&gt; | iclevel &lt;dbl&gt; | region &lt;dbl&gt; | state &lt;chr&gt; | czname &lt;chr&gt; | q1up &lt;dbl&gt; | ⋯ ⋯ | q5down &lt;dbl&gt; | q4down &lt;dbl&gt; | q3down &lt;dbl&gt; | q2down &lt;dbl&gt; | mobility &lt;dbl&gt; | mobility1 &lt;dbl&gt; | mobility2 &lt;dbl&gt; | mobility3 &lt;dbl&gt; | mobility4 &lt;dbl&gt; | mobility5 &lt;dbl&gt; |\n",
       "|---|---|---|---|---|---|---|---|---|---|---|---|---|---|---|---|---|---|---|---|---|\n",
       "| 30955 | ASA Institute Of Business &amp; Computer Technology | 3 | 11 | Two-year for-profit           | 2 | 1 | NY | New York      | 0.8208468 | ⋯ | 0.8027672 | 0.5985450 | 0.4154366 | 0.1655211 | -0.7957861 | 1.584773 | 0.7737764 | -0.2276384 | -1.0343600 | -1.892337 |\n",
       "|  3537 | Abilene Christian University                    | 2 |  6 | Selective private             | 1 | 3 | TX | Abilene       | 0.9058552 | ⋯ | 0.6381276 | 0.4520373 | 0.3024865 | 0.1861876 |  2.0071932 | 2.518216 | 1.2263793 |  0.2446637 | -0.5531854 | -1.428880 |\n",
       "|  1541 | Abraham Baldwin Agricultural College            | 1 |  7 | Nonselective four-year public | 1 | 3 | GA | Valdosta      | 0.8235093 | ⋯ | 0.7749280 | 0.4931138 | 0.2545018 | 0.1140146 |  0.8160261 | 1.786050 | 1.0564324 |  0.2603396 | -0.6441070 | -1.642689 |\n",
       "|  7531 | Academy Of Art University                       | 3 | 10 | Four-year for-profit          | 1 | 4 | CA | San Francisco | 0.7329699 | ⋯ | 0.7033950 | 0.5591806 | 0.4205924 | 0.2090548 |  0.1080854 | 1.796664 | 1.0148164 |  0.0288504 | -0.8986257 | -1.833620 |\n",
       "|  1345 | Adams State University                          | 1 |  5 | Selective public              | 1 | 4 | CO | Alamosa       | 0.8300070 | ⋯ | 0.7084363 | 0.5045686 | 0.2529271 | 0.1288845 |  1.2915529 | 2.013698 | 1.1726510 |  0.3264908 | -0.6955311 | -1.525756 |\n",
       "|  2666 | Adelphi University                              | 2 |  6 | Selective private             | 1 | 1 | NY | New York      | 0.9015248 | ⋯ | 0.5137543 | 0.3818990 | 0.1971782 | 0.1281903 |  3.6559698 | 2.634732 | 1.6490488 |  0.7790028 | -0.2609731 | -1.145841 |\n",
       "\n"
      ],
      "text/plain": [
       "  super_opeid name                                            type tier\n",
       "1 30955       ASA Institute Of Business & Computer Technology 3    11  \n",
       "2  3537       Abilene Christian University                    2     6  \n",
       "3  1541       Abraham Baldwin Agricultural College            1     7  \n",
       "4  7531       Academy Of Art University                       3    10  \n",
       "5  1345       Adams State University                          1     5  \n",
       "6  2666       Adelphi University                              2     6  \n",
       "  tier_name                     iclevel region state czname        q1up      ⋯\n",
       "1 Two-year for-profit           2       1      NY    New York      0.8208468 ⋯\n",
       "2 Selective private             1       3      TX    Abilene       0.9058552 ⋯\n",
       "3 Nonselective four-year public 1       3      GA    Valdosta      0.8235093 ⋯\n",
       "4 Four-year for-profit          1       4      CA    San Francisco 0.7329699 ⋯\n",
       "5 Selective public              1       4      CO    Alamosa       0.8300070 ⋯\n",
       "6 Selective private             1       1      NY    New York      0.9015248 ⋯\n",
       "  q5down    q4down    q3down    q2down    mobility   mobility1 mobility2\n",
       "1 0.8027672 0.5985450 0.4154366 0.1655211 -0.7957861 1.584773  0.7737764\n",
       "2 0.6381276 0.4520373 0.3024865 0.1861876  2.0071932 2.518216  1.2263793\n",
       "3 0.7749280 0.4931138 0.2545018 0.1140146  0.8160261 1.786050  1.0564324\n",
       "4 0.7033950 0.5591806 0.4205924 0.2090548  0.1080854 1.796664  1.0148164\n",
       "5 0.7084363 0.5045686 0.2529271 0.1288845  1.2915529 2.013698  1.1726510\n",
       "6 0.5137543 0.3818990 0.1971782 0.1281903  3.6559698 2.634732  1.6490488\n",
       "  mobility3  mobility4  mobility5\n",
       "1 -0.2276384 -1.0343600 -1.892337\n",
       "2  0.2446637 -0.5531854 -1.428880\n",
       "3  0.2603396 -0.6441070 -1.642689\n",
       "4  0.0288504 -0.8986257 -1.833620\n",
       "5  0.3264908 -0.6955311 -1.525756\n",
       "6  0.7790028 -0.2609731 -1.145841"
      ]
     },
     "metadata": {},
     "output_type": "display_data"
    }
   ],
   "source": [
    "idx <- function(k, v1, v2, v3, v4, v5){\n",
    "    a <- rowSums(cbind((1-k)*v1, (2-k)*v2, (3-k)*v3, (4-k)*v4, (5-k)*v5))\n",
    "    return(a)\n",
    "}\n",
    "\n",
    "dset$mobility1 <- idx(1, dat$kq1_cond_parq1, dat$kq2_cond_parq1, dat$kq3_cond_parq1, dat$kq4_cond_parq1, dat$kq5_cond_parq1)\n",
    "dset$mobility2 <- idx(2, dat$kq1_cond_parq2, dat$kq2_cond_parq2, dat$kq3_cond_parq2, dat$kq4_cond_parq2, dat$kq5_cond_parq2)\n",
    "dset$mobility3 <- idx(3, dat$kq1_cond_parq3, dat$kq2_cond_parq3, dat$kq3_cond_parq3, dat$kq4_cond_parq3, dat$kq5_cond_parq3)\n",
    "dset$mobility4 <- idx(4, dat$kq1_cond_parq4, dat$kq2_cond_parq4, dat$kq3_cond_parq4, dat$kq4_cond_parq4, dat$kq5_cond_parq4)\n",
    "dset$mobility5 <- idx(5, dat$kq1_cond_parq5, dat$kq2_cond_parq5, dat$kq3_cond_parq5, dat$kq4_cond_parq5, dat$kq5_cond_parq5)\n",
    "dset$mobility  <- rowSums(cbind(dset$mobility1,dset$mobility2,dset$mobility3,dset$mobility4,dset$mobility5))\n",
    "\n",
    "head(dset)"
   ]
  },
  {
   "cell_type": "markdown",
   "metadata": {},
   "source": [
    "### Question 1. Does college education in the U.S. increase upward mobility of the younger generation?"
   ]
  },
  {
   "cell_type": "code",
   "execution_count": 46,
   "metadata": {},
   "outputs": [
    {
     "data": {
      "text/plain": [
       "\n",
       "\tOne Sample t-test\n",
       "\n",
       "data:  dset$mobility\n",
       "t = 37.836, df = 2198, p-value < 2.2e-16\n",
       "alternative hypothesis: true mean is not equal to 0\n",
       "95 percent confidence interval:\n",
       " 1.438530 1.595801\n",
       "sample estimates:\n",
       "mean of x \n",
       " 1.517165 \n"
      ]
     },
     "metadata": {},
     "output_type": "display_data"
    }
   ],
   "source": [
    "t.test(dset$mobility)"
   ]
  },
  {
   "cell_type": "markdown",
   "metadata": {},
   "source": [
    "### Question 2. Does attending public or private colleges make a difference in terms of upward mobility?"
   ]
  },
  {
   "cell_type": "code",
   "execution_count": 57,
   "metadata": {},
   "outputs": [
    {
     "data": {
      "text/plain": [
       "  super_opeid        name                type            tier       \n",
       " Min.   :    1   Length:2199        Min.   :1.000   Min.   : 1.000  \n",
       " 1st Qu.: 1938   Class :character   1st Qu.:1.000   1st Qu.: 6.000  \n",
       " Median : 3035   Mode  :character   Median :1.000   Median : 6.000  \n",
       " Mean   : 5324                      Mean   :1.545   Mean   : 7.103  \n",
       " 3rd Qu.: 5254                      3rd Qu.:2.000   3rd Qu.: 9.000  \n",
       " Max.   :41519                      Max.   :3.000   Max.   :12.000  \n",
       "  tier_name            iclevel          region         state          \n",
       " Length:2199        Min.   :1.000   Min.   :1.000   Length:2199       \n",
       " Class :character   1st Qu.:1.000   1st Qu.:2.000   Class :character  \n",
       " Mode  :character   Median :1.000   Median :3.000   Mode  :character  \n",
       "                    Mean   :1.402   Mean   :2.481                     \n",
       "                    3rd Qu.:2.000   3rd Qu.:3.000                     \n",
       "                    Max.   :3.000   Max.   :4.000                     \n",
       "    czname               q1up             q2up             q3up        \n",
       " Length:2199        Min.   :0.3486   Min.   :0.2650   Min.   :0.09787  \n",
       " Class :character   1st Qu.:0.8122   1st Qu.:0.6113   1st Qu.:0.39618  \n",
       " Mode  :character   Median :0.8490   Median :0.6784   Median :0.47573  \n",
       "                    Mean   :0.8448   Mean   :0.6811   Mean   :0.49345  \n",
       "                    3rd Qu.:0.8836   3rd Qu.:0.7628   3rd Qu.:0.59457  \n",
       "                    Max.   :1.0000   Max.   :0.9502   Max.   :0.92629  \n",
       "      q4up            q5down           q4down            q3down       \n",
       " Min.   :0.0000   Min.   :0.1271   Min.   :0.06122   Min.   :0.04933  \n",
       " 1st Qu.:0.1820   1st Qu.:0.6135   1st Qu.:0.36830   1st Qu.:0.21840  \n",
       " Median :0.2406   Median :0.7174   Median :0.48145   Median :0.29468  \n",
       " Mean   :0.2713   Mean   :0.6915   Mean   :0.46969   Mean   :0.29207  \n",
       " 3rd Qu.:0.3384   3rd Qu.:0.7879   3rd Qu.:0.55961   3rd Qu.:0.35301  \n",
       " Max.   :0.8195   Max.   :1.0000   Max.   :0.92991   Max.   :0.72878  \n",
       "     q2down            mobility         mobility1       mobility2      \n",
       " Min.   :0.000299   Min.   :-3.8414   Min.   :0.812   Min.   :0.00903  \n",
       " 1st Qu.:0.104633   1st Qu.: 0.1964   1st Qu.:1.771   1st Qu.:0.93187  \n",
       " Median :0.134096   Median : 1.2123   Median :2.031   Median :1.16126  \n",
       " Mean   :0.137133   Mean   : 1.5172   Mean   :2.099   Mean   :1.21910  \n",
       " 3rd Qu.:0.165708   3rd Qu.: 2.8424   3rd Qu.:2.401   3rd Qu.:1.50785  \n",
       " Max.   :0.378728   Max.   : 8.2631   Max.   :3.799   Max.   :2.54012  \n",
       "   mobility3          mobility4         mobility5           type2      \n",
       " Min.   :-0.96806   Min.   :-2.1216   Min.   :-3.1437   Min.   :1.000  \n",
       " 1st Qu.: 0.05298   1st Qu.:-0.8390   1st Qu.:-1.7835   1st Qu.:1.000  \n",
       " Median : 0.25545   Median :-0.6312   Median :-1.5633   Median :1.000  \n",
       " Mean   : 0.31509   Mean   :-0.5879   Mean   :-1.5282   Mean   :1.459  \n",
       " 3rd Qu.: 0.57555   3rd Qu.:-0.3229   3rd Qu.:-1.2629   3rd Qu.:2.000  \n",
       " Max.   : 1.64433   Max.   : 0.7053   Max.   :-0.3275   Max.   :2.000  "
      ]
     },
     "metadata": {},
     "output_type": "display_data"
    },
    {
     "data": {
      "text/plain": [
       "  super_opeid        name                type        tier       \n",
       " Min.   :    1   Length:1190        Min.   :1   Min.   : 2.000  \n",
       " 1st Qu.: 1924   Class :character   1st Qu.:1   1st Qu.: 5.000  \n",
       " Median : 3185   Mode  :character   Median :1   Median : 9.000  \n",
       " Mean   : 5032                      Mean   :1   Mean   : 7.467  \n",
       " 3rd Qu.: 5733                      3rd Qu.:1   3rd Qu.: 9.000  \n",
       " Max.   :41519                      Max.   :1   Max.   :12.000  \n",
       "  tier_name            iclevel          region         state          \n",
       " Length:1190        Min.   :1.000   Min.   :1.000   Length:1190       \n",
       " Class :character   1st Qu.:1.000   1st Qu.:2.000   Class :character  \n",
       " Mode  :character   Median :2.000   Median :3.000   Mode  :character  \n",
       "                    Mean   :1.601   Mean   :2.679                     \n",
       "                    3rd Qu.:2.000   3rd Qu.:3.000                     \n",
       "                    Max.   :3.000   Max.   :4.000                     \n",
       "    czname               q1up             q2up             q3up       \n",
       " Length:1190        Min.   :0.5933   Min.   :0.3810   Min.   :0.1582  \n",
       " Class :character   1st Qu.:0.8086   1st Qu.:0.6020   1st Qu.:0.3838  \n",
       " Mode  :character   Median :0.8403   Median :0.6447   Median :0.4353  \n",
       "                    Mean   :0.8384   Mean   :0.6569   Mean   :0.4577  \n",
       "                    3rd Qu.:0.8723   3rd Qu.:0.7208   3rd Qu.:0.5238  \n",
       "                    Max.   :1.0000   Max.   :0.9082   Max.   :0.8430  \n",
       "      q4up             q5down           q4down           q3down       \n",
       " Min.   :0.05244   Min.   :0.1523   Min.   :0.1290   Min.   :0.07614  \n",
       " 1st Qu.:0.17291   1st Qu.:0.6759   1st Qu.:0.4324   1st Qu.:0.25630  \n",
       " Median :0.22065   Median :0.7446   Median :0.5208   Median :0.32073  \n",
       " Mean   :0.23951   Mean   :0.7240   Mean   :0.5001   Mean   :0.31107  \n",
       " 3rd Qu.:0.27530   3rd Qu.:0.7970   3rd Qu.:0.5688   3rd Qu.:0.36129  \n",
       " Max.   :0.76384   Max.   :1.0000   Max.   :0.8257   Max.   :0.65919  \n",
       "     q2down            mobility           mobility1       mobility2     \n",
       " Min.   :0.008281   Min.   :-2.521666   Min.   :1.168   Min.   :0.2613  \n",
       " 1st Qu.:0.117689   1st Qu.: 0.004088   1st Qu.:1.721   1st Qu.:0.8901  \n",
       " Median :0.143403   Median : 0.655543   Median :1.914   Median :1.0433  \n",
       " Mean   :0.145899   Mean   : 1.030904   Mean   :1.976   Mean   :1.1100  \n",
       " 3rd Qu.:0.171685   3rd Qu.: 1.841354   3rd Qu.:2.168   3rd Qu.:1.2954  \n",
       " Max.   :0.295101   Max.   : 6.690271   Max.   :3.699   Max.   :2.2801  \n",
       "   mobility3          mobility4         mobility5           type2  \n",
       " Min.   :-0.69221   Min.   :-1.5167   Min.   :-2.7457   Min.   :1  \n",
       " 1st Qu.: 0.01993   1st Qu.:-0.8609   1st Qu.:-1.8103   1st Qu.:1  \n",
       " Median : 0.15633   Median :-0.7260   Median :-1.6552   Median :1  \n",
       " Mean   : 0.21963   Mean   :-0.6693   Mean   :-1.6055   Mean   :1  \n",
       " 3rd Qu.: 0.38413   3rd Qu.:-0.5005   3rd Qu.:-1.4274   3rd Qu.:1  \n",
       " Max.   : 1.43579   Max.   : 0.4920   Max.   :-0.3275   Max.   :1  "
      ]
     },
     "metadata": {},
     "output_type": "display_data"
    },
    {
     "data": {
      "text/plain": [
       "  super_opeid        name                type        tier       \n",
       " Min.   :  122   Length:819         Min.   :2   Min.   : 1.000  \n",
       " 1st Qu.: 1876   Class :character   1st Qu.:2   1st Qu.: 6.000  \n",
       " Median : 2701   Mode  :character   Median :2   Median : 6.000  \n",
       " Mean   : 3316                      Mean   :2   Mean   : 5.717  \n",
       " 3rd Qu.: 3390                      3rd Qu.:2   3rd Qu.: 6.000  \n",
       " Max.   :33283                      Max.   :2   Max.   :12.000  \n",
       "  tier_name            iclevel         region         state          \n",
       " Length:819         Min.   :1.00   Min.   :1.000   Length:819        \n",
       " Class :character   1st Qu.:1.00   1st Qu.:1.000   Class :character  \n",
       " Mode  :character   Median :1.00   Median :2.000   Mode  :character  \n",
       "                    Mean   :1.02   Mean   :2.183                     \n",
       "                    3rd Qu.:1.00   3rd Qu.:3.000                     \n",
       "                    Max.   :3.00   Max.   :4.000                     \n",
       "    czname               q1up             q2up             q3up       \n",
       " Length:819         Min.   :0.3486   Min.   :0.3624   Min.   :0.1067  \n",
       " Class :character   1st Qu.:0.8297   1st Qu.:0.6894   1st Qu.:0.4904  \n",
       " Mode  :character   Median :0.8706   Median :0.7490   Median :0.5875  \n",
       "                    Mean   :0.8601   Mean   :0.7390   Mean   :0.5786  \n",
       "                    3rd Qu.:0.9038   3rd Qu.:0.8034   3rd Qu.:0.6760  \n",
       "                    Max.   :1.0000   Max.   :0.9502   Max.   :0.9263  \n",
       "      q4up             q5down           q4down            q3down       \n",
       " Min.   :0.03312   Min.   :0.1271   Min.   :0.06122   Min.   :0.04933  \n",
       " 1st Qu.:0.23702   1st Qu.:0.5282   1st Qu.:0.30275   1st Qu.:0.18182  \n",
       " Median :0.32255   Median :0.6294   Median :0.37809   Median :0.22622  \n",
       " Mean   :0.34383   Mean   :0.6179   Mean   :0.39108   Mean   :0.24173  \n",
       " 3rd Qu.:0.43182   3rd Qu.:0.7238   3rd Qu.:0.46489   3rd Qu.:0.29049  \n",
       " Max.   :0.81954   Max.   :1.0000   Max.   :0.82764   Max.   :0.69392  \n",
       "     q2down            mobility        mobility1        mobility2     \n",
       " Min.   :0.000299   Min.   :-2.346   Min.   :0.8473   Min.   :0.2206  \n",
       " 1st Qu.:0.085001   1st Qu.: 1.484   1st Qu.:2.0713   1st Qu.:1.2140  \n",
       " Median :0.110935   Median : 2.673   Median :2.3511   Median :1.4657  \n",
       " Mean   :0.117538   Mean   : 2.672   Mean   :2.3580   Mean   :1.4646  \n",
       " 3rd Qu.:0.141200   3rd Qu.: 3.875   3rd Qu.:2.6562   3rd Qu.:1.7326  \n",
       " Max.   :0.378728   Max.   : 8.263   Max.   :3.7985   Max.   :2.5401  \n",
       "   mobility3         mobility4         mobility5           type2  \n",
       " Min.   :-0.8098   Min.   :-1.6441   Min.   :-2.5387   Min.   :2  \n",
       " 1st Qu.: 0.2863   1st Qu.:-0.6055   1st Qu.:-1.5600   1st Qu.:2  \n",
       " Median : 0.5456   Median :-0.3536   Median :-1.2964   Median :2  \n",
       " Mean   : 0.5441   Mean   :-0.3737   Mean   :-1.3215   Mean   :2  \n",
       " 3rd Qu.: 0.8029   3rd Qu.:-0.1198   3rd Qu.:-1.0661   3rd Qu.:2  \n",
       " Max.   : 1.6443   Max.   : 0.7053   Max.   :-0.3409   Max.   :2  "
      ]
     },
     "metadata": {},
     "output_type": "display_data"
    },
    {
     "data": {
      "text/plain": [
       "\n",
       "\tWelch Two Sample t-test\n",
       "\n",
       "data:  public$mobility and private$mobility\n",
       "t = -21.878, df = 1578.5, p-value < 2.2e-16\n",
       "alternative hypothesis: true difference in means is not equal to 0\n",
       "95 percent confidence interval:\n",
       " -1.787858 -1.493649\n",
       "sample estimates:\n",
       "mean of x mean of y \n",
       " 1.030904  2.671658 \n"
      ]
     },
     "metadata": {},
     "output_type": "display_data"
    }
   ],
   "source": [
    "dset$type2 <- rep(2,)\n",
    "\n",
    "n = length(dset$type)\n",
    "for (i in 1:n){\n",
    "      if (dset$type[i]==1){\n",
    "          dset$type2[i] <- 1\n",
    "      }\n",
    "    }\n",
    "\n",
    "public <-filter(dset, type == 1)\n",
    "private <-filter(dset, type == 2)\n",
    "\n",
    "summary(dset)\n",
    "summary(public)\n",
    "summary(private)\n",
    "\n",
    "t.test(public$mobility,private$mobility)"
   ]
  },
  {
   "cell_type": "markdown",
   "metadata": {},
   "source": [
    "### Question 3. Does attending lvy or other colleges make a difference in terms of upward mobility?"
   ]
  },
  {
   "cell_type": "code",
   "execution_count": 58,
   "metadata": {},
   "outputs": [],
   "source": [
    "ivy <- filter(dset, tier == 1)\n",
    "other_colleges <-filter(dset, tier != 1)"
   ]
  },
  {
   "cell_type": "code",
   "execution_count": 59,
   "metadata": {},
   "outputs": [
    {
     "data": {
      "text/plain": [
       "\n",
       "\tWelch Two Sample t-test\n",
       "\n",
       "data:  ivy$mobility and other_colleges$mobility\n",
       "t = 26.734, df = 12.826, p-value = 1.248e-12\n",
       "alternative hypothesis: true difference in means is not equal to 0\n",
       "95 percent confidence interval:\n",
       " 3.600085 4.234028\n",
       "sample estimates:\n",
       "mean of x mean of y \n",
       " 5.412847  1.495790 \n"
      ]
     },
     "metadata": {},
     "output_type": "display_data"
    }
   ],
   "source": [
    "t.test(ivy$mobility,other_colleges$mobility)"
   ]
  },
  {
   "cell_type": "code",
   "execution_count": 61,
   "metadata": {},
   "outputs": [
    {
     "data": {
      "text/plain": [
       "\n",
       "\tWelch Two Sample t-test\n",
       "\n",
       "data:  ivy$mobility and dset$mobility\n",
       "t = 26.575, df = 12.851, p-value = 1.293e-12\n",
       "alternative hypothesis: true difference in means is not equal to 0\n",
       "95 percent confidence interval:\n",
       " 3.578618 4.212745\n",
       "sample estimates:\n",
       "mean of x mean of y \n",
       " 5.412847  1.517165 \n"
      ]
     },
     "metadata": {},
     "output_type": "display_data"
    }
   ],
   "source": [
    "t.test(ivy$mobility,dset$mobility)"
   ]
  },
  {
   "cell_type": "markdown",
   "metadata": {},
   "source": [
    "### Question 4. Does attending colleges in different regions (1 = Northeast, 2 = Midwest, 3 = South, 4 = West) makes a difference in terms of upward mobility?\n",
    "\n"
   ]
  },
  {
   "cell_type": "code",
   "execution_count": 63,
   "metadata": {},
   "outputs": [],
   "source": [
    "northeast <- filter(dset, region == 1)\n",
    "midwest <- filter(dset, region == 2)\n",
    "south <- filter(dset, region == 3)\n",
    "west <- filter(dset, region == 4)\n",
    "\n",
    "\n"
   ]
  },
  {
   "cell_type": "code",
   "execution_count": 64,
   "metadata": {},
   "outputs": [
    {
     "data": {
      "text/plain": [
       "\n",
       "\tWelch Two Sample t-test\n",
       "\n",
       "data:  northeast$mobility and dset$mobility\n",
       "t = 8.1874, df = 691.67, p-value = 1.286e-15\n",
       "alternative hypothesis: true difference in means is not equal to 0\n",
       "95 percent confidence interval:\n",
       " 0.6309745 1.0290646\n",
       "sample estimates:\n",
       "mean of x mean of y \n",
       " 2.347185  1.517165 \n"
      ]
     },
     "metadata": {},
     "output_type": "display_data"
    }
   ],
   "source": [
    "t.test(northeast$mobility,dset$mobility)"
   ]
  },
  {
   "cell_type": "code",
   "execution_count": 65,
   "metadata": {},
   "outputs": [
    {
     "data": {
      "text/plain": [
       "\n",
       "\tWelch Two Sample t-test\n",
       "\n",
       "data:  south$mobility and dset$mobility\n",
       "t = -6.5556, df = 1561.8, p-value = 7.508e-11\n",
       "alternative hypothesis: true difference in means is not equal to 0\n",
       "95 percent confidence interval:\n",
       " -0.6113280 -0.3297507\n",
       "sample estimates:\n",
       "mean of x mean of y \n",
       " 1.046626  1.517165 \n"
      ]
     },
     "metadata": {},
     "output_type": "display_data"
    }
   ],
   "source": [
    "t.test(south$mobility,dset$mobility)"
   ]
  },
  {
   "cell_type": "code",
   "execution_count": 71,
   "metadata": {},
   "outputs": [
    {
     "data": {
      "text/plain": [
       "\n",
       "\tWelch Two Sample t-test\n",
       "\n",
       "data:  midwest$mobility and dset$mobility\n",
       "t = 2.3694, df = 858.81, p-value = 0.01804\n",
       "alternative hypothesis: true difference in means is not equal to 0\n",
       "95 percent confidence interval:\n",
       " 0.0343677 0.3660716\n",
       "sample estimates:\n",
       "mean of x mean of y \n",
       " 1.717385  1.517165 \n"
      ]
     },
     "metadata": {},
     "output_type": "display_data"
    },
    {
     "data": {
      "text/plain": [
       "\n",
       "\tWelch Two Sample t-test\n",
       "\n",
       "data:  west$mobility and dset$mobility\n",
       "t = -3.7104, df = 526.82, p-value = 0.0002289\n",
       "alternative hypothesis: true difference in means is not equal to 0\n",
       "95 percent confidence interval:\n",
       " -0.5794073 -0.1782594\n",
       "sample estimates:\n",
       "mean of x mean of y \n",
       " 1.138332  1.517165 \n"
      ]
     },
     "metadata": {},
     "output_type": "display_data"
    }
   ],
   "source": [
    "t.test(midwest$mobility,dset$mobility)\n",
    "t.test(west$mobility,dset$mobility)\n"
   ]
  },
  {
   "cell_type": "markdown",
   "metadata": {},
   "source": [
    "### Question 5. Does year-of-colleges (2-year, 4-year, less than 2 year) make a difference in terms of upward mobility?\n",
    "\n"
   ]
  },
  {
   "cell_type": "code",
   "execution_count": 80,
   "metadata": {},
   "outputs": [],
   "source": [
    "twoyr <- filter(dset, tier == 11)\n",
    "fouryr <-filter(dset, tier == 10)"
   ]
  },
  {
   "cell_type": "code",
   "execution_count": 78,
   "metadata": {},
   "outputs": [
    {
     "data": {
      "text/plain": [
       "\n",
       "\tWelch Two Sample t-test\n",
       "\n",
       "data:  twoyr$mobility and fouryr$mobility\n",
       "t = -2.3125, df = 147.55, p-value = 0.02214\n",
       "alternative hypothesis: true difference in means is not equal to 0\n",
       "95 percent confidence interval:\n",
       " -1.05170719 -0.08246706\n",
       "sample estimates:\n",
       " mean of x  mean of y \n",
       "-0.3622440  0.2048432 \n"
      ]
     },
     "metadata": {},
     "output_type": "display_data"
    }
   ],
   "source": [
    "t.test(twoyr$mobility,fouryr$mobility)"
   ]
  },
  {
   "cell_type": "code",
   "execution_count": null,
   "metadata": {},
   "outputs": [],
   "source": []
  },
  {
   "cell_type": "code",
   "execution_count": null,
   "metadata": {},
   "outputs": [],
   "source": [
    " "
   ]
  },
  {
   "cell_type": "markdown",
   "metadata": {},
   "source": [
    "### Question 6 Does attending colleges in different states (RI versus other state) make a difference in terms of upward mobility?"
   ]
  },
  {
   "cell_type": "code",
   "execution_count": 81,
   "metadata": {},
   "outputs": [
    {
     "data": {
      "text/html": [
       "<table>\n",
       "<caption>A tibble: 12 × 24</caption>\n",
       "<thead>\n",
       "\t<tr><th scope=col>super_opeid</th><th scope=col>name</th><th scope=col>type</th><th scope=col>tier</th><th scope=col>tier_name</th><th scope=col>iclevel</th><th scope=col>region</th><th scope=col>state</th><th scope=col>czname</th><th scope=col>q1up</th><th scope=col>⋯</th><th scope=col>q4down</th><th scope=col>q3down</th><th scope=col>q2down</th><th scope=col>mobility</th><th scope=col>mobility1</th><th scope=col>mobility2</th><th scope=col>mobility3</th><th scope=col>mobility4</th><th scope=col>mobility5</th><th scope=col>type2</th></tr>\n",
       "\t<tr><th scope=col>&lt;dbl&gt;</th><th scope=col>&lt;chr&gt;</th><th scope=col>&lt;dbl&gt;</th><th scope=col>&lt;dbl&gt;</th><th scope=col>&lt;chr&gt;</th><th scope=col>&lt;dbl&gt;</th><th scope=col>&lt;dbl&gt;</th><th scope=col>&lt;chr&gt;</th><th scope=col>&lt;chr&gt;</th><th scope=col>&lt;dbl&gt;</th><th scope=col>⋯</th><th scope=col>&lt;dbl&gt;</th><th scope=col>&lt;dbl&gt;</th><th scope=col>&lt;dbl&gt;</th><th scope=col>&lt;dbl&gt;</th><th scope=col>&lt;dbl&gt;</th><th scope=col>&lt;dbl&gt;</th><th scope=col>&lt;dbl&gt;</th><th scope=col>&lt;dbl&gt;</th><th scope=col>&lt;dbl&gt;</th><th scope=col>&lt;dbl&gt;</th></tr>\n",
       "</thead>\n",
       "<tbody>\n",
       "\t<tr><td> 3401</td><td>Brown University                          </td><td>2</td><td> 1</td><td>Ivy Plus                                     </td><td>1</td><td>1</td><td>RI</td><td>Providence</td><td>0.8824303</td><td>⋯</td><td>0.2510130</td><td>0.1839086</td><td>0.09879550</td><td>5.0456809</td><td>2.949877</td><td>1.9949354</td><td>0.94151463</td><td> 0.09444714</td><td>-0.9350934</td><td>2</td></tr>\n",
       "\t<tr><td> 3402</td><td>Bryant University                         </td><td>2</td><td> 6</td><td>Selective private                            </td><td>1</td><td>1</td><td>RI</td><td>Providence</td><td>0.9448969</td><td>⋯</td><td>0.1364266</td><td>0.1252634</td><td>0.07111989</td><td>6.2788887</td><td>3.090899</td><td>2.0278108</td><td>1.30131055</td><td> 0.39803573</td><td>-0.5391673</td><td>2</td></tr>\n",
       "\t<tr><td> 3408</td><td>Community College Of Rhode Island         </td><td>1</td><td> 9</td><td>Two-year (public and private not-for-profit) </td><td>2</td><td>1</td><td>RI</td><td>Providence</td><td>0.8186767</td><td>⋯</td><td>0.5438453</td><td>0.3611156</td><td>0.16739875</td><td>0.1857043</td><td>1.769052</td><td>0.9408765</td><td>0.03970000</td><td>-0.79397914</td><td>-1.7699451</td><td>1</td></tr>\n",
       "\t<tr><td> 3404</td><td><span style=white-space:pre-wrap>Johnson &amp; Wales University                </span></td><td>2</td><td> 6</td><td><span style=white-space:pre-wrap>Selective private                            </span></td><td>1</td><td>1</td><td>RI</td><td>Providence</td><td>0.8516452</td><td>⋯</td><td>0.4756646</td><td>0.2645194</td><td>0.12033283</td><td>1.5430324</td><td>2.042767</td><td>1.2027921</td><td>0.33478274</td><td>-0.56846913</td><td>-1.4688406</td><td>2</td></tr>\n",
       "\t<tr><td> 7845</td><td>New England Institute Of Technology       </td><td>2</td><td> 8</td><td>Nonselective four-year private not-for-profit</td><td>1</td><td>1</td><td>RI</td><td>Providence</td><td>0.8616427</td><td>⋯</td><td>0.4042837</td><td>0.2585191</td><td>0.14667598</td><td>2.1265954</td><td>2.066027</td><td>1.3026956</td><td>0.41978918</td><td>-0.40590076</td><td>-1.2560159</td><td>2</td></tr>\n",
       "\t<tr><td> 3406</td><td>Providence College                        </td><td>2</td><td> 4</td><td>Highly selective private                     </td><td>1</td><td>1</td><td>RI</td><td>Providence</td><td>0.8213926</td><td>⋯</td><td>0.2151156</td><td>0.1384581</td><td>0.07493895</td><td>5.3738154</td><td>2.680656</td><td>2.0432909</td><td>1.22501522</td><td> 0.14296959</td><td>-0.7181167</td><td>2</td></tr>\n",
       "\t<tr><td> 3407</td><td>Rhode Island College                      </td><td>1</td><td> 5</td><td>Selective public                             </td><td>1</td><td>1</td><td>RI</td><td>Providence</td><td>0.8979180</td><td>⋯</td><td>0.3789236</td><td>0.2539536</td><td>0.07346319</td><td>2.6795404</td><td>2.279001</td><td>1.5543389</td><td>0.46662120</td><td>-0.31018940</td><td>-1.3102312</td><td>1</td></tr>\n",
       "\t<tr><td> 3409</td><td>Rhode Island School Of Design             </td><td>2</td><td> 8</td><td>Nonselective four-year private not-for-profit</td><td>1</td><td>1</td><td>RI</td><td>Providence</td><td>0.8054627</td><td>⋯</td><td>0.4604120</td><td>0.3789007</td><td>0.14912108</td><td>1.6209913</td><td>2.135780</td><td>1.4620045</td><td>0.19490194</td><td>-0.61250229</td><td>-1.5591927</td><td>2</td></tr>\n",
       "\t<tr><td> 3410</td><td>Roger Williams University                 </td><td>2</td><td> 6</td><td>Selective private                            </td><td>1</td><td>1</td><td>RI</td><td>Providence</td><td>0.8934572</td><td>⋯</td><td>0.3007959</td><td>0.2018624</td><td>0.06614973</td><td>3.9278486</td><td>2.455235</td><td>1.8542605</td><td>0.83610862</td><td>-0.13190032</td><td>-1.0858555</td><td>2</td></tr>\n",
       "\t<tr><td>11647</td><td>SBI Campus - An Affiliate Of Sanford-Brown</td><td>3</td><td>11</td><td>Two-year for-profit                          </td><td>2</td><td>1</td><td>RI</td><td>Providence</td><td>0.8436378</td><td>⋯</td><td>0.5107575</td><td>0.3355153</td><td>0.18803380</td><td>0.2849600</td><td>1.872970</td><td>0.8811591</td><td>0.06106303</td><td>-0.86106612</td><td>-1.6691657</td><td>2</td></tr>\n",
       "\t<tr><td> 3411</td><td>Salve Regina University                   </td><td>2</td><td> 6</td><td>Selective private                            </td><td>1</td><td>1</td><td>RI</td><td>Providence</td><td>0.8694982</td><td>⋯</td><td>0.2484470</td><td>0.2220797</td><td>0.03099425</td><td>3.8787385</td><td>2.631644</td><td>1.9814288</td><td>0.62428222</td><td>-0.01100736</td><td>-1.3476093</td><td>2</td></tr>\n",
       "\t<tr><td> 3414</td><td>University Of Rhode Island                </td><td>1</td><td> 5</td><td>Selective public                             </td><td>1</td><td>1</td><td>RI</td><td>Providence</td><td>0.9082429</td><td>⋯</td><td>0.2873966</td><td>0.1586277</td><td>0.09296581</td><td>4.2408880</td><td>2.682054</td><td>1.6924574</td><td>0.88110012</td><td>-0.03813018</td><td>-0.9765938</td><td>1</td></tr>\n",
       "</tbody>\n",
       "</table>\n"
      ],
      "text/latex": [
       "A tibble: 12 × 24\n",
       "\\begin{tabular}{r|llllllllllllllllllllllll}\n",
       " super\\_opeid & name & type & tier & tier\\_name & iclevel & region & state & czname & q1up & q2up & q3up & q4up & q5down & q4down & q3down & q2down & mobility & mobility1 & mobility2 & mobility3 & mobility4 & mobility5 & type2\\\\\n",
       " <dbl> & <chr> & <dbl> & <dbl> & <chr> & <dbl> & <dbl> & <chr> & <chr> & <dbl> & <dbl> & <dbl> & <dbl> & <dbl> & <dbl> & <dbl> & <dbl> & <dbl> & <dbl> & <dbl> & <dbl> & <dbl> & <dbl> & <dbl>\\\\\n",
       "\\hline\n",
       "\t  3401 & Brown University                           & 2 &  1 & Ivy Plus                                      & 1 & 1 & RI & Providence & 0.8824303 & 0.8165352 & 0.6950047 & 0.5997119 & 0.4035138 & 0.2510130 & 0.1839086 & 0.09879550 & 5.0456809 & 2.949877 & 1.9949354 & 0.94151463 &  0.09444714 & -0.9350934 & 2\\\\\n",
       "\t  3402 & Bryant University                          & 2 &  6 & Selective private                             & 1 & 1 & RI & Providence & 0.9448969 & 0.8333030 & 0.8159606 & 0.6681939 & 0.2708500 & 0.1364266 & 0.1252634 & 0.07111989 & 6.2788887 & 3.090899 & 2.0278108 & 1.30131055 &  0.39803573 & -0.5391673 & 2\\\\\n",
       "\t  3408 & Community College Of Rhode Island          & 1 &  9 & Two-year (public and private not-for-profit)  & 2 & 1 & RI & Providence & 0.8186767 & 0.6198306 & 0.3952049 & 0.1972099 & 0.7766595 & 0.5438453 & 0.3611156 & 0.16739875 & 0.1857043 & 1.769052 & 0.9408765 & 0.03970000 & -0.79397914 & -1.7699451 & 1\\\\\n",
       "\t  3404 & Johnson \\& Wales University                 & 2 &  6 & Selective private                             & 1 & 1 & RI & Providence & 0.8516452 & 0.7016649 & 0.5015457 & 0.2382871 & 0.7015367 & 0.4756646 & 0.2645194 & 0.12033283 & 1.5430324 & 2.042767 & 1.2027921 & 0.33478274 & -0.56846913 & -1.4688406 & 2\\\\\n",
       "\t  7845 & New England Institute Of Technology        & 2 &  8 & Nonselective four-year private not-for-profit & 1 & 1 & RI & Providence & 0.8616427 & 0.7088594 & 0.5368077 & 0.3211782 & 0.6136369 & 0.4042837 & 0.2585191 & 0.14667598 & 2.1265954 & 2.066027 & 1.3026956 & 0.41978918 & -0.40590076 & -1.2560159 & 2\\\\\n",
       "\t  3406 & Providence College                         & 2 &  4 & Highly selective private                      & 1 & 1 & RI & Providence & 0.8213926 & 0.8338544 & 0.7945158 & 0.5708235 & 0.3562138 & 0.2151156 & 0.1384581 & 0.07493895 & 5.3738154 & 2.680656 & 2.0432909 & 1.22501522 &  0.14296959 & -0.7181167 & 2\\\\\n",
       "\t  3407 & Rhode Island College                       & 1 &  5 & Selective public                              & 1 & 1 & RI & Providence & 0.8979180 & 0.7837846 & 0.5478913 & 0.3357867 & 0.6610465 & 0.3789236 & 0.2539536 & 0.07346319 & 2.6795404 & 2.279001 & 1.5543389 & 0.46662120 & -0.31018940 & -1.3102312 & 1\\\\\n",
       "\t  3409 & Rhode Island School Of Design              & 2 &  8 & Nonselective four-year private not-for-profit & 1 & 1 & RI & Providence & 0.8054627 & 0.6676751 & 0.4829602 & 0.3105851 & 0.6673810 & 0.4604120 & 0.3789007 & 0.14912108 & 1.6209913 & 2.135780 & 1.4620045 & 0.19490194 & -0.61250229 & -1.5591927 & 2\\\\\n",
       "\t  3410 & Roger Williams University                  & 2 &  6 & Selective private                             & 1 & 1 & RI & Providence & 0.8934572 & 0.8503073 & 0.6790337 & 0.4208284 & 0.5492923 & 0.3007959 & 0.2018624 & 0.06614973 & 3.9278486 & 2.455235 & 1.8542605 & 0.83610862 & -0.13190032 & -1.0858555 & 2\\\\\n",
       "\t 11647 & SBI Campus - An Affiliate Of Sanford-Brown & 3 & 11 & Two-year for-profit                           & 2 & 1 & RI & Providence & 0.8436378 & 0.5864499 & 0.4090787 & 0.2046557 & 0.6748035 & 0.5107575 & 0.3355153 & 0.18803380 & 0.2849600 & 1.872970 & 0.8811591 & 0.06106303 & -0.86106612 & -1.6691657 & 2\\\\\n",
       "\t  3411 & Salve Regina University                    & 2 &  6 & Selective private                             & 1 & 1 & RI & Providence & 0.8694982 & 0.8215949 & 0.5910191 & 0.4521486 & 0.6056633 & 0.2484470 & 0.2220797 & 0.03099425 & 3.8787385 & 2.631644 & 1.9814288 & 0.62428222 & -0.01100736 & -1.3476093 & 2\\\\\n",
       "\t  3414 & University Of Rhode Island                 & 1 &  5 & Selective public                              & 1 & 1 & RI & Providence & 0.9082429 & 0.7934001 & 0.6641249 & 0.4644059 & 0.4815409 & 0.2873966 & 0.1586277 & 0.09296581 & 4.2408880 & 2.682054 & 1.6924574 & 0.88110012 & -0.03813018 & -0.9765938 & 1\\\\\n",
       "\\end{tabular}\n"
      ],
      "text/markdown": [
       "\n",
       "A tibble: 12 × 24\n",
       "\n",
       "| super_opeid &lt;dbl&gt; | name &lt;chr&gt; | type &lt;dbl&gt; | tier &lt;dbl&gt; | tier_name &lt;chr&gt; | iclevel &lt;dbl&gt; | region &lt;dbl&gt; | state &lt;chr&gt; | czname &lt;chr&gt; | q1up &lt;dbl&gt; | ⋯ ⋯ | q4down &lt;dbl&gt; | q3down &lt;dbl&gt; | q2down &lt;dbl&gt; | mobility &lt;dbl&gt; | mobility1 &lt;dbl&gt; | mobility2 &lt;dbl&gt; | mobility3 &lt;dbl&gt; | mobility4 &lt;dbl&gt; | mobility5 &lt;dbl&gt; | type2 &lt;dbl&gt; |\n",
       "|---|---|---|---|---|---|---|---|---|---|---|---|---|---|---|---|---|---|---|---|---|\n",
       "|  3401 | Brown University                           | 2 |  1 | Ivy Plus                                      | 1 | 1 | RI | Providence | 0.8824303 | ⋯ | 0.2510130 | 0.1839086 | 0.09879550 | 5.0456809 | 2.949877 | 1.9949354 | 0.94151463 |  0.09444714 | -0.9350934 | 2 |\n",
       "|  3402 | Bryant University                          | 2 |  6 | Selective private                             | 1 | 1 | RI | Providence | 0.9448969 | ⋯ | 0.1364266 | 0.1252634 | 0.07111989 | 6.2788887 | 3.090899 | 2.0278108 | 1.30131055 |  0.39803573 | -0.5391673 | 2 |\n",
       "|  3408 | Community College Of Rhode Island          | 1 |  9 | Two-year (public and private not-for-profit)  | 2 | 1 | RI | Providence | 0.8186767 | ⋯ | 0.5438453 | 0.3611156 | 0.16739875 | 0.1857043 | 1.769052 | 0.9408765 | 0.03970000 | -0.79397914 | -1.7699451 | 1 |\n",
       "|  3404 | Johnson &amp; Wales University                 | 2 |  6 | Selective private                             | 1 | 1 | RI | Providence | 0.8516452 | ⋯ | 0.4756646 | 0.2645194 | 0.12033283 | 1.5430324 | 2.042767 | 1.2027921 | 0.33478274 | -0.56846913 | -1.4688406 | 2 |\n",
       "|  7845 | New England Institute Of Technology        | 2 |  8 | Nonselective four-year private not-for-profit | 1 | 1 | RI | Providence | 0.8616427 | ⋯ | 0.4042837 | 0.2585191 | 0.14667598 | 2.1265954 | 2.066027 | 1.3026956 | 0.41978918 | -0.40590076 | -1.2560159 | 2 |\n",
       "|  3406 | Providence College                         | 2 |  4 | Highly selective private                      | 1 | 1 | RI | Providence | 0.8213926 | ⋯ | 0.2151156 | 0.1384581 | 0.07493895 | 5.3738154 | 2.680656 | 2.0432909 | 1.22501522 |  0.14296959 | -0.7181167 | 2 |\n",
       "|  3407 | Rhode Island College                       | 1 |  5 | Selective public                              | 1 | 1 | RI | Providence | 0.8979180 | ⋯ | 0.3789236 | 0.2539536 | 0.07346319 | 2.6795404 | 2.279001 | 1.5543389 | 0.46662120 | -0.31018940 | -1.3102312 | 1 |\n",
       "|  3409 | Rhode Island School Of Design              | 2 |  8 | Nonselective four-year private not-for-profit | 1 | 1 | RI | Providence | 0.8054627 | ⋯ | 0.4604120 | 0.3789007 | 0.14912108 | 1.6209913 | 2.135780 | 1.4620045 | 0.19490194 | -0.61250229 | -1.5591927 | 2 |\n",
       "|  3410 | Roger Williams University                  | 2 |  6 | Selective private                             | 1 | 1 | RI | Providence | 0.8934572 | ⋯ | 0.3007959 | 0.2018624 | 0.06614973 | 3.9278486 | 2.455235 | 1.8542605 | 0.83610862 | -0.13190032 | -1.0858555 | 2 |\n",
       "| 11647 | SBI Campus - An Affiliate Of Sanford-Brown | 3 | 11 | Two-year for-profit                           | 2 | 1 | RI | Providence | 0.8436378 | ⋯ | 0.5107575 | 0.3355153 | 0.18803380 | 0.2849600 | 1.872970 | 0.8811591 | 0.06106303 | -0.86106612 | -1.6691657 | 2 |\n",
       "|  3411 | Salve Regina University                    | 2 |  6 | Selective private                             | 1 | 1 | RI | Providence | 0.8694982 | ⋯ | 0.2484470 | 0.2220797 | 0.03099425 | 3.8787385 | 2.631644 | 1.9814288 | 0.62428222 | -0.01100736 | -1.3476093 | 2 |\n",
       "|  3414 | University Of Rhode Island                 | 1 |  5 | Selective public                              | 1 | 1 | RI | Providence | 0.9082429 | ⋯ | 0.2873966 | 0.1586277 | 0.09296581 | 4.2408880 | 2.682054 | 1.6924574 | 0.88110012 | -0.03813018 | -0.9765938 | 1 |\n",
       "\n"
      ],
      "text/plain": [
       "   super_opeid name                                       type tier\n",
       "1   3401       Brown University                           2     1  \n",
       "2   3402       Bryant University                          2     6  \n",
       "3   3408       Community College Of Rhode Island          1     9  \n",
       "4   3404       Johnson & Wales University                 2     6  \n",
       "5   7845       New England Institute Of Technology        2     8  \n",
       "6   3406       Providence College                         2     4  \n",
       "7   3407       Rhode Island College                       1     5  \n",
       "8   3409       Rhode Island School Of Design              2     8  \n",
       "9   3410       Roger Williams University                  2     6  \n",
       "10 11647       SBI Campus - An Affiliate Of Sanford-Brown 3    11  \n",
       "11  3411       Salve Regina University                    2     6  \n",
       "12  3414       University Of Rhode Island                 1     5  \n",
       "   tier_name                                     iclevel region state\n",
       "1  Ivy Plus                                      1       1      RI   \n",
       "2  Selective private                             1       1      RI   \n",
       "3  Two-year (public and private not-for-profit)  2       1      RI   \n",
       "4  Selective private                             1       1      RI   \n",
       "5  Nonselective four-year private not-for-profit 1       1      RI   \n",
       "6  Highly selective private                      1       1      RI   \n",
       "7  Selective public                              1       1      RI   \n",
       "8  Nonselective four-year private not-for-profit 1       1      RI   \n",
       "9  Selective private                             1       1      RI   \n",
       "10 Two-year for-profit                           2       1      RI   \n",
       "11 Selective private                             1       1      RI   \n",
       "12 Selective public                              1       1      RI   \n",
       "   czname     q1up      ⋯ q4down    q3down    q2down     mobility  mobility1\n",
       "1  Providence 0.8824303 ⋯ 0.2510130 0.1839086 0.09879550 5.0456809 2.949877 \n",
       "2  Providence 0.9448969 ⋯ 0.1364266 0.1252634 0.07111989 6.2788887 3.090899 \n",
       "3  Providence 0.8186767 ⋯ 0.5438453 0.3611156 0.16739875 0.1857043 1.769052 \n",
       "4  Providence 0.8516452 ⋯ 0.4756646 0.2645194 0.12033283 1.5430324 2.042767 \n",
       "5  Providence 0.8616427 ⋯ 0.4042837 0.2585191 0.14667598 2.1265954 2.066027 \n",
       "6  Providence 0.8213926 ⋯ 0.2151156 0.1384581 0.07493895 5.3738154 2.680656 \n",
       "7  Providence 0.8979180 ⋯ 0.3789236 0.2539536 0.07346319 2.6795404 2.279001 \n",
       "8  Providence 0.8054627 ⋯ 0.4604120 0.3789007 0.14912108 1.6209913 2.135780 \n",
       "9  Providence 0.8934572 ⋯ 0.3007959 0.2018624 0.06614973 3.9278486 2.455235 \n",
       "10 Providence 0.8436378 ⋯ 0.5107575 0.3355153 0.18803380 0.2849600 1.872970 \n",
       "11 Providence 0.8694982 ⋯ 0.2484470 0.2220797 0.03099425 3.8787385 2.631644 \n",
       "12 Providence 0.9082429 ⋯ 0.2873966 0.1586277 0.09296581 4.2408880 2.682054 \n",
       "   mobility2 mobility3  mobility4   mobility5  type2\n",
       "1  1.9949354 0.94151463  0.09444714 -0.9350934 2    \n",
       "2  2.0278108 1.30131055  0.39803573 -0.5391673 2    \n",
       "3  0.9408765 0.03970000 -0.79397914 -1.7699451 1    \n",
       "4  1.2027921 0.33478274 -0.56846913 -1.4688406 2    \n",
       "5  1.3026956 0.41978918 -0.40590076 -1.2560159 2    \n",
       "6  2.0432909 1.22501522  0.14296959 -0.7181167 2    \n",
       "7  1.5543389 0.46662120 -0.31018940 -1.3102312 1    \n",
       "8  1.4620045 0.19490194 -0.61250229 -1.5591927 2    \n",
       "9  1.8542605 0.83610862 -0.13190032 -1.0858555 2    \n",
       "10 0.8811591 0.06106303 -0.86106612 -1.6691657 2    \n",
       "11 1.9814288 0.62428222 -0.01100736 -1.3476093 2    \n",
       "12 1.6924574 0.88110012 -0.03813018 -0.9765938 1    "
      ]
     },
     "metadata": {},
     "output_type": "display_data"
    }
   ],
   "source": [
    "RhodeIsland <- filter(dset, state == \"RI\")\n",
    "RhodeIsland"
   ]
  },
  {
   "cell_type": "code",
   "execution_count": 82,
   "metadata": {},
   "outputs": [
    {
     "data": {
      "text/plain": [
       "\n",
       "\tWelch Two Sample t-test\n",
       "\n",
       "data:  RhodeIsland$mobility and dset$mobility\n",
       "t = 2.739, df = 11.107, p-value = 0.01911\n",
       "alternative hypothesis: true difference in means is not equal to 0\n",
       "95 percent confidence interval:\n",
       " 0.3121819 2.8512680\n",
       "sample estimates:\n",
       "mean of x mean of y \n",
       " 3.098890  1.517165 \n"
      ]
     },
     "metadata": {},
     "output_type": "display_data"
    }
   ],
   "source": [
    "t.test(RhodeIsland$mobility,dset$mobility)"
   ]
  },
  {
   "cell_type": "code",
   "execution_count": null,
   "metadata": {},
   "outputs": [],
   "source": []
  }
 ],
 "metadata": {
  "kernelspec": {
   "display_name": "R",
   "language": "R",
   "name": "ir"
  },
  "language_info": {
   "codemirror_mode": "r",
   "file_extension": ".r",
   "mimetype": "text/x-r-source",
   "name": "R",
   "pygments_lexer": "r",
   "version": "3.6.1"
  }
 },
 "nbformat": 4,
 "nbformat_minor": 4
}
