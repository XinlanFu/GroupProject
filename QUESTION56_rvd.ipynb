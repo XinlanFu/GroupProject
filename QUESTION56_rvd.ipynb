{
 "cells": [
  {
   "cell_type": "code",
   "execution_count": 1,
   "metadata": {},
   "outputs": [
    {
     "name": "stderr",
     "output_type": "stream",
     "text": [
      "\n",
      "Attaching package: ‘dplyr’\n",
      "\n",
      "The following objects are masked from ‘package:stats’:\n",
      "\n",
      "    filter, lag\n",
      "\n",
      "The following objects are masked from ‘package:base’:\n",
      "\n",
      "    intersect, setdiff, setequal, union\n",
      "\n",
      "Warning message:\n",
      "“Missing column names filled in: 'X44' [44], 'X45' [45]”Parsed with column specification:\n",
      "cols(\n",
      "  .default = col_double(),\n",
      "  name = \u001b[31mcol_character()\u001b[39m,\n",
      "  tier_name = \u001b[31mcol_character()\u001b[39m,\n",
      "  state = \u001b[31mcol_character()\u001b[39m,\n",
      "  czname = \u001b[31mcol_character()\u001b[39m,\n",
      "  X44 = \u001b[33mcol_logical()\u001b[39m,\n",
      "  X45 = \u001b[33mcol_logical()\u001b[39m\n",
      ")\n",
      "See spec(...) for full column specifications.\n"
     ]
    },
    {
     "data": {
      "text/html": [
       "<table>\n",
       "<caption>A tibble: 6 × 45</caption>\n",
       "<thead>\n",
       "\t<tr><th scope=col>super_opeid</th><th scope=col>name</th><th scope=col>type</th><th scope=col>tier</th><th scope=col>tier_name</th><th scope=col>iclevel</th><th scope=col>region</th><th scope=col>state</th><th scope=col>czname</th><th scope=col>par_q1</th><th scope=col>⋯</th><th scope=col>kq3_cond_parq4</th><th scope=col>kq4_cond_parq4</th><th scope=col>kq5_cond_parq4</th><th scope=col>kq1_cond_parq5</th><th scope=col>kq2_cond_parq5</th><th scope=col>kq3_cond_parq5</th><th scope=col>kq4_cond_parq5</th><th scope=col>kq5_cond_parq5</th><th scope=col>X44</th><th scope=col>X45</th></tr>\n",
       "\t<tr><th scope=col>&lt;dbl&gt;</th><th scope=col>&lt;chr&gt;</th><th scope=col>&lt;dbl&gt;</th><th scope=col>&lt;dbl&gt;</th><th scope=col>&lt;chr&gt;</th><th scope=col>&lt;dbl&gt;</th><th scope=col>&lt;dbl&gt;</th><th scope=col>&lt;chr&gt;</th><th scope=col>&lt;chr&gt;</th><th scope=col>&lt;dbl&gt;</th><th scope=col>⋯</th><th scope=col>&lt;dbl&gt;</th><th scope=col>&lt;dbl&gt;</th><th scope=col>&lt;dbl&gt;</th><th scope=col>&lt;dbl&gt;</th><th scope=col>&lt;dbl&gt;</th><th scope=col>&lt;dbl&gt;</th><th scope=col>&lt;dbl&gt;</th><th scope=col>&lt;dbl&gt;</th><th scope=col>&lt;lgl&gt;</th><th scope=col>&lt;lgl&gt;</th></tr>\n",
       "</thead>\n",
       "<tbody>\n",
       "\t<tr><td>30955</td><td>ASA Institute Of Business &amp; Computer Technology</td><td>3</td><td>11</td><td><span style=white-space:pre-wrap>Two-year for-profit          </span></td><td>2</td><td>1</td><td>NY</td><td><span style=white-space:pre-wrap>New York     </span></td><td>0.44357512</td><td>⋯</td><td>0.1760198</td><td>0.2858109</td><td>0.1156441</td><td>0.0962707</td><td>0.2985320</td><td>0.2036935</td><td>0.2042709</td><td>0.1972328</td><td>NA</td><td>NA</td></tr>\n",
       "\t<tr><td> 3537</td><td>Abilene Christian University                   </td><td>2</td><td> 6</td><td>Selective private            </td><td>1</td><td>3</td><td>TX</td><td>Abilene      </td><td>0.05244135</td><td>⋯</td><td>0.1742201</td><td>0.2332917</td><td>0.3146711</td><td>0.1346296</td><td>0.1225604</td><td>0.1417430</td><td>0.2391946</td><td>0.3618724</td><td>NA</td><td>NA</td></tr>\n",
       "\t<tr><td> 1541</td><td>Abraham Baldwin Agricultural College           </td><td>1</td><td> 7</td><td>Nonselective four-year public</td><td>1</td><td>3</td><td>GA</td><td>Valdosta     </td><td>0.15455518</td><td>⋯</td><td>0.2335978</td><td>0.3056518</td><td>0.2012344</td><td>0.1240982</td><td>0.1493977</td><td>0.1966711</td><td>0.3047610</td><td>0.2250720</td><td>NA</td><td>NA</td></tr>\n",
       "\t<tr><td> 7531</td><td>Academy Of Art University                      </td><td>3</td><td>10</td><td>Four-year for-profit         </td><td>1</td><td>4</td><td>CA</td><td>San Francisco</td><td>0.09352422</td><td>⋯</td><td>0.1671838</td><td>0.1889049</td><td>0.2519145</td><td>0.1966253</td><td>0.1850919</td><td>0.1701652</td><td>0.1515126</td><td>0.2966050</td><td>NA</td><td>NA</td></tr>\n",
       "\t<tr><td> 1345</td><td>Adams State University                         </td><td>1</td><td> 5</td><td>Selective public             </td><td>1</td><td>4</td><td>CO</td><td>Alamosa      </td><td>0.12922439</td><td>⋯</td><td>0.2277163</td><td>0.2919978</td><td>0.2034337</td><td>0.1050013</td><td>0.1181480</td><td>0.2660201</td><td>0.2192669</td><td>0.2915637</td><td>NA</td><td>NA</td></tr>\n",
       "\t<tr><td> 2666</td><td>Adelphi University                             </td><td>2</td><td> 6</td><td>Selective private            </td><td>1</td><td>1</td><td>NY</td><td>New York     </td><td>0.08704802</td><td>⋯</td><td>0.1625158</td><td>0.1900162</td><td>0.4280847</td><td>0.1032917</td><td>0.1018200</td><td>0.1185716</td><td>0.1900711</td><td>0.4862457</td><td>NA</td><td>NA</td></tr>\n",
       "</tbody>\n",
       "</table>\n"
      ],
      "text/latex": [
       "A tibble: 6 × 45\n",
       "\\begin{tabular}{r|lllllllllllllllllllllllllllllllllllllllllllll}\n",
       " super\\_opeid & name & type & tier & tier\\_name & iclevel & region & state & czname & par\\_q1 & par\\_q2 & par\\_q3 & par\\_q4 & par\\_q5 & par\\_top10pc & par\\_top5pc & par\\_top1pc & par\\_toppt1pc & kq1\\_cond\\_parq1 & kq2\\_cond\\_parq1 & kq3\\_cond\\_parq1 & kq4\\_cond\\_parq1 & kq5\\_cond\\_parq1 & kq1\\_cond\\_parq2 & kq2\\_cond\\_parq2 & kq3\\_cond\\_parq2 & kq4\\_cond\\_parq2 & kq5\\_cond\\_parq2 & kq1\\_cond\\_parq3 & kq2\\_cond\\_parq3 & kq3\\_cond\\_parq3 & kq4\\_cond\\_parq3 & kq5\\_cond\\_parq3 & kq1\\_cond\\_parq4 & kq2\\_cond\\_parq4 & kq3\\_cond\\_parq4 & kq4\\_cond\\_parq4 & kq5\\_cond\\_parq4 & kq1\\_cond\\_parq5 & kq2\\_cond\\_parq5 & kq3\\_cond\\_parq5 & kq4\\_cond\\_parq5 & kq5\\_cond\\_parq5 & X44 & X45\\\\\n",
       " <dbl> & <chr> & <dbl> & <dbl> & <chr> & <dbl> & <dbl> & <chr> & <chr> & <dbl> & <dbl> & <dbl> & <dbl> & <dbl> & <dbl> & <dbl> & <dbl> & <dbl> & <dbl> & <dbl> & <dbl> & <dbl> & <dbl> & <dbl> & <dbl> & <dbl> & <dbl> & <dbl> & <dbl> & <dbl> & <dbl> & <dbl> & <dbl> & <dbl> & <dbl> & <dbl> & <dbl> & <dbl> & <dbl> & <dbl> & <dbl> & <dbl> & <dbl> & <lgl> & <lgl>\\\\\n",
       "\\hline\n",
       "\t 30955 & ASA Institute Of Business \\& Computer Technology & 3 & 11 & Two-year for-profit           & 2 & 1 & NY & New York      & 0.44357512 & 0.3267902 & 0.1437108 & 0.05970676 & 0.02621719 & 0.01322289 & 0.006964943 & 0.000415863 & 0.000103003 & 0.17915321 & 0.3395770 & 0.2437785 & 0.1923267 & 0.04516471 & 0.1655211 & 0.2724355 & 0.2694793 & 0.2078743 & 0.08468985 & 0.19135211 & 0.2240845 & 0.2754507 & 0.2390751 & 0.07003761 & 0.12893395 & 0.2935912 & 0.1760198 & 0.2858109 & 0.1156441 & 0.0962707 & 0.2985320 & 0.2036935 & 0.2042709 & 0.1972328 & NA & NA\\\\\n",
       "\t  3537 & Abilene Christian University                    & 2 &  6 & Selective private             & 1 & 3 & TX & Abilene       & 0.05244135 & 0.1010320 & 0.1639357 & 0.25824005 & 0.42435089 & 0.23586491 & 0.126604725 & 0.023049100 & 0.000841904 & 0.09414483 & 0.1086272 & 0.2559982 & 0.2673270 & 0.27390282 & 0.1861876 & 0.1296391 & 0.2034312 & 0.2330906 & 0.24765150 & 0.14365052 & 0.1588360 & 0.2083745 & 0.2874772 & 0.20166175 & 0.13800210 & 0.1398150 & 0.1742201 & 0.2332917 & 0.3146711 & 0.1346296 & 0.1225604 & 0.1417430 & 0.2391946 & 0.3618724 & NA & NA\\\\\n",
       "\t  1541 & Abraham Baldwin Agricultural College            & 1 &  7 & Nonselective four-year public & 1 & 3 & GA & Valdosta      & 0.15455518 & 0.1871586 & 0.2254971 & 0.23676258 & 0.19602657 & 0.07293054 & 0.033044620 & 0.002520282 & 0.000608527 & 0.17649073 & 0.2397960 & 0.3010153 & 0.1865683 & 0.09612966 & 0.1140146 & 0.2289665 & 0.2860668 & 0.2284759 & 0.14247610 & 0.11998492 & 0.1345169 & 0.2723120 & 0.3115461 & 0.16164010 & 0.09271151 & 0.1668045 & 0.2335978 & 0.3056518 & 0.2012344 & 0.1240982 & 0.1493977 & 0.1966711 & 0.3047610 & 0.2250720 & NA & NA\\\\\n",
       "\t  7531 & Academy Of Art University                       & 3 & 10 & Four-year for-profit          & 1 & 4 & CA & San Francisco & 0.09352422 & 0.1229171 & 0.1753495 & 0.21152512 & 0.39668401 & 0.24404959 & 0.147395509 & 0.035681199 & 0.003368348 & 0.26703011 & 0.1854258 & 0.2062937 & 0.1663503 & 0.17490002 & 0.2090548 & 0.1915711 & 0.2189319 & 0.1363872 & 0.24405494 & 0.19975941 & 0.2208330 & 0.1813436 & 0.1469258 & 0.25113821 & 0.19936280 & 0.1926340 & 0.1671838 & 0.1889049 & 0.2519145 & 0.1966253 & 0.1850919 & 0.1701652 & 0.1515126 & 0.2966050 & NA & NA\\\\\n",
       "\t  1345 & Adams State University                          & 1 &  5 & Selective public              & 1 & 4 & CO & Alamosa       & 0.12922439 & 0.1855039 & 0.2484288 & 0.26087633 & 0.17596664 & 0.06427846 & 0.024887405 & 0.003146715 & 0.000000000 & 0.16999300 & 0.2016696 & 0.2188124 & 0.2636958 & 0.14582912 & 0.1288845 & 0.1836279 & 0.2358722 & 0.2891828 & 0.16243258 & 0.10558637 & 0.1473407 & 0.2641172 & 0.2809070 & 0.20204862 & 0.11754400 & 0.1593082 & 0.2277163 & 0.2919978 & 0.2034337 & 0.1050013 & 0.1181480 & 0.2660201 & 0.2192669 & 0.2915637 & NA & NA\\\\\n",
       "\t  2666 & Adelphi University                              & 2 &  6 & Selective private             & 1 & 1 & NY & New York      & 0.08704802 & 0.1285386 & 0.1564339 & 0.22986453 & 0.39811498 & 0.20536980 & 0.103923967 & 0.023863256 & 0.001936710 & 0.09847519 & 0.1251636 & 0.1938495 & 0.2081772 & 0.37433442 & 0.1281903 & 0.1139460 & 0.1512318 & 0.1938885 & 0.41274347 & 0.09056527 & 0.1066129 & 0.1711234 & 0.1966504 & 0.43504794 & 0.08777559 & 0.1316076 & 0.1625158 & 0.1900162 & 0.4280847 & 0.1032917 & 0.1018200 & 0.1185716 & 0.1900711 & 0.4862457 & NA & NA\\\\\n",
       "\\end{tabular}\n"
      ],
      "text/markdown": [
       "\n",
       "A tibble: 6 × 45\n",
       "\n",
       "| super_opeid &lt;dbl&gt; | name &lt;chr&gt; | type &lt;dbl&gt; | tier &lt;dbl&gt; | tier_name &lt;chr&gt; | iclevel &lt;dbl&gt; | region &lt;dbl&gt; | state &lt;chr&gt; | czname &lt;chr&gt; | par_q1 &lt;dbl&gt; | ⋯ ⋯ | kq3_cond_parq4 &lt;dbl&gt; | kq4_cond_parq4 &lt;dbl&gt; | kq5_cond_parq4 &lt;dbl&gt; | kq1_cond_parq5 &lt;dbl&gt; | kq2_cond_parq5 &lt;dbl&gt; | kq3_cond_parq5 &lt;dbl&gt; | kq4_cond_parq5 &lt;dbl&gt; | kq5_cond_parq5 &lt;dbl&gt; | X44 &lt;lgl&gt; | X45 &lt;lgl&gt; |\n",
       "|---|---|---|---|---|---|---|---|---|---|---|---|---|---|---|---|---|---|---|---|---|\n",
       "| 30955 | ASA Institute Of Business &amp; Computer Technology | 3 | 11 | Two-year for-profit           | 2 | 1 | NY | New York      | 0.44357512 | ⋯ | 0.1760198 | 0.2858109 | 0.1156441 | 0.0962707 | 0.2985320 | 0.2036935 | 0.2042709 | 0.1972328 | NA | NA |\n",
       "|  3537 | Abilene Christian University                    | 2 |  6 | Selective private             | 1 | 3 | TX | Abilene       | 0.05244135 | ⋯ | 0.1742201 | 0.2332917 | 0.3146711 | 0.1346296 | 0.1225604 | 0.1417430 | 0.2391946 | 0.3618724 | NA | NA |\n",
       "|  1541 | Abraham Baldwin Agricultural College            | 1 |  7 | Nonselective four-year public | 1 | 3 | GA | Valdosta      | 0.15455518 | ⋯ | 0.2335978 | 0.3056518 | 0.2012344 | 0.1240982 | 0.1493977 | 0.1966711 | 0.3047610 | 0.2250720 | NA | NA |\n",
       "|  7531 | Academy Of Art University                       | 3 | 10 | Four-year for-profit          | 1 | 4 | CA | San Francisco | 0.09352422 | ⋯ | 0.1671838 | 0.1889049 | 0.2519145 | 0.1966253 | 0.1850919 | 0.1701652 | 0.1515126 | 0.2966050 | NA | NA |\n",
       "|  1345 | Adams State University                          | 1 |  5 | Selective public              | 1 | 4 | CO | Alamosa       | 0.12922439 | ⋯ | 0.2277163 | 0.2919978 | 0.2034337 | 0.1050013 | 0.1181480 | 0.2660201 | 0.2192669 | 0.2915637 | NA | NA |\n",
       "|  2666 | Adelphi University                              | 2 |  6 | Selective private             | 1 | 1 | NY | New York      | 0.08704802 | ⋯ | 0.1625158 | 0.1900162 | 0.4280847 | 0.1032917 | 0.1018200 | 0.1185716 | 0.1900711 | 0.4862457 | NA | NA |\n",
       "\n"
      ],
      "text/plain": [
       "  super_opeid name                                            type tier\n",
       "1 30955       ASA Institute Of Business & Computer Technology 3    11  \n",
       "2  3537       Abilene Christian University                    2     6  \n",
       "3  1541       Abraham Baldwin Agricultural College            1     7  \n",
       "4  7531       Academy Of Art University                       3    10  \n",
       "5  1345       Adams State University                          1     5  \n",
       "6  2666       Adelphi University                              2     6  \n",
       "  tier_name                     iclevel region state czname        par_q1     ⋯\n",
       "1 Two-year for-profit           2       1      NY    New York      0.44357512 ⋯\n",
       "2 Selective private             1       3      TX    Abilene       0.05244135 ⋯\n",
       "3 Nonselective four-year public 1       3      GA    Valdosta      0.15455518 ⋯\n",
       "4 Four-year for-profit          1       4      CA    San Francisco 0.09352422 ⋯\n",
       "5 Selective public              1       4      CO    Alamosa       0.12922439 ⋯\n",
       "6 Selective private             1       1      NY    New York      0.08704802 ⋯\n",
       "  kq3_cond_parq4 kq4_cond_parq4 kq5_cond_parq4 kq1_cond_parq5 kq2_cond_parq5\n",
       "1 0.1760198      0.2858109      0.1156441      0.0962707      0.2985320     \n",
       "2 0.1742201      0.2332917      0.3146711      0.1346296      0.1225604     \n",
       "3 0.2335978      0.3056518      0.2012344      0.1240982      0.1493977     \n",
       "4 0.1671838      0.1889049      0.2519145      0.1966253      0.1850919     \n",
       "5 0.2277163      0.2919978      0.2034337      0.1050013      0.1181480     \n",
       "6 0.1625158      0.1900162      0.4280847      0.1032917      0.1018200     \n",
       "  kq3_cond_parq5 kq4_cond_parq5 kq5_cond_parq5 X44 X45\n",
       "1 0.2036935      0.2042709      0.1972328      NA  NA \n",
       "2 0.1417430      0.2391946      0.3618724      NA  NA \n",
       "3 0.1966711      0.3047610      0.2250720      NA  NA \n",
       "4 0.1701652      0.1515126      0.2966050      NA  NA \n",
       "5 0.2660201      0.2192669      0.2915637      NA  NA \n",
       "6 0.1185716      0.1900711      0.4862457      NA  NA "
      ]
     },
     "metadata": {},
     "output_type": "display_data"
    }
   ],
   "source": [
    "library(readr)\n",
    "library(dplyr)\n",
    "dat <- read_csv(\"CollegeMobility.csv\")\n",
    "head(dat)"
   ]
  },
  {
   "cell_type": "code",
   "execution_count": 2,
   "metadata": {},
   "outputs": [
    {
     "data": {
      "text/html": [
       "<table>\n",
       "<caption>A tibble: 6 × 9</caption>\n",
       "<thead>\n",
       "\t<tr><th scope=col>super_opeid</th><th scope=col>name</th><th scope=col>type</th><th scope=col>tier</th><th scope=col>tier_name</th><th scope=col>iclevel</th><th scope=col>region</th><th scope=col>state</th><th scope=col>czname</th></tr>\n",
       "\t<tr><th scope=col>&lt;dbl&gt;</th><th scope=col>&lt;chr&gt;</th><th scope=col>&lt;dbl&gt;</th><th scope=col>&lt;dbl&gt;</th><th scope=col>&lt;chr&gt;</th><th scope=col>&lt;dbl&gt;</th><th scope=col>&lt;dbl&gt;</th><th scope=col>&lt;chr&gt;</th><th scope=col>&lt;chr&gt;</th></tr>\n",
       "</thead>\n",
       "<tbody>\n",
       "\t<tr><td>30955</td><td>ASA Institute Of Business &amp; Computer Technology</td><td>3</td><td>11</td><td><span style=white-space:pre-wrap>Two-year for-profit          </span></td><td>2</td><td>1</td><td>NY</td><td><span style=white-space:pre-wrap>New York     </span></td></tr>\n",
       "\t<tr><td> 3537</td><td>Abilene Christian University                   </td><td>2</td><td> 6</td><td>Selective private            </td><td>1</td><td>3</td><td>TX</td><td>Abilene      </td></tr>\n",
       "\t<tr><td> 1541</td><td>Abraham Baldwin Agricultural College           </td><td>1</td><td> 7</td><td>Nonselective four-year public</td><td>1</td><td>3</td><td>GA</td><td>Valdosta     </td></tr>\n",
       "\t<tr><td> 7531</td><td>Academy Of Art University                      </td><td>3</td><td>10</td><td>Four-year for-profit         </td><td>1</td><td>4</td><td>CA</td><td>San Francisco</td></tr>\n",
       "\t<tr><td> 1345</td><td>Adams State University                         </td><td>1</td><td> 5</td><td>Selective public             </td><td>1</td><td>4</td><td>CO</td><td>Alamosa      </td></tr>\n",
       "\t<tr><td> 2666</td><td>Adelphi University                             </td><td>2</td><td> 6</td><td>Selective private            </td><td>1</td><td>1</td><td>NY</td><td>New York     </td></tr>\n",
       "</tbody>\n",
       "</table>\n"
      ],
      "text/latex": [
       "A tibble: 6 × 9\n",
       "\\begin{tabular}{r|lllllllll}\n",
       " super\\_opeid & name & type & tier & tier\\_name & iclevel & region & state & czname\\\\\n",
       " <dbl> & <chr> & <dbl> & <dbl> & <chr> & <dbl> & <dbl> & <chr> & <chr>\\\\\n",
       "\\hline\n",
       "\t 30955 & ASA Institute Of Business \\& Computer Technology & 3 & 11 & Two-year for-profit           & 2 & 1 & NY & New York     \\\\\n",
       "\t  3537 & Abilene Christian University                    & 2 &  6 & Selective private             & 1 & 3 & TX & Abilene      \\\\\n",
       "\t  1541 & Abraham Baldwin Agricultural College            & 1 &  7 & Nonselective four-year public & 1 & 3 & GA & Valdosta     \\\\\n",
       "\t  7531 & Academy Of Art University                       & 3 & 10 & Four-year for-profit          & 1 & 4 & CA & San Francisco\\\\\n",
       "\t  1345 & Adams State University                          & 1 &  5 & Selective public              & 1 & 4 & CO & Alamosa      \\\\\n",
       "\t  2666 & Adelphi University                              & 2 &  6 & Selective private             & 1 & 1 & NY & New York     \\\\\n",
       "\\end{tabular}\n"
      ],
      "text/markdown": [
       "\n",
       "A tibble: 6 × 9\n",
       "\n",
       "| super_opeid &lt;dbl&gt; | name &lt;chr&gt; | type &lt;dbl&gt; | tier &lt;dbl&gt; | tier_name &lt;chr&gt; | iclevel &lt;dbl&gt; | region &lt;dbl&gt; | state &lt;chr&gt; | czname &lt;chr&gt; |\n",
       "|---|---|---|---|---|---|---|---|---|\n",
       "| 30955 | ASA Institute Of Business &amp; Computer Technology | 3 | 11 | Two-year for-profit           | 2 | 1 | NY | New York      |\n",
       "|  3537 | Abilene Christian University                    | 2 |  6 | Selective private             | 1 | 3 | TX | Abilene       |\n",
       "|  1541 | Abraham Baldwin Agricultural College            | 1 |  7 | Nonselective four-year public | 1 | 3 | GA | Valdosta      |\n",
       "|  7531 | Academy Of Art University                       | 3 | 10 | Four-year for-profit          | 1 | 4 | CA | San Francisco |\n",
       "|  1345 | Adams State University                          | 1 |  5 | Selective public              | 1 | 4 | CO | Alamosa       |\n",
       "|  2666 | Adelphi University                              | 2 |  6 | Selective private             | 1 | 1 | NY | New York      |\n",
       "\n"
      ],
      "text/plain": [
       "  super_opeid name                                            type tier\n",
       "1 30955       ASA Institute Of Business & Computer Technology 3    11  \n",
       "2  3537       Abilene Christian University                    2     6  \n",
       "3  1541       Abraham Baldwin Agricultural College            1     7  \n",
       "4  7531       Academy Of Art University                       3    10  \n",
       "5  1345       Adams State University                          1     5  \n",
       "6  2666       Adelphi University                              2     6  \n",
       "  tier_name                     iclevel region state czname       \n",
       "1 Two-year for-profit           2       1      NY    New York     \n",
       "2 Selective private             1       3      TX    Abilene      \n",
       "3 Nonselective four-year public 1       3      GA    Valdosta     \n",
       "4 Four-year for-profit          1       4      CA    San Francisco\n",
       "5 Selective public              1       4      CO    Alamosa      \n",
       "6 Selective private             1       1      NY    New York     "
      ]
     },
     "metadata": {},
     "output_type": "display_data"
    }
   ],
   "source": [
    "dset <- unique(dat[,c(\"super_opeid\",\"name\",\"type\",\"tier\",\"tier_name\",\"iclevel\",\"region\",\"state\",\"czname\")])\n",
    "head(dset)"
   ]
  },
  {
   "cell_type": "code",
   "execution_count": 5,
   "metadata": {},
   "outputs": [
    {
     "data": {
      "text/html": [
       "<table>\n",
       "<caption>A tibble: 6 × 15</caption>\n",
       "<thead>\n",
       "\t<tr><th scope=col>super_opeid</th><th scope=col>name</th><th scope=col>type</th><th scope=col>tier</th><th scope=col>tier_name</th><th scope=col>iclevel</th><th scope=col>region</th><th scope=col>state</th><th scope=col>czname</th><th scope=col>mobility1</th><th scope=col>mobility2</th><th scope=col>mobility3</th><th scope=col>mobility4</th><th scope=col>mobility5</th><th scope=col>mobility</th></tr>\n",
       "\t<tr><th scope=col>&lt;dbl&gt;</th><th scope=col>&lt;chr&gt;</th><th scope=col>&lt;dbl&gt;</th><th scope=col>&lt;dbl&gt;</th><th scope=col>&lt;chr&gt;</th><th scope=col>&lt;dbl&gt;</th><th scope=col>&lt;dbl&gt;</th><th scope=col>&lt;chr&gt;</th><th scope=col>&lt;chr&gt;</th><th scope=col>&lt;dbl&gt;</th><th scope=col>&lt;dbl&gt;</th><th scope=col>&lt;dbl&gt;</th><th scope=col>&lt;dbl&gt;</th><th scope=col>&lt;dbl&gt;</th><th scope=col>&lt;dbl&gt;</th></tr>\n",
       "</thead>\n",
       "<tbody>\n",
       "\t<tr><td>30955</td><td>ASA Institute Of Business &amp; Computer Technology</td><td>3</td><td>11</td><td><span style=white-space:pre-wrap>Two-year for-profit          </span></td><td>2</td><td>1</td><td>NY</td><td><span style=white-space:pre-wrap>New York     </span></td><td>1.584773</td><td>0.7737764</td><td>-0.2276384</td><td>-1.0343600</td><td>-1.892337</td><td>-0.7957861</td></tr>\n",
       "\t<tr><td> 3537</td><td>Abilene Christian University                   </td><td>2</td><td> 6</td><td>Selective private            </td><td>1</td><td>3</td><td>TX</td><td>Abilene      </td><td>2.518216</td><td>1.2263793</td><td> 0.2446637</td><td>-0.5531854</td><td>-1.428880</td><td> 2.0071932</td></tr>\n",
       "\t<tr><td> 1541</td><td>Abraham Baldwin Agricultural College           </td><td>1</td><td> 7</td><td>Nonselective four-year public</td><td>1</td><td>3</td><td>GA</td><td>Valdosta     </td><td>1.786050</td><td>1.0564324</td><td> 0.2603396</td><td>-0.6441070</td><td>-1.642689</td><td> 0.8160261</td></tr>\n",
       "\t<tr><td> 7531</td><td>Academy Of Art University                      </td><td>3</td><td>10</td><td>Four-year for-profit         </td><td>1</td><td>4</td><td>CA</td><td>San Francisco</td><td>1.796664</td><td>1.0148164</td><td> 0.0288504</td><td>-0.8986257</td><td>-1.833620</td><td> 0.1080854</td></tr>\n",
       "\t<tr><td> 1345</td><td>Adams State University                         </td><td>1</td><td> 5</td><td>Selective public             </td><td>1</td><td>4</td><td>CO</td><td>Alamosa      </td><td>2.013698</td><td>1.1726510</td><td> 0.3264908</td><td>-0.6955311</td><td>-1.525756</td><td> 1.2915529</td></tr>\n",
       "\t<tr><td> 2666</td><td>Adelphi University                             </td><td>2</td><td> 6</td><td>Selective private            </td><td>1</td><td>1</td><td>NY</td><td>New York     </td><td>2.634732</td><td>1.6490488</td><td> 0.7790028</td><td>-0.2609731</td><td>-1.145841</td><td> 3.6559698</td></tr>\n",
       "</tbody>\n",
       "</table>\n"
      ],
      "text/latex": [
       "A tibble: 6 × 15\n",
       "\\begin{tabular}{r|lllllllllllllll}\n",
       " super\\_opeid & name & type & tier & tier\\_name & iclevel & region & state & czname & mobility1 & mobility2 & mobility3 & mobility4 & mobility5 & mobility\\\\\n",
       " <dbl> & <chr> & <dbl> & <dbl> & <chr> & <dbl> & <dbl> & <chr> & <chr> & <dbl> & <dbl> & <dbl> & <dbl> & <dbl> & <dbl>\\\\\n",
       "\\hline\n",
       "\t 30955 & ASA Institute Of Business \\& Computer Technology & 3 & 11 & Two-year for-profit           & 2 & 1 & NY & New York      & 1.584773 & 0.7737764 & -0.2276384 & -1.0343600 & -1.892337 & -0.7957861\\\\\n",
       "\t  3537 & Abilene Christian University                    & 2 &  6 & Selective private             & 1 & 3 & TX & Abilene       & 2.518216 & 1.2263793 &  0.2446637 & -0.5531854 & -1.428880 &  2.0071932\\\\\n",
       "\t  1541 & Abraham Baldwin Agricultural College            & 1 &  7 & Nonselective four-year public & 1 & 3 & GA & Valdosta      & 1.786050 & 1.0564324 &  0.2603396 & -0.6441070 & -1.642689 &  0.8160261\\\\\n",
       "\t  7531 & Academy Of Art University                       & 3 & 10 & Four-year for-profit          & 1 & 4 & CA & San Francisco & 1.796664 & 1.0148164 &  0.0288504 & -0.8986257 & -1.833620 &  0.1080854\\\\\n",
       "\t  1345 & Adams State University                          & 1 &  5 & Selective public              & 1 & 4 & CO & Alamosa       & 2.013698 & 1.1726510 &  0.3264908 & -0.6955311 & -1.525756 &  1.2915529\\\\\n",
       "\t  2666 & Adelphi University                              & 2 &  6 & Selective private             & 1 & 1 & NY & New York      & 2.634732 & 1.6490488 &  0.7790028 & -0.2609731 & -1.145841 &  3.6559698\\\\\n",
       "\\end{tabular}\n"
      ],
      "text/markdown": [
       "\n",
       "A tibble: 6 × 15\n",
       "\n",
       "| super_opeid &lt;dbl&gt; | name &lt;chr&gt; | type &lt;dbl&gt; | tier &lt;dbl&gt; | tier_name &lt;chr&gt; | iclevel &lt;dbl&gt; | region &lt;dbl&gt; | state &lt;chr&gt; | czname &lt;chr&gt; | mobility1 &lt;dbl&gt; | mobility2 &lt;dbl&gt; | mobility3 &lt;dbl&gt; | mobility4 &lt;dbl&gt; | mobility5 &lt;dbl&gt; | mobility &lt;dbl&gt; |\n",
       "|---|---|---|---|---|---|---|---|---|---|---|---|---|---|---|\n",
       "| 30955 | ASA Institute Of Business &amp; Computer Technology | 3 | 11 | Two-year for-profit           | 2 | 1 | NY | New York      | 1.584773 | 0.7737764 | -0.2276384 | -1.0343600 | -1.892337 | -0.7957861 |\n",
       "|  3537 | Abilene Christian University                    | 2 |  6 | Selective private             | 1 | 3 | TX | Abilene       | 2.518216 | 1.2263793 |  0.2446637 | -0.5531854 | -1.428880 |  2.0071932 |\n",
       "|  1541 | Abraham Baldwin Agricultural College            | 1 |  7 | Nonselective four-year public | 1 | 3 | GA | Valdosta      | 1.786050 | 1.0564324 |  0.2603396 | -0.6441070 | -1.642689 |  0.8160261 |\n",
       "|  7531 | Academy Of Art University                       | 3 | 10 | Four-year for-profit          | 1 | 4 | CA | San Francisco | 1.796664 | 1.0148164 |  0.0288504 | -0.8986257 | -1.833620 |  0.1080854 |\n",
       "|  1345 | Adams State University                          | 1 |  5 | Selective public              | 1 | 4 | CO | Alamosa       | 2.013698 | 1.1726510 |  0.3264908 | -0.6955311 | -1.525756 |  1.2915529 |\n",
       "|  2666 | Adelphi University                              | 2 |  6 | Selective private             | 1 | 1 | NY | New York      | 2.634732 | 1.6490488 |  0.7790028 | -0.2609731 | -1.145841 |  3.6559698 |\n",
       "\n"
      ],
      "text/plain": [
       "  super_opeid name                                            type tier\n",
       "1 30955       ASA Institute Of Business & Computer Technology 3    11  \n",
       "2  3537       Abilene Christian University                    2     6  \n",
       "3  1541       Abraham Baldwin Agricultural College            1     7  \n",
       "4  7531       Academy Of Art University                       3    10  \n",
       "5  1345       Adams State University                          1     5  \n",
       "6  2666       Adelphi University                              2     6  \n",
       "  tier_name                     iclevel region state czname        mobility1\n",
       "1 Two-year for-profit           2       1      NY    New York      1.584773 \n",
       "2 Selective private             1       3      TX    Abilene       2.518216 \n",
       "3 Nonselective four-year public 1       3      GA    Valdosta      1.786050 \n",
       "4 Four-year for-profit          1       4      CA    San Francisco 1.796664 \n",
       "5 Selective public              1       4      CO    Alamosa       2.013698 \n",
       "6 Selective private             1       1      NY    New York      2.634732 \n",
       "  mobility2 mobility3  mobility4  mobility5 mobility  \n",
       "1 0.7737764 -0.2276384 -1.0343600 -1.892337 -0.7957861\n",
       "2 1.2263793  0.2446637 -0.5531854 -1.428880  2.0071932\n",
       "3 1.0564324  0.2603396 -0.6441070 -1.642689  0.8160261\n",
       "4 1.0148164  0.0288504 -0.8986257 -1.833620  0.1080854\n",
       "5 1.1726510  0.3264908 -0.6955311 -1.525756  1.2915529\n",
       "6 1.6490488  0.7790028 -0.2609731 -1.145841  3.6559698"
      ]
     },
     "metadata": {},
     "output_type": "display_data"
    }
   ],
   "source": [
    "idx <- function(k, v1, v2, v3, v4, v5){\n",
    "    a <- rowSums(cbind((1-k)*v1, (2-k)*v2, (3-k)*v3, (4-k)*v4, (5-k)*v5))\n",
    "    return(a)\n",
    "}\n",
    "\n",
    "dset$mobility1 <- idx(1, dat$kq1_cond_parq1, dat$kq2_cond_parq1, dat$kq3_cond_parq1, dat$kq4_cond_parq1, dat$kq5_cond_parq1)\n",
    "dset$mobility2 <- idx(2, dat$kq1_cond_parq2, dat$kq2_cond_parq2, dat$kq3_cond_parq2, dat$kq4_cond_parq2, dat$kq5_cond_parq2)\n",
    "dset$mobility3 <- idx(3, dat$kq1_cond_parq3, dat$kq2_cond_parq3, dat$kq3_cond_parq3, dat$kq4_cond_parq3, dat$kq5_cond_parq3)\n",
    "dset$mobility4 <- idx(4, dat$kq1_cond_parq4, dat$kq2_cond_parq4, dat$kq3_cond_parq4, dat$kq4_cond_parq4, dat$kq5_cond_parq4)\n",
    "dset$mobility5 <- idx(5, dat$kq1_cond_parq5, dat$kq2_cond_parq5, dat$kq3_cond_parq5, dat$kq4_cond_parq5, dat$kq5_cond_parq5)\n",
    "dset$mobility  <- rowSums(cbind(dset$mobility1,dset$mobility2,dset$mobility3,dset$mobility4,dset$mobility5))\n",
    "\n",
    "head(dset)"
   ]
  },
  {
   "cell_type": "markdown",
   "metadata": {},
   "source": [
    "### Question 1. Does college education in the U.S. increase upward mobility of the younger generation?"
   ]
  },
  {
   "cell_type": "code",
   "execution_count": 6,
   "metadata": {},
   "outputs": [
    {
     "data": {
      "text/plain": [
       "\n",
       "\tOne Sample t-test\n",
       "\n",
       "data:  dset$mobility\n",
       "t = 37.836, df = 2198, p-value < 2.2e-16\n",
       "alternative hypothesis: true mean is not equal to 0\n",
       "95 percent confidence interval:\n",
       " 1.438530 1.595801\n",
       "sample estimates:\n",
       "mean of x \n",
       " 1.517165 \n"
      ]
     },
     "metadata": {},
     "output_type": "display_data"
    }
   ],
   "source": [
    "t.test(dset$mobility)"
   ]
  },
  {
   "cell_type": "markdown",
   "metadata": {},
   "source": [
    "### Question 2. Does attending public or private colleges make a difference in terms of upward mobility?"
   ]
  },
  {
   "cell_type": "code",
   "execution_count": 10,
   "metadata": {},
   "outputs": [
    {
     "data": {
      "text/plain": [
       "  super_opeid        name                type            tier       \n",
       " Min.   :    1   Length:2199        Min.   :1.000   Min.   : 1.000  \n",
       " 1st Qu.: 1938   Class :character   1st Qu.:1.000   1st Qu.: 6.000  \n",
       " Median : 3035   Mode  :character   Median :1.000   Median : 6.000  \n",
       " Mean   : 5324                      Mean   :1.545   Mean   : 7.103  \n",
       " 3rd Qu.: 5254                      3rd Qu.:2.000   3rd Qu.: 9.000  \n",
       " Max.   :41519                      Max.   :3.000   Max.   :12.000  \n",
       "  tier_name            iclevel          region         state          \n",
       " Length:2199        Min.   :1.000   Min.   :1.000   Length:2199       \n",
       " Class :character   1st Qu.:1.000   1st Qu.:2.000   Class :character  \n",
       " Mode  :character   Median :1.000   Median :3.000   Mode  :character  \n",
       "                    Mean   :1.402   Mean   :2.481                     \n",
       "                    3rd Qu.:2.000   3rd Qu.:3.000                     \n",
       "                    Max.   :3.000   Max.   :4.000                     \n",
       "    czname            mobility1       mobility2         mobility3       \n",
       " Length:2199        Min.   :0.812   Min.   :0.00903   Min.   :-0.96806  \n",
       " Class :character   1st Qu.:1.771   1st Qu.:0.93187   1st Qu.: 0.05298  \n",
       " Mode  :character   Median :2.031   Median :1.16126   Median : 0.25545  \n",
       "                    Mean   :2.099   Mean   :1.21910   Mean   : 0.31509  \n",
       "                    3rd Qu.:2.401   3rd Qu.:1.50785   3rd Qu.: 0.57555  \n",
       "                    Max.   :3.799   Max.   :2.54012   Max.   : 1.64433  \n",
       "   mobility4         mobility5          mobility      \n",
       " Min.   :-2.1216   Min.   :-3.1437   Min.   :-3.8414  \n",
       " 1st Qu.:-0.8390   1st Qu.:-1.7835   1st Qu.: 0.1964  \n",
       " Median :-0.6312   Median :-1.5633   Median : 1.2123  \n",
       " Mean   :-0.5879   Mean   :-1.5282   Mean   : 1.5172  \n",
       " 3rd Qu.:-0.3229   3rd Qu.:-1.2629   3rd Qu.: 2.8424  \n",
       " Max.   : 0.7053   Max.   :-0.3275   Max.   : 8.2631  "
      ]
     },
     "metadata": {},
     "output_type": "display_data"
    },
    {
     "data": {
      "text/plain": [
       "  super_opeid        name                type        tier       \n",
       " Min.   :    1   Length:1190        Min.   :1   Min.   : 2.000  \n",
       " 1st Qu.: 1924   Class :character   1st Qu.:1   1st Qu.: 5.000  \n",
       " Median : 3185   Mode  :character   Median :1   Median : 9.000  \n",
       " Mean   : 5032                      Mean   :1   Mean   : 7.467  \n",
       " 3rd Qu.: 5733                      3rd Qu.:1   3rd Qu.: 9.000  \n",
       " Max.   :41519                      Max.   :1   Max.   :12.000  \n",
       "  tier_name            iclevel          region         state          \n",
       " Length:1190        Min.   :1.000   Min.   :1.000   Length:1190       \n",
       " Class :character   1st Qu.:1.000   1st Qu.:2.000   Class :character  \n",
       " Mode  :character   Median :2.000   Median :3.000   Mode  :character  \n",
       "                    Mean   :1.601   Mean   :2.679                     \n",
       "                    3rd Qu.:2.000   3rd Qu.:3.000                     \n",
       "                    Max.   :3.000   Max.   :4.000                     \n",
       "    czname            mobility1       mobility2        mobility3       \n",
       " Length:1190        Min.   :1.168   Min.   :0.2613   Min.   :-0.69221  \n",
       " Class :character   1st Qu.:1.721   1st Qu.:0.8901   1st Qu.: 0.01993  \n",
       " Mode  :character   Median :1.914   Median :1.0433   Median : 0.15633  \n",
       "                    Mean   :1.976   Mean   :1.1100   Mean   : 0.21963  \n",
       "                    3rd Qu.:2.168   3rd Qu.:1.2954   3rd Qu.: 0.38413  \n",
       "                    Max.   :3.699   Max.   :2.2801   Max.   : 1.43579  \n",
       "   mobility4         mobility5          mobility        \n",
       " Min.   :-1.5167   Min.   :-2.7457   Min.   :-2.521666  \n",
       " 1st Qu.:-0.8609   1st Qu.:-1.8103   1st Qu.: 0.004088  \n",
       " Median :-0.7260   Median :-1.6552   Median : 0.655543  \n",
       " Mean   :-0.6693   Mean   :-1.6055   Mean   : 1.030904  \n",
       " 3rd Qu.:-0.5005   3rd Qu.:-1.4274   3rd Qu.: 1.841354  \n",
       " Max.   : 0.4920   Max.   :-0.3275   Max.   : 6.690271  "
      ]
     },
     "metadata": {},
     "output_type": "display_data"
    },
    {
     "data": {
      "text/plain": [
       "  super_opeid        name                type            tier       \n",
       " Min.   :    9   Length:1009        Min.   :2.000   Min.   : 1.000  \n",
       " 1st Qu.: 1959   Class :character   1st Qu.:2.000   1st Qu.: 6.000  \n",
       " Median : 2929   Mode  :character   Median :2.000   Median : 6.000  \n",
       " Mean   : 5670                      Mean   :2.188   Mean   : 6.674  \n",
       " 3rd Qu.: 3783                      3rd Qu.:2.000   3rd Qu.: 8.000  \n",
       " Max.   :41302                      Max.   :3.000   Max.   :12.000  \n",
       "  tier_name            iclevel          region         state          \n",
       " Length:1009        Min.   :1.000   Min.   :1.000   Length:1009       \n",
       " Class :character   1st Qu.:1.000   1st Qu.:1.000   Class :character  \n",
       " Mode  :character   Median :1.000   Median :2.000   Mode  :character  \n",
       "                    Mean   :1.167   Mean   :2.248                     \n",
       "                    3rd Qu.:1.000   3rd Qu.:3.000                     \n",
       "                    Max.   :3.000   Max.   :4.000                     \n",
       "    czname            mobility1       mobility2         mobility3      \n",
       " Length:1009        Min.   :0.812   Min.   :0.00903   Min.   :-0.9681  \n",
       " Class :character   1st Qu.:1.917   1st Qu.:1.05284   1st Qu.: 0.1492  \n",
       " Mode  :character   Median :2.248   Median :1.36857   Median : 0.4665  \n",
       "                    Mean   :2.244   Mean   :1.34783   Mean   : 0.4277  \n",
       "                    3rd Qu.:2.593   3rd Qu.:1.67665   3rd Qu.: 0.7441  \n",
       "                    Max.   :3.799   Max.   :2.54012   Max.   : 1.6443  \n",
       "   mobility4         mobility5          mobility      \n",
       " Min.   :-2.1216   Min.   :-3.1437   Min.   :-3.8414  \n",
       " 1st Qu.:-0.7676   1st Qu.:-1.7005   1st Qu.: 0.7065  \n",
       " Median :-0.4638   Median :-1.4041   Median : 2.2397  \n",
       " Mean   :-0.4918   Mean   :-1.4370   Mean   : 2.0907  \n",
       " 3rd Qu.:-0.1663   3rd Qu.:-1.1270   3rd Qu.: 3.6418  \n",
       " Max.   : 0.7053   Max.   :-0.3409   Max.   : 8.2631  "
      ]
     },
     "metadata": {},
     "output_type": "display_data"
    },
    {
     "data": {
      "text/plain": [
       "\n",
       "\tWelch Two Sample t-test\n",
       "\n",
       "data:  public$mobility and private$mobility\n",
       "t = -13.354, df = 1781.2, p-value < 2.2e-16\n",
       "alternative hypothesis: true difference in means is not equal to 0\n",
       "95 percent confidence interval:\n",
       " -1.2154004 -0.9040999\n",
       "sample estimates:\n",
       "mean of x mean of y \n",
       " 1.030904  2.090655 \n"
      ]
     },
     "metadata": {},
     "output_type": "display_data"
    }
   ],
   "source": [
    "\n",
    "public <-filter(dset, type == 1)\n",
    "private <-filter(dset, type != 1)\n",
    "\n",
    "summary(dset)\n",
    "summary(public)\n",
    "summary(private)\n",
    "\n",
    "t.test(public$mobility,private$mobility)"
   ]
  },
  {
   "cell_type": "markdown",
   "metadata": {},
   "source": [
    "### Question 3. Does attending lvy or other colleges make a difference in terms of upward mobility?"
   ]
  },
  {
   "cell_type": "code",
   "execution_count": 11,
   "metadata": {},
   "outputs": [],
   "source": [
    "ivy <- filter(dset, tier == 1)\n",
    "other_colleges <-filter(dset, tier != 1)"
   ]
  },
  {
   "cell_type": "code",
   "execution_count": 12,
   "metadata": {},
   "outputs": [
    {
     "data": {
      "text/plain": [
       "\n",
       "\tWelch Two Sample t-test\n",
       "\n",
       "data:  ivy$mobility and other_colleges$mobility\n",
       "t = 26.734, df = 12.826, p-value = 1.248e-12\n",
       "alternative hypothesis: true difference in means is not equal to 0\n",
       "95 percent confidence interval:\n",
       " 3.600085 4.234028\n",
       "sample estimates:\n",
       "mean of x mean of y \n",
       " 5.412847  1.495790 \n"
      ]
     },
     "metadata": {},
     "output_type": "display_data"
    }
   ],
   "source": [
    "t.test(ivy$mobility,other_colleges$mobility)"
   ]
  },
  {
   "cell_type": "code",
   "execution_count": 13,
   "metadata": {},
   "outputs": [
    {
     "data": {
      "text/plain": [
       "\n",
       "\tWelch Two Sample t-test\n",
       "\n",
       "data:  ivy$mobility and dset$mobility\n",
       "t = 26.575, df = 12.851, p-value = 1.293e-12\n",
       "alternative hypothesis: true difference in means is not equal to 0\n",
       "95 percent confidence interval:\n",
       " 3.578618 4.212745\n",
       "sample estimates:\n",
       "mean of x mean of y \n",
       " 5.412847  1.517165 \n"
      ]
     },
     "metadata": {},
     "output_type": "display_data"
    }
   ],
   "source": [
    "t.test(ivy$mobility,dset$mobility)"
   ]
  },
  {
   "cell_type": "markdown",
   "metadata": {},
   "source": [
    "### Question 4. Does attending colleges in different regions (1 = Northeast, 2 = Midwest, 3 = South, 4 = West) makes a difference in terms of upward mobility?\n",
    "\n"
   ]
  },
  {
   "cell_type": "code",
   "execution_count": 14,
   "metadata": {},
   "outputs": [],
   "source": [
    "northeast <- filter(dset, region == 1)\n",
    "midwest <- filter(dset, region == 2)\n",
    "south <- filter(dset, region == 3)\n",
    "west <- filter(dset, region == 4)\n",
    "\n",
    "\n"
   ]
  },
  {
   "cell_type": "code",
   "execution_count": 15,
   "metadata": {},
   "outputs": [
    {
     "data": {
      "text/plain": [
       "\n",
       "\tWelch Two Sample t-test\n",
       "\n",
       "data:  northeast$mobility and dset$mobility\n",
       "t = 8.1874, df = 691.67, p-value = 1.286e-15\n",
       "alternative hypothesis: true difference in means is not equal to 0\n",
       "95 percent confidence interval:\n",
       " 0.6309745 1.0290646\n",
       "sample estimates:\n",
       "mean of x mean of y \n",
       " 2.347185  1.517165 \n"
      ]
     },
     "metadata": {},
     "output_type": "display_data"
    }
   ],
   "source": [
    "t.test(northeast$mobility,dset$mobility)"
   ]
  },
  {
   "cell_type": "code",
   "execution_count": 16,
   "metadata": {},
   "outputs": [
    {
     "data": {
      "text/plain": [
       "\n",
       "\tWelch Two Sample t-test\n",
       "\n",
       "data:  south$mobility and dset$mobility\n",
       "t = -6.5556, df = 1561.8, p-value = 7.508e-11\n",
       "alternative hypothesis: true difference in means is not equal to 0\n",
       "95 percent confidence interval:\n",
       " -0.6113280 -0.3297507\n",
       "sample estimates:\n",
       "mean of x mean of y \n",
       " 1.046626  1.517165 \n"
      ]
     },
     "metadata": {},
     "output_type": "display_data"
    }
   ],
   "source": [
    "t.test(south$mobility,dset$mobility)"
   ]
  },
  {
   "cell_type": "code",
   "execution_count": 17,
   "metadata": {},
   "outputs": [
    {
     "data": {
      "text/plain": [
       "\n",
       "\tWelch Two Sample t-test\n",
       "\n",
       "data:  midwest$mobility and dset$mobility\n",
       "t = 2.3694, df = 858.81, p-value = 0.01804\n",
       "alternative hypothesis: true difference in means is not equal to 0\n",
       "95 percent confidence interval:\n",
       " 0.0343677 0.3660716\n",
       "sample estimates:\n",
       "mean of x mean of y \n",
       " 1.717385  1.517165 \n"
      ]
     },
     "metadata": {},
     "output_type": "display_data"
    },
    {
     "data": {
      "text/plain": [
       "\n",
       "\tWelch Two Sample t-test\n",
       "\n",
       "data:  west$mobility and dset$mobility\n",
       "t = -3.7104, df = 526.82, p-value = 0.0002289\n",
       "alternative hypothesis: true difference in means is not equal to 0\n",
       "95 percent confidence interval:\n",
       " -0.5794073 -0.1782594\n",
       "sample estimates:\n",
       "mean of x mean of y \n",
       " 1.138332  1.517165 \n"
      ]
     },
     "metadata": {},
     "output_type": "display_data"
    }
   ],
   "source": [
    "t.test(midwest$mobility,dset$mobility)\n",
    "t.test(west$mobility,dset$mobility)\n"
   ]
  },
  {
   "cell_type": "markdown",
   "metadata": {},
   "source": [
    "### Question 5. Does year-of-colleges (2-year, 4-year, less than 2 year) make a difference in terms of upward mobility?\n",
    "\n"
   ]
  },
  {
   "cell_type": "code",
   "execution_count": 23,
   "metadata": {},
   "outputs": [],
   "source": [
    "fouryr <- filter(dset, iclevel == 1)\n",
    "twoyr <-filter(dset, iclevel == 2)\n",
    "lesstyr <-filter(dset, iclevel == 3)"
   ]
  },
  {
   "cell_type": "code",
   "execution_count": 24,
   "metadata": {},
   "outputs": [
    {
     "data": {
      "text/plain": [
       "\n",
       "\tWelch Two Sample t-test\n",
       "\n",
       "data:  twoyr$mobility and fouryr$mobility\n",
       "t = -39.308, df = 2144.8, p-value < 2.2e-16\n",
       "alternative hypothesis: true difference in means is not equal to 0\n",
       "95 percent confidence interval:\n",
       " -2.361392 -2.136970\n",
       "sample estimates:\n",
       "mean of x mean of y \n",
       "0.1605579 2.4097388 \n"
      ]
     },
     "metadata": {},
     "output_type": "display_data"
    },
    {
     "data": {
      "text/plain": [
       "\n",
       "\tWelch Two Sample t-test\n",
       "\n",
       "data:  lesstyr$mobility and fouryr$mobility\n",
       "t = -19.495, df = 51.074, p-value < 2.2e-16\n",
       "alternative hypothesis: true difference in means is not equal to 0\n",
       "95 percent confidence interval:\n",
       " -4.415791 -3.591240\n",
       "sample estimates:\n",
       "mean of x mean of y \n",
       "-1.593777  2.409739 \n"
      ]
     },
     "metadata": {},
     "output_type": "display_data"
    },
    {
     "data": {
      "text/plain": [
       "\n",
       "\tWelch Two Sample t-test\n",
       "\n",
       "data:  lesstyr$mobility and twoyr$mobility\n",
       "t = -8.6487, df = 48.614, p-value = 2.114e-11\n",
       "alternative hypothesis: true difference in means is not equal to 0\n",
       "95 percent confidence interval:\n",
       " -2.162047 -1.346622\n",
       "sample estimates:\n",
       " mean of x  mean of y \n",
       "-1.5937765  0.1605579 \n"
      ]
     },
     "metadata": {},
     "output_type": "display_data"
    }
   ],
   "source": [
    "t.test(twoyr$mobility,fouryr$mobility)\n",
    "t.test(lesstyr$mobility,fouryr$mobility)\n",
    "t.test(lesstyr$mobility,twoyr$mobility)"
   ]
  },
  {
   "cell_type": "code",
   "execution_count": null,
   "metadata": {},
   "outputs": [],
   "source": []
  },
  {
   "cell_type": "code",
   "execution_count": null,
   "metadata": {},
   "outputs": [],
   "source": [
    " "
   ]
  },
  {
   "cell_type": "markdown",
   "metadata": {},
   "source": [
    "### Question 6 Does attending colleges in different states (RI versus other state) make a difference in terms of upward mobility?"
   ]
  },
  {
   "cell_type": "code",
   "execution_count": 25,
   "metadata": {},
   "outputs": [
    {
     "data": {
      "text/html": [
       "<table>\n",
       "<caption>A tibble: 12 × 15</caption>\n",
       "<thead>\n",
       "\t<tr><th scope=col>super_opeid</th><th scope=col>name</th><th scope=col>type</th><th scope=col>tier</th><th scope=col>tier_name</th><th scope=col>iclevel</th><th scope=col>region</th><th scope=col>state</th><th scope=col>czname</th><th scope=col>mobility1</th><th scope=col>mobility2</th><th scope=col>mobility3</th><th scope=col>mobility4</th><th scope=col>mobility5</th><th scope=col>mobility</th></tr>\n",
       "\t<tr><th scope=col>&lt;dbl&gt;</th><th scope=col>&lt;chr&gt;</th><th scope=col>&lt;dbl&gt;</th><th scope=col>&lt;dbl&gt;</th><th scope=col>&lt;chr&gt;</th><th scope=col>&lt;dbl&gt;</th><th scope=col>&lt;dbl&gt;</th><th scope=col>&lt;chr&gt;</th><th scope=col>&lt;chr&gt;</th><th scope=col>&lt;dbl&gt;</th><th scope=col>&lt;dbl&gt;</th><th scope=col>&lt;dbl&gt;</th><th scope=col>&lt;dbl&gt;</th><th scope=col>&lt;dbl&gt;</th><th scope=col>&lt;dbl&gt;</th></tr>\n",
       "</thead>\n",
       "<tbody>\n",
       "\t<tr><td> 3401</td><td>Brown University                          </td><td>2</td><td> 1</td><td>Ivy Plus                                     </td><td>1</td><td>1</td><td>RI</td><td>Providence</td><td>2.949877</td><td>1.9949354</td><td>0.94151463</td><td> 0.09444714</td><td>-0.9350934</td><td>5.0456809</td></tr>\n",
       "\t<tr><td> 3402</td><td>Bryant University                         </td><td>2</td><td> 6</td><td>Selective private                            </td><td>1</td><td>1</td><td>RI</td><td>Providence</td><td>3.090899</td><td>2.0278108</td><td>1.30131055</td><td> 0.39803573</td><td>-0.5391673</td><td>6.2788887</td></tr>\n",
       "\t<tr><td> 3408</td><td>Community College Of Rhode Island         </td><td>1</td><td> 9</td><td>Two-year (public and private not-for-profit) </td><td>2</td><td>1</td><td>RI</td><td>Providence</td><td>1.769052</td><td>0.9408765</td><td>0.03970000</td><td>-0.79397914</td><td>-1.7699451</td><td>0.1857043</td></tr>\n",
       "\t<tr><td> 3404</td><td><span style=white-space:pre-wrap>Johnson &amp; Wales University                </span></td><td>2</td><td> 6</td><td><span style=white-space:pre-wrap>Selective private                            </span></td><td>1</td><td>1</td><td>RI</td><td>Providence</td><td>2.042767</td><td>1.2027921</td><td>0.33478274</td><td>-0.56846913</td><td>-1.4688406</td><td>1.5430324</td></tr>\n",
       "\t<tr><td> 7845</td><td>New England Institute Of Technology       </td><td>2</td><td> 8</td><td>Nonselective four-year private not-for-profit</td><td>1</td><td>1</td><td>RI</td><td>Providence</td><td>2.066027</td><td>1.3026956</td><td>0.41978918</td><td>-0.40590076</td><td>-1.2560159</td><td>2.1265954</td></tr>\n",
       "\t<tr><td> 3406</td><td>Providence College                        </td><td>2</td><td> 4</td><td>Highly selective private                     </td><td>1</td><td>1</td><td>RI</td><td>Providence</td><td>2.680656</td><td>2.0432909</td><td>1.22501522</td><td> 0.14296959</td><td>-0.7181167</td><td>5.3738154</td></tr>\n",
       "\t<tr><td> 3407</td><td>Rhode Island College                      </td><td>1</td><td> 5</td><td>Selective public                             </td><td>1</td><td>1</td><td>RI</td><td>Providence</td><td>2.279001</td><td>1.5543389</td><td>0.46662120</td><td>-0.31018940</td><td>-1.3102312</td><td>2.6795404</td></tr>\n",
       "\t<tr><td> 3409</td><td>Rhode Island School Of Design             </td><td>2</td><td> 8</td><td>Nonselective four-year private not-for-profit</td><td>1</td><td>1</td><td>RI</td><td>Providence</td><td>2.135780</td><td>1.4620045</td><td>0.19490194</td><td>-0.61250229</td><td>-1.5591927</td><td>1.6209913</td></tr>\n",
       "\t<tr><td> 3410</td><td>Roger Williams University                 </td><td>2</td><td> 6</td><td>Selective private                            </td><td>1</td><td>1</td><td>RI</td><td>Providence</td><td>2.455235</td><td>1.8542605</td><td>0.83610862</td><td>-0.13190032</td><td>-1.0858555</td><td>3.9278486</td></tr>\n",
       "\t<tr><td>11647</td><td>SBI Campus - An Affiliate Of Sanford-Brown</td><td>3</td><td>11</td><td>Two-year for-profit                          </td><td>2</td><td>1</td><td>RI</td><td>Providence</td><td>1.872970</td><td>0.8811591</td><td>0.06106303</td><td>-0.86106612</td><td>-1.6691657</td><td>0.2849600</td></tr>\n",
       "\t<tr><td> 3411</td><td>Salve Regina University                   </td><td>2</td><td> 6</td><td>Selective private                            </td><td>1</td><td>1</td><td>RI</td><td>Providence</td><td>2.631644</td><td>1.9814288</td><td>0.62428222</td><td>-0.01100736</td><td>-1.3476093</td><td>3.8787385</td></tr>\n",
       "\t<tr><td> 3414</td><td>University Of Rhode Island                </td><td>1</td><td> 5</td><td>Selective public                             </td><td>1</td><td>1</td><td>RI</td><td>Providence</td><td>2.682054</td><td>1.6924574</td><td>0.88110012</td><td>-0.03813018</td><td>-0.9765938</td><td>4.2408880</td></tr>\n",
       "</tbody>\n",
       "</table>\n"
      ],
      "text/latex": [
       "A tibble: 12 × 15\n",
       "\\begin{tabular}{r|lllllllllllllll}\n",
       " super\\_opeid & name & type & tier & tier\\_name & iclevel & region & state & czname & mobility1 & mobility2 & mobility3 & mobility4 & mobility5 & mobility\\\\\n",
       " <dbl> & <chr> & <dbl> & <dbl> & <chr> & <dbl> & <dbl> & <chr> & <chr> & <dbl> & <dbl> & <dbl> & <dbl> & <dbl> & <dbl>\\\\\n",
       "\\hline\n",
       "\t  3401 & Brown University                           & 2 &  1 & Ivy Plus                                      & 1 & 1 & RI & Providence & 2.949877 & 1.9949354 & 0.94151463 &  0.09444714 & -0.9350934 & 5.0456809\\\\\n",
       "\t  3402 & Bryant University                          & 2 &  6 & Selective private                             & 1 & 1 & RI & Providence & 3.090899 & 2.0278108 & 1.30131055 &  0.39803573 & -0.5391673 & 6.2788887\\\\\n",
       "\t  3408 & Community College Of Rhode Island          & 1 &  9 & Two-year (public and private not-for-profit)  & 2 & 1 & RI & Providence & 1.769052 & 0.9408765 & 0.03970000 & -0.79397914 & -1.7699451 & 0.1857043\\\\\n",
       "\t  3404 & Johnson \\& Wales University                 & 2 &  6 & Selective private                             & 1 & 1 & RI & Providence & 2.042767 & 1.2027921 & 0.33478274 & -0.56846913 & -1.4688406 & 1.5430324\\\\\n",
       "\t  7845 & New England Institute Of Technology        & 2 &  8 & Nonselective four-year private not-for-profit & 1 & 1 & RI & Providence & 2.066027 & 1.3026956 & 0.41978918 & -0.40590076 & -1.2560159 & 2.1265954\\\\\n",
       "\t  3406 & Providence College                         & 2 &  4 & Highly selective private                      & 1 & 1 & RI & Providence & 2.680656 & 2.0432909 & 1.22501522 &  0.14296959 & -0.7181167 & 5.3738154\\\\\n",
       "\t  3407 & Rhode Island College                       & 1 &  5 & Selective public                              & 1 & 1 & RI & Providence & 2.279001 & 1.5543389 & 0.46662120 & -0.31018940 & -1.3102312 & 2.6795404\\\\\n",
       "\t  3409 & Rhode Island School Of Design              & 2 &  8 & Nonselective four-year private not-for-profit & 1 & 1 & RI & Providence & 2.135780 & 1.4620045 & 0.19490194 & -0.61250229 & -1.5591927 & 1.6209913\\\\\n",
       "\t  3410 & Roger Williams University                  & 2 &  6 & Selective private                             & 1 & 1 & RI & Providence & 2.455235 & 1.8542605 & 0.83610862 & -0.13190032 & -1.0858555 & 3.9278486\\\\\n",
       "\t 11647 & SBI Campus - An Affiliate Of Sanford-Brown & 3 & 11 & Two-year for-profit                           & 2 & 1 & RI & Providence & 1.872970 & 0.8811591 & 0.06106303 & -0.86106612 & -1.6691657 & 0.2849600\\\\\n",
       "\t  3411 & Salve Regina University                    & 2 &  6 & Selective private                             & 1 & 1 & RI & Providence & 2.631644 & 1.9814288 & 0.62428222 & -0.01100736 & -1.3476093 & 3.8787385\\\\\n",
       "\t  3414 & University Of Rhode Island                 & 1 &  5 & Selective public                              & 1 & 1 & RI & Providence & 2.682054 & 1.6924574 & 0.88110012 & -0.03813018 & -0.9765938 & 4.2408880\\\\\n",
       "\\end{tabular}\n"
      ],
      "text/markdown": [
       "\n",
       "A tibble: 12 × 15\n",
       "\n",
       "| super_opeid &lt;dbl&gt; | name &lt;chr&gt; | type &lt;dbl&gt; | tier &lt;dbl&gt; | tier_name &lt;chr&gt; | iclevel &lt;dbl&gt; | region &lt;dbl&gt; | state &lt;chr&gt; | czname &lt;chr&gt; | mobility1 &lt;dbl&gt; | mobility2 &lt;dbl&gt; | mobility3 &lt;dbl&gt; | mobility4 &lt;dbl&gt; | mobility5 &lt;dbl&gt; | mobility &lt;dbl&gt; |\n",
       "|---|---|---|---|---|---|---|---|---|---|---|---|---|---|---|\n",
       "|  3401 | Brown University                           | 2 |  1 | Ivy Plus                                      | 1 | 1 | RI | Providence | 2.949877 | 1.9949354 | 0.94151463 |  0.09444714 | -0.9350934 | 5.0456809 |\n",
       "|  3402 | Bryant University                          | 2 |  6 | Selective private                             | 1 | 1 | RI | Providence | 3.090899 | 2.0278108 | 1.30131055 |  0.39803573 | -0.5391673 | 6.2788887 |\n",
       "|  3408 | Community College Of Rhode Island          | 1 |  9 | Two-year (public and private not-for-profit)  | 2 | 1 | RI | Providence | 1.769052 | 0.9408765 | 0.03970000 | -0.79397914 | -1.7699451 | 0.1857043 |\n",
       "|  3404 | Johnson &amp; Wales University                 | 2 |  6 | Selective private                             | 1 | 1 | RI | Providence | 2.042767 | 1.2027921 | 0.33478274 | -0.56846913 | -1.4688406 | 1.5430324 |\n",
       "|  7845 | New England Institute Of Technology        | 2 |  8 | Nonselective four-year private not-for-profit | 1 | 1 | RI | Providence | 2.066027 | 1.3026956 | 0.41978918 | -0.40590076 | -1.2560159 | 2.1265954 |\n",
       "|  3406 | Providence College                         | 2 |  4 | Highly selective private                      | 1 | 1 | RI | Providence | 2.680656 | 2.0432909 | 1.22501522 |  0.14296959 | -0.7181167 | 5.3738154 |\n",
       "|  3407 | Rhode Island College                       | 1 |  5 | Selective public                              | 1 | 1 | RI | Providence | 2.279001 | 1.5543389 | 0.46662120 | -0.31018940 | -1.3102312 | 2.6795404 |\n",
       "|  3409 | Rhode Island School Of Design              | 2 |  8 | Nonselective four-year private not-for-profit | 1 | 1 | RI | Providence | 2.135780 | 1.4620045 | 0.19490194 | -0.61250229 | -1.5591927 | 1.6209913 |\n",
       "|  3410 | Roger Williams University                  | 2 |  6 | Selective private                             | 1 | 1 | RI | Providence | 2.455235 | 1.8542605 | 0.83610862 | -0.13190032 | -1.0858555 | 3.9278486 |\n",
       "| 11647 | SBI Campus - An Affiliate Of Sanford-Brown | 3 | 11 | Two-year for-profit                           | 2 | 1 | RI | Providence | 1.872970 | 0.8811591 | 0.06106303 | -0.86106612 | -1.6691657 | 0.2849600 |\n",
       "|  3411 | Salve Regina University                    | 2 |  6 | Selective private                             | 1 | 1 | RI | Providence | 2.631644 | 1.9814288 | 0.62428222 | -0.01100736 | -1.3476093 | 3.8787385 |\n",
       "|  3414 | University Of Rhode Island                 | 1 |  5 | Selective public                              | 1 | 1 | RI | Providence | 2.682054 | 1.6924574 | 0.88110012 | -0.03813018 | -0.9765938 | 4.2408880 |\n",
       "\n"
      ],
      "text/plain": [
       "   super_opeid name                                       type tier\n",
       "1   3401       Brown University                           2     1  \n",
       "2   3402       Bryant University                          2     6  \n",
       "3   3408       Community College Of Rhode Island          1     9  \n",
       "4   3404       Johnson & Wales University                 2     6  \n",
       "5   7845       New England Institute Of Technology        2     8  \n",
       "6   3406       Providence College                         2     4  \n",
       "7   3407       Rhode Island College                       1     5  \n",
       "8   3409       Rhode Island School Of Design              2     8  \n",
       "9   3410       Roger Williams University                  2     6  \n",
       "10 11647       SBI Campus - An Affiliate Of Sanford-Brown 3    11  \n",
       "11  3411       Salve Regina University                    2     6  \n",
       "12  3414       University Of Rhode Island                 1     5  \n",
       "   tier_name                                     iclevel region state\n",
       "1  Ivy Plus                                      1       1      RI   \n",
       "2  Selective private                             1       1      RI   \n",
       "3  Two-year (public and private not-for-profit)  2       1      RI   \n",
       "4  Selective private                             1       1      RI   \n",
       "5  Nonselective four-year private not-for-profit 1       1      RI   \n",
       "6  Highly selective private                      1       1      RI   \n",
       "7  Selective public                              1       1      RI   \n",
       "8  Nonselective four-year private not-for-profit 1       1      RI   \n",
       "9  Selective private                             1       1      RI   \n",
       "10 Two-year for-profit                           2       1      RI   \n",
       "11 Selective private                             1       1      RI   \n",
       "12 Selective public                              1       1      RI   \n",
       "   czname     mobility1 mobility2 mobility3  mobility4   mobility5  mobility \n",
       "1  Providence 2.949877  1.9949354 0.94151463  0.09444714 -0.9350934 5.0456809\n",
       "2  Providence 3.090899  2.0278108 1.30131055  0.39803573 -0.5391673 6.2788887\n",
       "3  Providence 1.769052  0.9408765 0.03970000 -0.79397914 -1.7699451 0.1857043\n",
       "4  Providence 2.042767  1.2027921 0.33478274 -0.56846913 -1.4688406 1.5430324\n",
       "5  Providence 2.066027  1.3026956 0.41978918 -0.40590076 -1.2560159 2.1265954\n",
       "6  Providence 2.680656  2.0432909 1.22501522  0.14296959 -0.7181167 5.3738154\n",
       "7  Providence 2.279001  1.5543389 0.46662120 -0.31018940 -1.3102312 2.6795404\n",
       "8  Providence 2.135780  1.4620045 0.19490194 -0.61250229 -1.5591927 1.6209913\n",
       "9  Providence 2.455235  1.8542605 0.83610862 -0.13190032 -1.0858555 3.9278486\n",
       "10 Providence 1.872970  0.8811591 0.06106303 -0.86106612 -1.6691657 0.2849600\n",
       "11 Providence 2.631644  1.9814288 0.62428222 -0.01100736 -1.3476093 3.8787385\n",
       "12 Providence 2.682054  1.6924574 0.88110012 -0.03813018 -0.9765938 4.2408880"
      ]
     },
     "metadata": {},
     "output_type": "display_data"
    }
   ],
   "source": [
    "RhodeIsland <- filter(dset, state == \"RI\")\n",
    "RhodeIsland"
   ]
  },
  {
   "cell_type": "code",
   "execution_count": 26,
   "metadata": {},
   "outputs": [
    {
     "data": {
      "text/plain": [
       "\n",
       "\tWelch Two Sample t-test\n",
       "\n",
       "data:  RhodeIsland$mobility and dset$mobility\n",
       "t = 2.739, df = 11.107, p-value = 0.01911\n",
       "alternative hypothesis: true difference in means is not equal to 0\n",
       "95 percent confidence interval:\n",
       " 0.3121819 2.8512680\n",
       "sample estimates:\n",
       "mean of x mean of y \n",
       " 3.098890  1.517165 \n"
      ]
     },
     "metadata": {},
     "output_type": "display_data"
    }
   ],
   "source": [
    "t.test(RhodeIsland$mobility,dset$mobility)"
   ]
  },
  {
   "cell_type": "code",
   "execution_count": null,
   "metadata": {},
   "outputs": [],
   "source": []
  }
 ],
 "metadata": {
  "kernelspec": {
   "display_name": "R",
   "language": "R",
   "name": "ir"
  },
  "language_info": {
   "codemirror_mode": "r",
   "file_extension": ".r",
   "mimetype": "text/x-r-source",
   "name": "R",
   "pygments_lexer": "r",
   "version": "3.6.1"
  }
 },
 "nbformat": 4,
 "nbformat_minor": 4
}
