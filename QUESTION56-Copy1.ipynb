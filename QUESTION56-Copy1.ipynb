{
 "cells": [
  {
   "cell_type": "code",
   "execution_count": 3,
   "metadata": {},
   "outputs": [
    {
     "name": "stderr",
     "output_type": "stream",
     "text": [
      "\n",
      "Attaching package: ‘dplyr’\n",
      "\n",
      "The following objects are masked from ‘package:stats’:\n",
      "\n",
      "    filter, lag\n",
      "\n",
      "The following objects are masked from ‘package:base’:\n",
      "\n",
      "    intersect, setdiff, setequal, union\n",
      "\n",
      "Warning message:\n",
      "“Missing column names filled in: 'X44' [44], 'X45' [45]”Parsed with column specification:\n",
      "cols(\n",
      "  .default = col_double(),\n",
      "  name = \u001b[31mcol_character()\u001b[39m,\n",
      "  tier_name = \u001b[31mcol_character()\u001b[39m,\n",
      "  state = \u001b[31mcol_character()\u001b[39m,\n",
      "  czname = \u001b[31mcol_character()\u001b[39m,\n",
      "  X44 = \u001b[33mcol_logical()\u001b[39m,\n",
      "  X45 = \u001b[33mcol_logical()\u001b[39m\n",
      ")\n",
      "See spec(...) for full column specifications.\n"
     ]
    },
    {
     "data": {
      "text/html": [
       "<table>\n",
       "<caption>A tibble: 6 × 45</caption>\n",
       "<thead>\n",
       "\t<tr><th scope=col>super_opeid</th><th scope=col>name</th><th scope=col>type</th><th scope=col>tier</th><th scope=col>tier_name</th><th scope=col>iclevel</th><th scope=col>region</th><th scope=col>state</th><th scope=col>czname</th><th scope=col>par_q1</th><th scope=col>⋯</th><th scope=col>kq3_cond_parq4</th><th scope=col>kq4_cond_parq4</th><th scope=col>kq5_cond_parq4</th><th scope=col>kq1_cond_parq5</th><th scope=col>kq2_cond_parq5</th><th scope=col>kq3_cond_parq5</th><th scope=col>kq4_cond_parq5</th><th scope=col>kq5_cond_parq5</th><th scope=col>X44</th><th scope=col>X45</th></tr>\n",
       "\t<tr><th scope=col>&lt;dbl&gt;</th><th scope=col>&lt;chr&gt;</th><th scope=col>&lt;dbl&gt;</th><th scope=col>&lt;dbl&gt;</th><th scope=col>&lt;chr&gt;</th><th scope=col>&lt;dbl&gt;</th><th scope=col>&lt;dbl&gt;</th><th scope=col>&lt;chr&gt;</th><th scope=col>&lt;chr&gt;</th><th scope=col>&lt;dbl&gt;</th><th scope=col>⋯</th><th scope=col>&lt;dbl&gt;</th><th scope=col>&lt;dbl&gt;</th><th scope=col>&lt;dbl&gt;</th><th scope=col>&lt;dbl&gt;</th><th scope=col>&lt;dbl&gt;</th><th scope=col>&lt;dbl&gt;</th><th scope=col>&lt;dbl&gt;</th><th scope=col>&lt;dbl&gt;</th><th scope=col>&lt;lgl&gt;</th><th scope=col>&lt;lgl&gt;</th></tr>\n",
       "</thead>\n",
       "<tbody>\n",
       "\t<tr><td>30955</td><td>ASA Institute Of Business &amp; Computer Technology</td><td>3</td><td>11</td><td><span style=white-space:pre-wrap>Two-year for-profit          </span></td><td>2</td><td>1</td><td>NY</td><td><span style=white-space:pre-wrap>New York     </span></td><td>0.44357512</td><td>⋯</td><td>0.1760198</td><td>0.2858109</td><td>0.1156441</td><td>0.0962707</td><td>0.2985320</td><td>0.2036935</td><td>0.2042709</td><td>0.1972328</td><td>NA</td><td>NA</td></tr>\n",
       "\t<tr><td> 3537</td><td>Abilene Christian University                   </td><td>2</td><td> 6</td><td>Selective private            </td><td>1</td><td>3</td><td>TX</td><td>Abilene      </td><td>0.05244135</td><td>⋯</td><td>0.1742201</td><td>0.2332917</td><td>0.3146711</td><td>0.1346296</td><td>0.1225604</td><td>0.1417430</td><td>0.2391946</td><td>0.3618724</td><td>NA</td><td>NA</td></tr>\n",
       "\t<tr><td> 1541</td><td>Abraham Baldwin Agricultural College           </td><td>1</td><td> 7</td><td>Nonselective four-year public</td><td>1</td><td>3</td><td>GA</td><td>Valdosta     </td><td>0.15455518</td><td>⋯</td><td>0.2335978</td><td>0.3056518</td><td>0.2012344</td><td>0.1240982</td><td>0.1493977</td><td>0.1966711</td><td>0.3047610</td><td>0.2250720</td><td>NA</td><td>NA</td></tr>\n",
       "\t<tr><td> 7531</td><td>Academy Of Art University                      </td><td>3</td><td>10</td><td>Four-year for-profit         </td><td>1</td><td>4</td><td>CA</td><td>San Francisco</td><td>0.09352422</td><td>⋯</td><td>0.1671838</td><td>0.1889049</td><td>0.2519145</td><td>0.1966253</td><td>0.1850919</td><td>0.1701652</td><td>0.1515126</td><td>0.2966050</td><td>NA</td><td>NA</td></tr>\n",
       "\t<tr><td> 1345</td><td>Adams State University                         </td><td>1</td><td> 5</td><td>Selective public             </td><td>1</td><td>4</td><td>CO</td><td>Alamosa      </td><td>0.12922439</td><td>⋯</td><td>0.2277163</td><td>0.2919978</td><td>0.2034337</td><td>0.1050013</td><td>0.1181480</td><td>0.2660201</td><td>0.2192669</td><td>0.2915637</td><td>NA</td><td>NA</td></tr>\n",
       "\t<tr><td> 2666</td><td>Adelphi University                             </td><td>2</td><td> 6</td><td>Selective private            </td><td>1</td><td>1</td><td>NY</td><td>New York     </td><td>0.08704802</td><td>⋯</td><td>0.1625158</td><td>0.1900162</td><td>0.4280847</td><td>0.1032917</td><td>0.1018200</td><td>0.1185716</td><td>0.1900711</td><td>0.4862457</td><td>NA</td><td>NA</td></tr>\n",
       "</tbody>\n",
       "</table>\n"
      ],
      "text/latex": [
       "A tibble: 6 × 45\n",
       "\\begin{tabular}{r|lllllllllllllllllllllllllllllllllllllllllllll}\n",
       " super\\_opeid & name & type & tier & tier\\_name & iclevel & region & state & czname & par\\_q1 & par\\_q2 & par\\_q3 & par\\_q4 & par\\_q5 & par\\_top10pc & par\\_top5pc & par\\_top1pc & par\\_toppt1pc & kq1\\_cond\\_parq1 & kq2\\_cond\\_parq1 & kq3\\_cond\\_parq1 & kq4\\_cond\\_parq1 & kq5\\_cond\\_parq1 & kq1\\_cond\\_parq2 & kq2\\_cond\\_parq2 & kq3\\_cond\\_parq2 & kq4\\_cond\\_parq2 & kq5\\_cond\\_parq2 & kq1\\_cond\\_parq3 & kq2\\_cond\\_parq3 & kq3\\_cond\\_parq3 & kq4\\_cond\\_parq3 & kq5\\_cond\\_parq3 & kq1\\_cond\\_parq4 & kq2\\_cond\\_parq4 & kq3\\_cond\\_parq4 & kq4\\_cond\\_parq4 & kq5\\_cond\\_parq4 & kq1\\_cond\\_parq5 & kq2\\_cond\\_parq5 & kq3\\_cond\\_parq5 & kq4\\_cond\\_parq5 & kq5\\_cond\\_parq5 & X44 & X45\\\\\n",
       " <dbl> & <chr> & <dbl> & <dbl> & <chr> & <dbl> & <dbl> & <chr> & <chr> & <dbl> & <dbl> & <dbl> & <dbl> & <dbl> & <dbl> & <dbl> & <dbl> & <dbl> & <dbl> & <dbl> & <dbl> & <dbl> & <dbl> & <dbl> & <dbl> & <dbl> & <dbl> & <dbl> & <dbl> & <dbl> & <dbl> & <dbl> & <dbl> & <dbl> & <dbl> & <dbl> & <dbl> & <dbl> & <dbl> & <dbl> & <dbl> & <dbl> & <dbl> & <lgl> & <lgl>\\\\\n",
       "\\hline\n",
       "\t 30955 & ASA Institute Of Business \\& Computer Technology & 3 & 11 & Two-year for-profit           & 2 & 1 & NY & New York      & 0.44357512 & 0.3267902 & 0.1437108 & 0.05970676 & 0.02621719 & 0.01322289 & 0.006964943 & 0.000415863 & 0.000103003 & 0.17915321 & 0.3395770 & 0.2437785 & 0.1923267 & 0.04516471 & 0.1655211 & 0.2724355 & 0.2694793 & 0.2078743 & 0.08468985 & 0.19135211 & 0.2240845 & 0.2754507 & 0.2390751 & 0.07003761 & 0.12893395 & 0.2935912 & 0.1760198 & 0.2858109 & 0.1156441 & 0.0962707 & 0.2985320 & 0.2036935 & 0.2042709 & 0.1972328 & NA & NA\\\\\n",
       "\t  3537 & Abilene Christian University                    & 2 &  6 & Selective private             & 1 & 3 & TX & Abilene       & 0.05244135 & 0.1010320 & 0.1639357 & 0.25824005 & 0.42435089 & 0.23586491 & 0.126604725 & 0.023049100 & 0.000841904 & 0.09414483 & 0.1086272 & 0.2559982 & 0.2673270 & 0.27390282 & 0.1861876 & 0.1296391 & 0.2034312 & 0.2330906 & 0.24765150 & 0.14365052 & 0.1588360 & 0.2083745 & 0.2874772 & 0.20166175 & 0.13800210 & 0.1398150 & 0.1742201 & 0.2332917 & 0.3146711 & 0.1346296 & 0.1225604 & 0.1417430 & 0.2391946 & 0.3618724 & NA & NA\\\\\n",
       "\t  1541 & Abraham Baldwin Agricultural College            & 1 &  7 & Nonselective four-year public & 1 & 3 & GA & Valdosta      & 0.15455518 & 0.1871586 & 0.2254971 & 0.23676258 & 0.19602657 & 0.07293054 & 0.033044620 & 0.002520282 & 0.000608527 & 0.17649073 & 0.2397960 & 0.3010153 & 0.1865683 & 0.09612966 & 0.1140146 & 0.2289665 & 0.2860668 & 0.2284759 & 0.14247610 & 0.11998492 & 0.1345169 & 0.2723120 & 0.3115461 & 0.16164010 & 0.09271151 & 0.1668045 & 0.2335978 & 0.3056518 & 0.2012344 & 0.1240982 & 0.1493977 & 0.1966711 & 0.3047610 & 0.2250720 & NA & NA\\\\\n",
       "\t  7531 & Academy Of Art University                       & 3 & 10 & Four-year for-profit          & 1 & 4 & CA & San Francisco & 0.09352422 & 0.1229171 & 0.1753495 & 0.21152512 & 0.39668401 & 0.24404959 & 0.147395509 & 0.035681199 & 0.003368348 & 0.26703011 & 0.1854258 & 0.2062937 & 0.1663503 & 0.17490002 & 0.2090548 & 0.1915711 & 0.2189319 & 0.1363872 & 0.24405494 & 0.19975941 & 0.2208330 & 0.1813436 & 0.1469258 & 0.25113821 & 0.19936280 & 0.1926340 & 0.1671838 & 0.1889049 & 0.2519145 & 0.1966253 & 0.1850919 & 0.1701652 & 0.1515126 & 0.2966050 & NA & NA\\\\\n",
       "\t  1345 & Adams State University                          & 1 &  5 & Selective public              & 1 & 4 & CO & Alamosa       & 0.12922439 & 0.1855039 & 0.2484288 & 0.26087633 & 0.17596664 & 0.06427846 & 0.024887405 & 0.003146715 & 0.000000000 & 0.16999300 & 0.2016696 & 0.2188124 & 0.2636958 & 0.14582912 & 0.1288845 & 0.1836279 & 0.2358722 & 0.2891828 & 0.16243258 & 0.10558637 & 0.1473407 & 0.2641172 & 0.2809070 & 0.20204862 & 0.11754400 & 0.1593082 & 0.2277163 & 0.2919978 & 0.2034337 & 0.1050013 & 0.1181480 & 0.2660201 & 0.2192669 & 0.2915637 & NA & NA\\\\\n",
       "\t  2666 & Adelphi University                              & 2 &  6 & Selective private             & 1 & 1 & NY & New York      & 0.08704802 & 0.1285386 & 0.1564339 & 0.22986453 & 0.39811498 & 0.20536980 & 0.103923967 & 0.023863256 & 0.001936710 & 0.09847519 & 0.1251636 & 0.1938495 & 0.2081772 & 0.37433442 & 0.1281903 & 0.1139460 & 0.1512318 & 0.1938885 & 0.41274347 & 0.09056527 & 0.1066129 & 0.1711234 & 0.1966504 & 0.43504794 & 0.08777559 & 0.1316076 & 0.1625158 & 0.1900162 & 0.4280847 & 0.1032917 & 0.1018200 & 0.1185716 & 0.1900711 & 0.4862457 & NA & NA\\\\\n",
       "\\end{tabular}\n"
      ],
      "text/markdown": [
       "\n",
       "A tibble: 6 × 45\n",
       "\n",
       "| super_opeid &lt;dbl&gt; | name &lt;chr&gt; | type &lt;dbl&gt; | tier &lt;dbl&gt; | tier_name &lt;chr&gt; | iclevel &lt;dbl&gt; | region &lt;dbl&gt; | state &lt;chr&gt; | czname &lt;chr&gt; | par_q1 &lt;dbl&gt; | ⋯ ⋯ | kq3_cond_parq4 &lt;dbl&gt; | kq4_cond_parq4 &lt;dbl&gt; | kq5_cond_parq4 &lt;dbl&gt; | kq1_cond_parq5 &lt;dbl&gt; | kq2_cond_parq5 &lt;dbl&gt; | kq3_cond_parq5 &lt;dbl&gt; | kq4_cond_parq5 &lt;dbl&gt; | kq5_cond_parq5 &lt;dbl&gt; | X44 &lt;lgl&gt; | X45 &lt;lgl&gt; |\n",
       "|---|---|---|---|---|---|---|---|---|---|---|---|---|---|---|---|---|---|---|---|---|\n",
       "| 30955 | ASA Institute Of Business &amp; Computer Technology | 3 | 11 | Two-year for-profit           | 2 | 1 | NY | New York      | 0.44357512 | ⋯ | 0.1760198 | 0.2858109 | 0.1156441 | 0.0962707 | 0.2985320 | 0.2036935 | 0.2042709 | 0.1972328 | NA | NA |\n",
       "|  3537 | Abilene Christian University                    | 2 |  6 | Selective private             | 1 | 3 | TX | Abilene       | 0.05244135 | ⋯ | 0.1742201 | 0.2332917 | 0.3146711 | 0.1346296 | 0.1225604 | 0.1417430 | 0.2391946 | 0.3618724 | NA | NA |\n",
       "|  1541 | Abraham Baldwin Agricultural College            | 1 |  7 | Nonselective four-year public | 1 | 3 | GA | Valdosta      | 0.15455518 | ⋯ | 0.2335978 | 0.3056518 | 0.2012344 | 0.1240982 | 0.1493977 | 0.1966711 | 0.3047610 | 0.2250720 | NA | NA |\n",
       "|  7531 | Academy Of Art University                       | 3 | 10 | Four-year for-profit          | 1 | 4 | CA | San Francisco | 0.09352422 | ⋯ | 0.1671838 | 0.1889049 | 0.2519145 | 0.1966253 | 0.1850919 | 0.1701652 | 0.1515126 | 0.2966050 | NA | NA |\n",
       "|  1345 | Adams State University                          | 1 |  5 | Selective public              | 1 | 4 | CO | Alamosa       | 0.12922439 | ⋯ | 0.2277163 | 0.2919978 | 0.2034337 | 0.1050013 | 0.1181480 | 0.2660201 | 0.2192669 | 0.2915637 | NA | NA |\n",
       "|  2666 | Adelphi University                              | 2 |  6 | Selective private             | 1 | 1 | NY | New York      | 0.08704802 | ⋯ | 0.1625158 | 0.1900162 | 0.4280847 | 0.1032917 | 0.1018200 | 0.1185716 | 0.1900711 | 0.4862457 | NA | NA |\n",
       "\n"
      ],
      "text/plain": [
       "  super_opeid name                                            type tier\n",
       "1 30955       ASA Institute Of Business & Computer Technology 3    11  \n",
       "2  3537       Abilene Christian University                    2     6  \n",
       "3  1541       Abraham Baldwin Agricultural College            1     7  \n",
       "4  7531       Academy Of Art University                       3    10  \n",
       "5  1345       Adams State University                          1     5  \n",
       "6  2666       Adelphi University                              2     6  \n",
       "  tier_name                     iclevel region state czname        par_q1     ⋯\n",
       "1 Two-year for-profit           2       1      NY    New York      0.44357512 ⋯\n",
       "2 Selective private             1       3      TX    Abilene       0.05244135 ⋯\n",
       "3 Nonselective four-year public 1       3      GA    Valdosta      0.15455518 ⋯\n",
       "4 Four-year for-profit          1       4      CA    San Francisco 0.09352422 ⋯\n",
       "5 Selective public              1       4      CO    Alamosa       0.12922439 ⋯\n",
       "6 Selective private             1       1      NY    New York      0.08704802 ⋯\n",
       "  kq3_cond_parq4 kq4_cond_parq4 kq5_cond_parq4 kq1_cond_parq5 kq2_cond_parq5\n",
       "1 0.1760198      0.2858109      0.1156441      0.0962707      0.2985320     \n",
       "2 0.1742201      0.2332917      0.3146711      0.1346296      0.1225604     \n",
       "3 0.2335978      0.3056518      0.2012344      0.1240982      0.1493977     \n",
       "4 0.1671838      0.1889049      0.2519145      0.1966253      0.1850919     \n",
       "5 0.2277163      0.2919978      0.2034337      0.1050013      0.1181480     \n",
       "6 0.1625158      0.1900162      0.4280847      0.1032917      0.1018200     \n",
       "  kq3_cond_parq5 kq4_cond_parq5 kq5_cond_parq5 X44 X45\n",
       "1 0.2036935      0.2042709      0.1972328      NA  NA \n",
       "2 0.1417430      0.2391946      0.3618724      NA  NA \n",
       "3 0.1966711      0.3047610      0.2250720      NA  NA \n",
       "4 0.1701652      0.1515126      0.2966050      NA  NA \n",
       "5 0.2660201      0.2192669      0.2915637      NA  NA \n",
       "6 0.1185716      0.1900711      0.4862457      NA  NA "
      ]
     },
     "metadata": {},
     "output_type": "display_data"
    }
   ],
   "source": [
    "library(readr)\n",
    "library(dplyr)\n",
    "dat <- read_csv(\"CollegeMobility.csv\")\n",
    "head(dat)"
   ]
  },
  {
   "cell_type": "code",
   "execution_count": 5,
   "metadata": {},
   "outputs": [],
   "source": [
    "unconditionalprobability <- function(u, v) {\n",
    "    n <- max(length(v),length(u))\n",
    "    uncp <- rep(0, n)\n",
    "    for (i in 1:n){\n",
    "      uncp[i] <- u[i] * v[i]  \n",
    "    }\n",
    "   return(uncp) \n",
    "}\n"
   ]
  },
  {
   "cell_type": "code",
   "execution_count": 6,
   "metadata": {},
   "outputs": [
    {
     "data": {
      "text/html": [
       "<table>\n",
       "<caption>A tibble: 6 × 9</caption>\n",
       "<thead>\n",
       "\t<tr><th scope=col>super_opeid</th><th scope=col>name</th><th scope=col>type</th><th scope=col>tier</th><th scope=col>tier_name</th><th scope=col>iclevel</th><th scope=col>region</th><th scope=col>state</th><th scope=col>czname</th></tr>\n",
       "\t<tr><th scope=col>&lt;dbl&gt;</th><th scope=col>&lt;chr&gt;</th><th scope=col>&lt;dbl&gt;</th><th scope=col>&lt;dbl&gt;</th><th scope=col>&lt;chr&gt;</th><th scope=col>&lt;dbl&gt;</th><th scope=col>&lt;dbl&gt;</th><th scope=col>&lt;chr&gt;</th><th scope=col>&lt;chr&gt;</th></tr>\n",
       "</thead>\n",
       "<tbody>\n",
       "\t<tr><td>30955</td><td>ASA Institute Of Business &amp; Computer Technology</td><td>3</td><td>11</td><td><span style=white-space:pre-wrap>Two-year for-profit          </span></td><td>2</td><td>1</td><td>NY</td><td><span style=white-space:pre-wrap>New York     </span></td></tr>\n",
       "\t<tr><td> 3537</td><td>Abilene Christian University                   </td><td>2</td><td> 6</td><td>Selective private            </td><td>1</td><td>3</td><td>TX</td><td>Abilene      </td></tr>\n",
       "\t<tr><td> 1541</td><td>Abraham Baldwin Agricultural College           </td><td>1</td><td> 7</td><td>Nonselective four-year public</td><td>1</td><td>3</td><td>GA</td><td>Valdosta     </td></tr>\n",
       "\t<tr><td> 7531</td><td>Academy Of Art University                      </td><td>3</td><td>10</td><td>Four-year for-profit         </td><td>1</td><td>4</td><td>CA</td><td>San Francisco</td></tr>\n",
       "\t<tr><td> 1345</td><td>Adams State University                         </td><td>1</td><td> 5</td><td>Selective public             </td><td>1</td><td>4</td><td>CO</td><td>Alamosa      </td></tr>\n",
       "\t<tr><td> 2666</td><td>Adelphi University                             </td><td>2</td><td> 6</td><td>Selective private            </td><td>1</td><td>1</td><td>NY</td><td>New York     </td></tr>\n",
       "</tbody>\n",
       "</table>\n"
      ],
      "text/latex": [
       "A tibble: 6 × 9\n",
       "\\begin{tabular}{r|lllllllll}\n",
       " super\\_opeid & name & type & tier & tier\\_name & iclevel & region & state & czname\\\\\n",
       " <dbl> & <chr> & <dbl> & <dbl> & <chr> & <dbl> & <dbl> & <chr> & <chr>\\\\\n",
       "\\hline\n",
       "\t 30955 & ASA Institute Of Business \\& Computer Technology & 3 & 11 & Two-year for-profit           & 2 & 1 & NY & New York     \\\\\n",
       "\t  3537 & Abilene Christian University                    & 2 &  6 & Selective private             & 1 & 3 & TX & Abilene      \\\\\n",
       "\t  1541 & Abraham Baldwin Agricultural College            & 1 &  7 & Nonselective four-year public & 1 & 3 & GA & Valdosta     \\\\\n",
       "\t  7531 & Academy Of Art University                       & 3 & 10 & Four-year for-profit          & 1 & 4 & CA & San Francisco\\\\\n",
       "\t  1345 & Adams State University                          & 1 &  5 & Selective public              & 1 & 4 & CO & Alamosa      \\\\\n",
       "\t  2666 & Adelphi University                              & 2 &  6 & Selective private             & 1 & 1 & NY & New York     \\\\\n",
       "\\end{tabular}\n"
      ],
      "text/markdown": [
       "\n",
       "A tibble: 6 × 9\n",
       "\n",
       "| super_opeid &lt;dbl&gt; | name &lt;chr&gt; | type &lt;dbl&gt; | tier &lt;dbl&gt; | tier_name &lt;chr&gt; | iclevel &lt;dbl&gt; | region &lt;dbl&gt; | state &lt;chr&gt; | czname &lt;chr&gt; |\n",
       "|---|---|---|---|---|---|---|---|---|\n",
       "| 30955 | ASA Institute Of Business &amp; Computer Technology | 3 | 11 | Two-year for-profit           | 2 | 1 | NY | New York      |\n",
       "|  3537 | Abilene Christian University                    | 2 |  6 | Selective private             | 1 | 3 | TX | Abilene       |\n",
       "|  1541 | Abraham Baldwin Agricultural College            | 1 |  7 | Nonselective four-year public | 1 | 3 | GA | Valdosta      |\n",
       "|  7531 | Academy Of Art University                       | 3 | 10 | Four-year for-profit          | 1 | 4 | CA | San Francisco |\n",
       "|  1345 | Adams State University                          | 1 |  5 | Selective public              | 1 | 4 | CO | Alamosa       |\n",
       "|  2666 | Adelphi University                              | 2 |  6 | Selective private             | 1 | 1 | NY | New York      |\n",
       "\n"
      ],
      "text/plain": [
       "  super_opeid name                                            type tier\n",
       "1 30955       ASA Institute Of Business & Computer Technology 3    11  \n",
       "2  3537       Abilene Christian University                    2     6  \n",
       "3  1541       Abraham Baldwin Agricultural College            1     7  \n",
       "4  7531       Academy Of Art University                       3    10  \n",
       "5  1345       Adams State University                          1     5  \n",
       "6  2666       Adelphi University                              2     6  \n",
       "  tier_name                     iclevel region state czname       \n",
       "1 Two-year for-profit           2       1      NY    New York     \n",
       "2 Selective private             1       3      TX    Abilene      \n",
       "3 Nonselective four-year public 1       3      GA    Valdosta     \n",
       "4 Four-year for-profit          1       4      CA    San Francisco\n",
       "5 Selective public              1       4      CO    Alamosa      \n",
       "6 Selective private             1       1      NY    New York     "
      ]
     },
     "metadata": {},
     "output_type": "display_data"
    }
   ],
   "source": [
    "dset <- unique(dat[,c(\"super_opeid\",\"name\",\"type\",\"tier\",\"tier_name\",\"iclevel\",\"region\",\"state\",\"czname\")])\n",
    "head(dset)"
   ]
  },
  {
   "cell_type": "code",
   "execution_count": 7,
   "metadata": {},
   "outputs": [
    {
     "data": {
      "text/html": [
       "<table>\n",
       "<caption>A tibble: 6 × 13</caption>\n",
       "<thead>\n",
       "\t<tr><th scope=col>super_opeid</th><th scope=col>name</th><th scope=col>type</th><th scope=col>tier</th><th scope=col>tier_name</th><th scope=col>iclevel</th><th scope=col>region</th><th scope=col>state</th><th scope=col>czname</th><th scope=col>q1upwardunc</th><th scope=col>q2upwardunc</th><th scope=col>q3upwardunc</th><th scope=col>q4upwardunc</th></tr>\n",
       "\t<tr><th scope=col>&lt;dbl&gt;</th><th scope=col>&lt;chr&gt;</th><th scope=col>&lt;dbl&gt;</th><th scope=col>&lt;dbl&gt;</th><th scope=col>&lt;chr&gt;</th><th scope=col>&lt;dbl&gt;</th><th scope=col>&lt;dbl&gt;</th><th scope=col>&lt;chr&gt;</th><th scope=col>&lt;chr&gt;</th><th scope=col>&lt;dbl&gt;</th><th scope=col>&lt;dbl&gt;</th><th scope=col>&lt;dbl&gt;</th><th scope=col>&lt;dbl&gt;</th></tr>\n",
       "</thead>\n",
       "<tbody>\n",
       "\t<tr><td>30955</td><td>ASA Institute Of Business &amp; Computer Technology</td><td>3</td><td>11</td><td><span style=white-space:pre-wrap>Two-year for-profit          </span></td><td>2</td><td>1</td><td>NY</td><td><span style=white-space:pre-wrap>New York     </span></td><td>0.36410721</td><td>0.18367028</td><td>0.04442283</td><td>0.006904734</td></tr>\n",
       "\t<tr><td> 3537</td><td>Abilene Christian University                   </td><td>2</td><td> 6</td><td>Selective private            </td><td>1</td><td>3</td><td>TX</td><td>Abilene      </td><td>0.04750427</td><td>0.06912338</td><td>0.08018735</td><td>0.081260674</td></tr>\n",
       "\t<tr><td> 1541</td><td>Abraham Baldwin Agricultural College           </td><td>1</td><td> 7</td><td>Nonselective four-year public</td><td>1</td><td>3</td><td>GA</td><td>Valdosta     </td><td>0.12727762</td><td>0.12296674</td><td>0.10670210</td><td>0.047644772</td></tr>\n",
       "\t<tr><td> 7531</td><td>Academy Of Art University                      </td><td>3</td><td>10</td><td>Four-year for-profit         </td><td>1</td><td>4</td><td>CA</td><td>San Francisco</td><td>0.06855044</td><td>0.07367335</td><td>0.06980032</td><td>0.053286245</td></tr>\n",
       "\t<tr><td> 1345</td><td>Adams State University                         </td><td>1</td><td> 5</td><td>Selective public             </td><td>1</td><td>4</td><td>CO</td><td>Alamosa      </td><td>0.10725715</td><td>0.12753162</td><td>0.11998007</td><td>0.053071032</td></tr>\n",
       "\t<tr><td> 2666</td><td>Adelphi University                             </td><td>2</td><td> 6</td><td>Selective private            </td><td>1</td><td>1</td><td>NY</td><td>New York     </td><td>0.07847595</td><td>0.09741475</td><td>0.09881902</td><td>0.098401498</td></tr>\n",
       "</tbody>\n",
       "</table>\n"
      ],
      "text/latex": [
       "A tibble: 6 × 13\n",
       "\\begin{tabular}{r|lllllllllllll}\n",
       " super\\_opeid & name & type & tier & tier\\_name & iclevel & region & state & czname & q1upwardunc & q2upwardunc & q3upwardunc & q4upwardunc\\\\\n",
       " <dbl> & <chr> & <dbl> & <dbl> & <chr> & <dbl> & <dbl> & <chr> & <chr> & <dbl> & <dbl> & <dbl> & <dbl>\\\\\n",
       "\\hline\n",
       "\t 30955 & ASA Institute Of Business \\& Computer Technology & 3 & 11 & Two-year for-profit           & 2 & 1 & NY & New York      & 0.36410721 & 0.18367028 & 0.04442283 & 0.006904734\\\\\n",
       "\t  3537 & Abilene Christian University                    & 2 &  6 & Selective private             & 1 & 3 & TX & Abilene       & 0.04750427 & 0.06912338 & 0.08018735 & 0.081260674\\\\\n",
       "\t  1541 & Abraham Baldwin Agricultural College            & 1 &  7 & Nonselective four-year public & 1 & 3 & GA & Valdosta      & 0.12727762 & 0.12296674 & 0.10670210 & 0.047644772\\\\\n",
       "\t  7531 & Academy Of Art University                       & 3 & 10 & Four-year for-profit          & 1 & 4 & CA & San Francisco & 0.06855044 & 0.07367335 & 0.06980032 & 0.053286245\\\\\n",
       "\t  1345 & Adams State University                          & 1 &  5 & Selective public              & 1 & 4 & CO & Alamosa       & 0.10725715 & 0.12753162 & 0.11998007 & 0.053071032\\\\\n",
       "\t  2666 & Adelphi University                              & 2 &  6 & Selective private             & 1 & 1 & NY & New York      & 0.07847595 & 0.09741475 & 0.09881902 & 0.098401498\\\\\n",
       "\\end{tabular}\n"
      ],
      "text/markdown": [
       "\n",
       "A tibble: 6 × 13\n",
       "\n",
       "| super_opeid &lt;dbl&gt; | name &lt;chr&gt; | type &lt;dbl&gt; | tier &lt;dbl&gt; | tier_name &lt;chr&gt; | iclevel &lt;dbl&gt; | region &lt;dbl&gt; | state &lt;chr&gt; | czname &lt;chr&gt; | q1upwardunc &lt;dbl&gt; | q2upwardunc &lt;dbl&gt; | q3upwardunc &lt;dbl&gt; | q4upwardunc &lt;dbl&gt; |\n",
       "|---|---|---|---|---|---|---|---|---|---|---|---|---|\n",
       "| 30955 | ASA Institute Of Business &amp; Computer Technology | 3 | 11 | Two-year for-profit           | 2 | 1 | NY | New York      | 0.36410721 | 0.18367028 | 0.04442283 | 0.006904734 |\n",
       "|  3537 | Abilene Christian University                    | 2 |  6 | Selective private             | 1 | 3 | TX | Abilene       | 0.04750427 | 0.06912338 | 0.08018735 | 0.081260674 |\n",
       "|  1541 | Abraham Baldwin Agricultural College            | 1 |  7 | Nonselective four-year public | 1 | 3 | GA | Valdosta      | 0.12727762 | 0.12296674 | 0.10670210 | 0.047644772 |\n",
       "|  7531 | Academy Of Art University                       | 3 | 10 | Four-year for-profit          | 1 | 4 | CA | San Francisco | 0.06855044 | 0.07367335 | 0.06980032 | 0.053286245 |\n",
       "|  1345 | Adams State University                          | 1 |  5 | Selective public              | 1 | 4 | CO | Alamosa       | 0.10725715 | 0.12753162 | 0.11998007 | 0.053071032 |\n",
       "|  2666 | Adelphi University                              | 2 |  6 | Selective private             | 1 | 1 | NY | New York      | 0.07847595 | 0.09741475 | 0.09881902 | 0.098401498 |\n",
       "\n"
      ],
      "text/plain": [
       "  super_opeid name                                            type tier\n",
       "1 30955       ASA Institute Of Business & Computer Technology 3    11  \n",
       "2  3537       Abilene Christian University                    2     6  \n",
       "3  1541       Abraham Baldwin Agricultural College            1     7  \n",
       "4  7531       Academy Of Art University                       3    10  \n",
       "5  1345       Adams State University                          1     5  \n",
       "6  2666       Adelphi University                              2     6  \n",
       "  tier_name                     iclevel region state czname        q1upwardunc\n",
       "1 Two-year for-profit           2       1      NY    New York      0.36410721 \n",
       "2 Selective private             1       3      TX    Abilene       0.04750427 \n",
       "3 Nonselective four-year public 1       3      GA    Valdosta      0.12727762 \n",
       "4 Four-year for-profit          1       4      CA    San Francisco 0.06855044 \n",
       "5 Selective public              1       4      CO    Alamosa       0.10725715 \n",
       "6 Selective private             1       1      NY    New York      0.07847595 \n",
       "  q2upwardunc q3upwardunc q4upwardunc\n",
       "1 0.18367028  0.04442283  0.006904734\n",
       "2 0.06912338  0.08018735  0.081260674\n",
       "3 0.12296674  0.10670210  0.047644772\n",
       "4 0.07367335  0.06980032  0.053286245\n",
       "5 0.12753162  0.11998007  0.053071032\n",
       "6 0.09741475  0.09881902  0.098401498"
      ]
     },
     "metadata": {},
     "output_type": "display_data"
    }
   ],
   "source": [
    "q1uncpq2 <- unconditionalprobability(dat$kq2_cond_parq1,dat$par_q1)\n",
    "q1uncpq3 <- unconditionalprobability(dat$kq3_cond_parq1,dat$par_q1)\n",
    "q1uncpq4 <- unconditionalprobability(dat$kq4_cond_parq1,dat$par_q1)\n",
    "q1uncpq5 <- unconditionalprobability(dat$kq5_cond_parq1,dat$par_q1)\n",
    "dset$q1upwardunc <- (q1uncpq2 + q1uncpq3 + q1uncpq4 + q1uncpq5)\n",
    "q2uncpq3 <- unconditionalprobability(dat$kq3_cond_parq2,dat$par_q2)\n",
    "q2uncpq4 <- unconditionalprobability(dat$kq4_cond_parq2,dat$par_q2)\n",
    "q2uncpq5 <- unconditionalprobability(dat$kq5_cond_parq2,dat$par_q2)\n",
    "dset$q2upwardunc <- (q2uncpq3 + q2uncpq4 + q2uncpq5)\n",
    "q3uncpq4 <- unconditionalprobability(dat$kq4_cond_parq3,dat$par_q3)\n",
    "q3uncpq5 <- unconditionalprobability(dat$kq5_cond_parq3,dat$par_q3)\n",
    "dset$q3upwardunc <- (q3uncpq4 + q3uncpq5)\n",
    "q4uncpq5 <- unconditionalprobability(dat$kq5_cond_parq4,dat$par_q4)\n",
    "dset$q4upwardunc <- q4uncpq5\n",
    "head(dset)"
   ]
  },
  {
   "cell_type": "code",
   "execution_count": 8,
   "metadata": {},
   "outputs": [],
   "source": [
    "conditionalprobability <- function(marginalprob,jointprob1,jointprob2,jointprob3,jointprob4) {\n",
    "    n <- length(jointprob1)\n",
    "    jointprob2 <- rep(0,n)\n",
    "    jointprob3 <- rep(0,n)\n",
    "    jointprob4 <- rep(0,n)\n",
    "    jointprob5 <- rep(0,n)\n",
    "    uncp <- rep(0, n)\n",
    "    for (i in 1:n){\n",
    "      uncp[i] <- (sum(jointprob1[i] , jointprob2[i] , jointprob3[i] , jointprob4[i])) / marginalprob[i]  \n",
    "    }\n",
    "   return(uncp) \n",
    "}\n"
   ]
  },
  {
   "cell_type": "code",
   "execution_count": 9,
   "metadata": {},
   "outputs": [
    {
     "data": {
      "text/html": [
       "<table>\n",
       "<caption>A tibble: 6 × 17</caption>\n",
       "<thead>\n",
       "\t<tr><th scope=col>super_opeid</th><th scope=col>name</th><th scope=col>type</th><th scope=col>tier</th><th scope=col>tier_name</th><th scope=col>iclevel</th><th scope=col>region</th><th scope=col>state</th><th scope=col>czname</th><th scope=col>q1upwardunc</th><th scope=col>q2upwardunc</th><th scope=col>q3upwardunc</th><th scope=col>q4upwardunc</th><th scope=col>upwardconq1</th><th scope=col>upwardconq2</th><th scope=col>upwardconq3</th><th scope=col>upwardconq4</th></tr>\n",
       "\t<tr><th scope=col>&lt;dbl&gt;</th><th scope=col>&lt;chr&gt;</th><th scope=col>&lt;dbl&gt;</th><th scope=col>&lt;dbl&gt;</th><th scope=col>&lt;chr&gt;</th><th scope=col>&lt;dbl&gt;</th><th scope=col>&lt;dbl&gt;</th><th scope=col>&lt;chr&gt;</th><th scope=col>&lt;chr&gt;</th><th scope=col>&lt;dbl&gt;</th><th scope=col>&lt;dbl&gt;</th><th scope=col>&lt;dbl&gt;</th><th scope=col>&lt;dbl&gt;</th><th scope=col>&lt;dbl&gt;</th><th scope=col>&lt;dbl&gt;</th><th scope=col>&lt;dbl&gt;</th><th scope=col>&lt;dbl&gt;</th></tr>\n",
       "</thead>\n",
       "<tbody>\n",
       "\t<tr><td>30955</td><td>ASA Institute Of Business &amp; Computer Technology</td><td>3</td><td>11</td><td><span style=white-space:pre-wrap>Two-year for-profit          </span></td><td>2</td><td>1</td><td>NY</td><td><span style=white-space:pre-wrap>New York     </span></td><td>0.36410721</td><td>0.18367028</td><td>0.04442283</td><td>0.006904734</td><td>0.3395770</td><td>0.2694793</td><td>0.2390751</td><td>0.1156441</td></tr>\n",
       "\t<tr><td> 3537</td><td>Abilene Christian University                   </td><td>2</td><td> 6</td><td>Selective private            </td><td>1</td><td>3</td><td>TX</td><td>Abilene      </td><td>0.04750427</td><td>0.06912338</td><td>0.08018735</td><td>0.081260674</td><td>0.1086272</td><td>0.2034312</td><td>0.2874772</td><td>0.3146711</td></tr>\n",
       "\t<tr><td> 1541</td><td>Abraham Baldwin Agricultural College           </td><td>1</td><td> 7</td><td>Nonselective four-year public</td><td>1</td><td>3</td><td>GA</td><td>Valdosta     </td><td>0.12727762</td><td>0.12296674</td><td>0.10670210</td><td>0.047644772</td><td>0.2397960</td><td>0.2860668</td><td>0.3115461</td><td>0.2012344</td></tr>\n",
       "\t<tr><td> 7531</td><td>Academy Of Art University                      </td><td>3</td><td>10</td><td>Four-year for-profit         </td><td>1</td><td>4</td><td>CA</td><td>San Francisco</td><td>0.06855044</td><td>0.07367335</td><td>0.06980032</td><td>0.053286245</td><td>0.1854258</td><td>0.2189319</td><td>0.1469258</td><td>0.2519145</td></tr>\n",
       "\t<tr><td> 1345</td><td>Adams State University                         </td><td>1</td><td> 5</td><td>Selective public             </td><td>1</td><td>4</td><td>CO</td><td>Alamosa      </td><td>0.10725715</td><td>0.12753162</td><td>0.11998007</td><td>0.053071032</td><td>0.2016696</td><td>0.2358722</td><td>0.2809070</td><td>0.2034337</td></tr>\n",
       "\t<tr><td> 2666</td><td>Adelphi University                             </td><td>2</td><td> 6</td><td>Selective private            </td><td>1</td><td>1</td><td>NY</td><td>New York     </td><td>0.07847595</td><td>0.09741475</td><td>0.09881902</td><td>0.098401498</td><td>0.1251636</td><td>0.1512318</td><td>0.1966504</td><td>0.4280847</td></tr>\n",
       "</tbody>\n",
       "</table>\n"
      ],
      "text/latex": [
       "A tibble: 6 × 17\n",
       "\\begin{tabular}{r|lllllllllllllllll}\n",
       " super\\_opeid & name & type & tier & tier\\_name & iclevel & region & state & czname & q1upwardunc & q2upwardunc & q3upwardunc & q4upwardunc & upwardconq1 & upwardconq2 & upwardconq3 & upwardconq4\\\\\n",
       " <dbl> & <chr> & <dbl> & <dbl> & <chr> & <dbl> & <dbl> & <chr> & <chr> & <dbl> & <dbl> & <dbl> & <dbl> & <dbl> & <dbl> & <dbl> & <dbl>\\\\\n",
       "\\hline\n",
       "\t 30955 & ASA Institute Of Business \\& Computer Technology & 3 & 11 & Two-year for-profit           & 2 & 1 & NY & New York      & 0.36410721 & 0.18367028 & 0.04442283 & 0.006904734 & 0.3395770 & 0.2694793 & 0.2390751 & 0.1156441\\\\\n",
       "\t  3537 & Abilene Christian University                    & 2 &  6 & Selective private             & 1 & 3 & TX & Abilene       & 0.04750427 & 0.06912338 & 0.08018735 & 0.081260674 & 0.1086272 & 0.2034312 & 0.2874772 & 0.3146711\\\\\n",
       "\t  1541 & Abraham Baldwin Agricultural College            & 1 &  7 & Nonselective four-year public & 1 & 3 & GA & Valdosta      & 0.12727762 & 0.12296674 & 0.10670210 & 0.047644772 & 0.2397960 & 0.2860668 & 0.3115461 & 0.2012344\\\\\n",
       "\t  7531 & Academy Of Art University                       & 3 & 10 & Four-year for-profit          & 1 & 4 & CA & San Francisco & 0.06855044 & 0.07367335 & 0.06980032 & 0.053286245 & 0.1854258 & 0.2189319 & 0.1469258 & 0.2519145\\\\\n",
       "\t  1345 & Adams State University                          & 1 &  5 & Selective public              & 1 & 4 & CO & Alamosa       & 0.10725715 & 0.12753162 & 0.11998007 & 0.053071032 & 0.2016696 & 0.2358722 & 0.2809070 & 0.2034337\\\\\n",
       "\t  2666 & Adelphi University                              & 2 &  6 & Selective private             & 1 & 1 & NY & New York      & 0.07847595 & 0.09741475 & 0.09881902 & 0.098401498 & 0.1251636 & 0.1512318 & 0.1966504 & 0.4280847\\\\\n",
       "\\end{tabular}\n"
      ],
      "text/markdown": [
       "\n",
       "A tibble: 6 × 17\n",
       "\n",
       "| super_opeid &lt;dbl&gt; | name &lt;chr&gt; | type &lt;dbl&gt; | tier &lt;dbl&gt; | tier_name &lt;chr&gt; | iclevel &lt;dbl&gt; | region &lt;dbl&gt; | state &lt;chr&gt; | czname &lt;chr&gt; | q1upwardunc &lt;dbl&gt; | q2upwardunc &lt;dbl&gt; | q3upwardunc &lt;dbl&gt; | q4upwardunc &lt;dbl&gt; | upwardconq1 &lt;dbl&gt; | upwardconq2 &lt;dbl&gt; | upwardconq3 &lt;dbl&gt; | upwardconq4 &lt;dbl&gt; |\n",
       "|---|---|---|---|---|---|---|---|---|---|---|---|---|---|---|---|---|\n",
       "| 30955 | ASA Institute Of Business &amp; Computer Technology | 3 | 11 | Two-year for-profit           | 2 | 1 | NY | New York      | 0.36410721 | 0.18367028 | 0.04442283 | 0.006904734 | 0.3395770 | 0.2694793 | 0.2390751 | 0.1156441 |\n",
       "|  3537 | Abilene Christian University                    | 2 |  6 | Selective private             | 1 | 3 | TX | Abilene       | 0.04750427 | 0.06912338 | 0.08018735 | 0.081260674 | 0.1086272 | 0.2034312 | 0.2874772 | 0.3146711 |\n",
       "|  1541 | Abraham Baldwin Agricultural College            | 1 |  7 | Nonselective four-year public | 1 | 3 | GA | Valdosta      | 0.12727762 | 0.12296674 | 0.10670210 | 0.047644772 | 0.2397960 | 0.2860668 | 0.3115461 | 0.2012344 |\n",
       "|  7531 | Academy Of Art University                       | 3 | 10 | Four-year for-profit          | 1 | 4 | CA | San Francisco | 0.06855044 | 0.07367335 | 0.06980032 | 0.053286245 | 0.1854258 | 0.2189319 | 0.1469258 | 0.2519145 |\n",
       "|  1345 | Adams State University                          | 1 |  5 | Selective public              | 1 | 4 | CO | Alamosa       | 0.10725715 | 0.12753162 | 0.11998007 | 0.053071032 | 0.2016696 | 0.2358722 | 0.2809070 | 0.2034337 |\n",
       "|  2666 | Adelphi University                              | 2 |  6 | Selective private             | 1 | 1 | NY | New York      | 0.07847595 | 0.09741475 | 0.09881902 | 0.098401498 | 0.1251636 | 0.1512318 | 0.1966504 | 0.4280847 |\n",
       "\n"
      ],
      "text/plain": [
       "  super_opeid name                                            type tier\n",
       "1 30955       ASA Institute Of Business & Computer Technology 3    11  \n",
       "2  3537       Abilene Christian University                    2     6  \n",
       "3  1541       Abraham Baldwin Agricultural College            1     7  \n",
       "4  7531       Academy Of Art University                       3    10  \n",
       "5  1345       Adams State University                          1     5  \n",
       "6  2666       Adelphi University                              2     6  \n",
       "  tier_name                     iclevel region state czname        q1upwardunc\n",
       "1 Two-year for-profit           2       1      NY    New York      0.36410721 \n",
       "2 Selective private             1       3      TX    Abilene       0.04750427 \n",
       "3 Nonselective four-year public 1       3      GA    Valdosta      0.12727762 \n",
       "4 Four-year for-profit          1       4      CA    San Francisco 0.06855044 \n",
       "5 Selective public              1       4      CO    Alamosa       0.10725715 \n",
       "6 Selective private             1       1      NY    New York      0.07847595 \n",
       "  q2upwardunc q3upwardunc q4upwardunc upwardconq1 upwardconq2 upwardconq3\n",
       "1 0.18367028  0.04442283  0.006904734 0.3395770   0.2694793   0.2390751  \n",
       "2 0.06912338  0.08018735  0.081260674 0.1086272   0.2034312   0.2874772  \n",
       "3 0.12296674  0.10670210  0.047644772 0.2397960   0.2860668   0.3115461  \n",
       "4 0.07367335  0.06980032  0.053286245 0.1854258   0.2189319   0.1469258  \n",
       "5 0.12753162  0.11998007  0.053071032 0.2016696   0.2358722   0.2809070  \n",
       "6 0.09741475  0.09881902  0.098401498 0.1251636   0.1512318   0.1966504  \n",
       "  upwardconq4\n",
       "1 0.1156441  \n",
       "2 0.3146711  \n",
       "3 0.2012344  \n",
       "4 0.2519145  \n",
       "5 0.2034337  \n",
       "6 0.4280847  "
      ]
     },
     "metadata": {},
     "output_type": "display_data"
    }
   ],
   "source": [
    "# These codes are not used in the following calculation, just in case if you guys want to analyze how do kids with parrents in different quintile do.\n",
    "dset$upwardconq1 <-conditionalprobability(dat$par_q1,q1uncpq2,q1uncpq3,q1uncpq4,q1uncpq5)\n",
    "dset$upwardconq2 <-conditionalprobability(dat$par_q2,q2uncpq3,q2uncpq4,q2uncpq5)\n",
    "dset$upwardconq3 <-conditionalprobability(dat$par_q3,q3uncpq4,q3uncpq5)\n",
    "dset$upwardconq4 <-conditionalprobability(dat$par_q4,q4uncpq5)\n",
    "head(dset)"
   ]
  },
  {
   "cell_type": "code",
   "execution_count": 10,
   "metadata": {},
   "outputs": [],
   "source": [
    "totalmobility <- function (jointprobab1,jointprobab2,jointprobab3,jointprobab4){\n",
    "       n <- length(jointprobab1)\n",
    "    mob_all <- rep(0, n)\n",
    "  for (i in 1:n){\n",
    "      mob_all[i] <- jointprobab1[i] + jointprobab2[i] + jointprobab3[i] + jointprobab4[i]\n",
    "      }\n",
    "return (mob_all)\n",
    "  }"
   ]
  },
  {
   "cell_type": "code",
   "execution_count": 11,
   "metadata": {},
   "outputs": [
    {
     "data": {
      "text/html": [
       "<table>\n",
       "<caption>A tibble: 6 × 18</caption>\n",
       "<thead>\n",
       "\t<tr><th scope=col>super_opeid</th><th scope=col>name</th><th scope=col>type</th><th scope=col>tier</th><th scope=col>tier_name</th><th scope=col>iclevel</th><th scope=col>region</th><th scope=col>state</th><th scope=col>czname</th><th scope=col>q1upwardunc</th><th scope=col>q2upwardunc</th><th scope=col>q3upwardunc</th><th scope=col>q4upwardunc</th><th scope=col>upwardconq1</th><th scope=col>upwardconq2</th><th scope=col>upwardconq3</th><th scope=col>upwardconq4</th><th scope=col>totalmobility</th></tr>\n",
       "\t<tr><th scope=col>&lt;dbl&gt;</th><th scope=col>&lt;chr&gt;</th><th scope=col>&lt;dbl&gt;</th><th scope=col>&lt;dbl&gt;</th><th scope=col>&lt;chr&gt;</th><th scope=col>&lt;dbl&gt;</th><th scope=col>&lt;dbl&gt;</th><th scope=col>&lt;chr&gt;</th><th scope=col>&lt;chr&gt;</th><th scope=col>&lt;dbl&gt;</th><th scope=col>&lt;dbl&gt;</th><th scope=col>&lt;dbl&gt;</th><th scope=col>&lt;dbl&gt;</th><th scope=col>&lt;dbl&gt;</th><th scope=col>&lt;dbl&gt;</th><th scope=col>&lt;dbl&gt;</th><th scope=col>&lt;dbl&gt;</th><th scope=col>&lt;dbl&gt;</th></tr>\n",
       "</thead>\n",
       "<tbody>\n",
       "\t<tr><td>30955</td><td>ASA Institute Of Business &amp; Computer Technology</td><td>3</td><td>11</td><td><span style=white-space:pre-wrap>Two-year for-profit          </span></td><td>2</td><td>1</td><td>NY</td><td><span style=white-space:pre-wrap>New York     </span></td><td>0.36410721</td><td>0.18367028</td><td>0.04442283</td><td>0.006904734</td><td>0.3395770</td><td>0.2694793</td><td>0.2390751</td><td>0.1156441</td><td>0.5991051</td></tr>\n",
       "\t<tr><td> 3537</td><td>Abilene Christian University                   </td><td>2</td><td> 6</td><td>Selective private            </td><td>1</td><td>3</td><td>TX</td><td>Abilene      </td><td>0.04750427</td><td>0.06912338</td><td>0.08018735</td><td>0.081260674</td><td>0.1086272</td><td>0.2034312</td><td>0.2874772</td><td>0.3146711</td><td>0.2780757</td></tr>\n",
       "\t<tr><td> 1541</td><td>Abraham Baldwin Agricultural College           </td><td>1</td><td> 7</td><td>Nonselective four-year public</td><td>1</td><td>3</td><td>GA</td><td>Valdosta     </td><td>0.12727762</td><td>0.12296674</td><td>0.10670210</td><td>0.047644772</td><td>0.2397960</td><td>0.2860668</td><td>0.3115461</td><td>0.2012344</td><td>0.4045912</td></tr>\n",
       "\t<tr><td> 7531</td><td>Academy Of Art University                      </td><td>3</td><td>10</td><td>Four-year for-profit         </td><td>1</td><td>4</td><td>CA</td><td>San Francisco</td><td>0.06855044</td><td>0.07367335</td><td>0.06980032</td><td>0.053286245</td><td>0.1854258</td><td>0.2189319</td><td>0.1469258</td><td>0.2519145</td><td>0.2653104</td></tr>\n",
       "\t<tr><td> 1345</td><td>Adams State University                         </td><td>1</td><td> 5</td><td>Selective public             </td><td>1</td><td>4</td><td>CO</td><td>Alamosa      </td><td>0.10725715</td><td>0.12753162</td><td>0.11998007</td><td>0.053071032</td><td>0.2016696</td><td>0.2358722</td><td>0.2809070</td><td>0.2034337</td><td>0.4078399</td></tr>\n",
       "\t<tr><td> 2666</td><td>Adelphi University                             </td><td>2</td><td> 6</td><td>Selective private            </td><td>1</td><td>1</td><td>NY</td><td>New York     </td><td>0.07847595</td><td>0.09741475</td><td>0.09881902</td><td>0.098401498</td><td>0.1251636</td><td>0.1512318</td><td>0.1966504</td><td>0.4280847</td><td>0.3731112</td></tr>\n",
       "</tbody>\n",
       "</table>\n"
      ],
      "text/latex": [
       "A tibble: 6 × 18\n",
       "\\begin{tabular}{r|llllllllllllllllll}\n",
       " super\\_opeid & name & type & tier & tier\\_name & iclevel & region & state & czname & q1upwardunc & q2upwardunc & q3upwardunc & q4upwardunc & upwardconq1 & upwardconq2 & upwardconq3 & upwardconq4 & totalmobility\\\\\n",
       " <dbl> & <chr> & <dbl> & <dbl> & <chr> & <dbl> & <dbl> & <chr> & <chr> & <dbl> & <dbl> & <dbl> & <dbl> & <dbl> & <dbl> & <dbl> & <dbl> & <dbl>\\\\\n",
       "\\hline\n",
       "\t 30955 & ASA Institute Of Business \\& Computer Technology & 3 & 11 & Two-year for-profit           & 2 & 1 & NY & New York      & 0.36410721 & 0.18367028 & 0.04442283 & 0.006904734 & 0.3395770 & 0.2694793 & 0.2390751 & 0.1156441 & 0.5991051\\\\\n",
       "\t  3537 & Abilene Christian University                    & 2 &  6 & Selective private             & 1 & 3 & TX & Abilene       & 0.04750427 & 0.06912338 & 0.08018735 & 0.081260674 & 0.1086272 & 0.2034312 & 0.2874772 & 0.3146711 & 0.2780757\\\\\n",
       "\t  1541 & Abraham Baldwin Agricultural College            & 1 &  7 & Nonselective four-year public & 1 & 3 & GA & Valdosta      & 0.12727762 & 0.12296674 & 0.10670210 & 0.047644772 & 0.2397960 & 0.2860668 & 0.3115461 & 0.2012344 & 0.4045912\\\\\n",
       "\t  7531 & Academy Of Art University                       & 3 & 10 & Four-year for-profit          & 1 & 4 & CA & San Francisco & 0.06855044 & 0.07367335 & 0.06980032 & 0.053286245 & 0.1854258 & 0.2189319 & 0.1469258 & 0.2519145 & 0.2653104\\\\\n",
       "\t  1345 & Adams State University                          & 1 &  5 & Selective public              & 1 & 4 & CO & Alamosa       & 0.10725715 & 0.12753162 & 0.11998007 & 0.053071032 & 0.2016696 & 0.2358722 & 0.2809070 & 0.2034337 & 0.4078399\\\\\n",
       "\t  2666 & Adelphi University                              & 2 &  6 & Selective private             & 1 & 1 & NY & New York      & 0.07847595 & 0.09741475 & 0.09881902 & 0.098401498 & 0.1251636 & 0.1512318 & 0.1966504 & 0.4280847 & 0.3731112\\\\\n",
       "\\end{tabular}\n"
      ],
      "text/markdown": [
       "\n",
       "A tibble: 6 × 18\n",
       "\n",
       "| super_opeid &lt;dbl&gt; | name &lt;chr&gt; | type &lt;dbl&gt; | tier &lt;dbl&gt; | tier_name &lt;chr&gt; | iclevel &lt;dbl&gt; | region &lt;dbl&gt; | state &lt;chr&gt; | czname &lt;chr&gt; | q1upwardunc &lt;dbl&gt; | q2upwardunc &lt;dbl&gt; | q3upwardunc &lt;dbl&gt; | q4upwardunc &lt;dbl&gt; | upwardconq1 &lt;dbl&gt; | upwardconq2 &lt;dbl&gt; | upwardconq3 &lt;dbl&gt; | upwardconq4 &lt;dbl&gt; | totalmobility &lt;dbl&gt; |\n",
       "|---|---|---|---|---|---|---|---|---|---|---|---|---|---|---|---|---|---|\n",
       "| 30955 | ASA Institute Of Business &amp; Computer Technology | 3 | 11 | Two-year for-profit           | 2 | 1 | NY | New York      | 0.36410721 | 0.18367028 | 0.04442283 | 0.006904734 | 0.3395770 | 0.2694793 | 0.2390751 | 0.1156441 | 0.5991051 |\n",
       "|  3537 | Abilene Christian University                    | 2 |  6 | Selective private             | 1 | 3 | TX | Abilene       | 0.04750427 | 0.06912338 | 0.08018735 | 0.081260674 | 0.1086272 | 0.2034312 | 0.2874772 | 0.3146711 | 0.2780757 |\n",
       "|  1541 | Abraham Baldwin Agricultural College            | 1 |  7 | Nonselective four-year public | 1 | 3 | GA | Valdosta      | 0.12727762 | 0.12296674 | 0.10670210 | 0.047644772 | 0.2397960 | 0.2860668 | 0.3115461 | 0.2012344 | 0.4045912 |\n",
       "|  7531 | Academy Of Art University                       | 3 | 10 | Four-year for-profit          | 1 | 4 | CA | San Francisco | 0.06855044 | 0.07367335 | 0.06980032 | 0.053286245 | 0.1854258 | 0.2189319 | 0.1469258 | 0.2519145 | 0.2653104 |\n",
       "|  1345 | Adams State University                          | 1 |  5 | Selective public              | 1 | 4 | CO | Alamosa       | 0.10725715 | 0.12753162 | 0.11998007 | 0.053071032 | 0.2016696 | 0.2358722 | 0.2809070 | 0.2034337 | 0.4078399 |\n",
       "|  2666 | Adelphi University                              | 2 |  6 | Selective private             | 1 | 1 | NY | New York      | 0.07847595 | 0.09741475 | 0.09881902 | 0.098401498 | 0.1251636 | 0.1512318 | 0.1966504 | 0.4280847 | 0.3731112 |\n",
       "\n"
      ],
      "text/plain": [
       "  super_opeid name                                            type tier\n",
       "1 30955       ASA Institute Of Business & Computer Technology 3    11  \n",
       "2  3537       Abilene Christian University                    2     6  \n",
       "3  1541       Abraham Baldwin Agricultural College            1     7  \n",
       "4  7531       Academy Of Art University                       3    10  \n",
       "5  1345       Adams State University                          1     5  \n",
       "6  2666       Adelphi University                              2     6  \n",
       "  tier_name                     iclevel region state czname        q1upwardunc\n",
       "1 Two-year for-profit           2       1      NY    New York      0.36410721 \n",
       "2 Selective private             1       3      TX    Abilene       0.04750427 \n",
       "3 Nonselective four-year public 1       3      GA    Valdosta      0.12727762 \n",
       "4 Four-year for-profit          1       4      CA    San Francisco 0.06855044 \n",
       "5 Selective public              1       4      CO    Alamosa       0.10725715 \n",
       "6 Selective private             1       1      NY    New York      0.07847595 \n",
       "  q2upwardunc q3upwardunc q4upwardunc upwardconq1 upwardconq2 upwardconq3\n",
       "1 0.18367028  0.04442283  0.006904734 0.3395770   0.2694793   0.2390751  \n",
       "2 0.06912338  0.08018735  0.081260674 0.1086272   0.2034312   0.2874772  \n",
       "3 0.12296674  0.10670210  0.047644772 0.2397960   0.2860668   0.3115461  \n",
       "4 0.07367335  0.06980032  0.053286245 0.1854258   0.2189319   0.1469258  \n",
       "5 0.12753162  0.11998007  0.053071032 0.2016696   0.2358722   0.2809070  \n",
       "6 0.09741475  0.09881902  0.098401498 0.1251636   0.1512318   0.1966504  \n",
       "  upwardconq4 totalmobility\n",
       "1 0.1156441   0.5991051    \n",
       "2 0.3146711   0.2780757    \n",
       "3 0.2012344   0.4045912    \n",
       "4 0.2519145   0.2653104    \n",
       "5 0.2034337   0.4078399    \n",
       "6 0.4280847   0.3731112    "
      ]
     },
     "metadata": {},
     "output_type": "display_data"
    }
   ],
   "source": [
    "dset$totalmobility <- totalmobility(dset$q1upwardunc,dset$q2upwardunc,dset$q3upwardunc,dset$q4upwardunc)\n",
    "\n",
    "head(dset)"
   ]
  },
  {
   "cell_type": "markdown",
   "metadata": {},
   "source": [
    "### Question 1. Does college education in the U.S. increase upward mobility of the younger generation?"
   ]
  },
  {
   "cell_type": "code",
   "execution_count": 21,
   "metadata": {},
   "outputs": [
    {
     "data": {
      "text/plain": [
       "\n",
       "\tOne Sample t-test\n",
       "\n",
       "data:  dset$totalmobility\n",
       "t = 189.95, df = 2198, p-value < 2.2e-16\n",
       "alternative hypothesis: true mean is not equal to 0\n",
       "95 percent confidence interval:\n",
       " 0.3737481 0.3815458\n",
       "sample estimates:\n",
       "mean of x \n",
       "0.3776469 \n"
      ]
     },
     "metadata": {},
     "output_type": "display_data"
    }
   ],
   "source": [
    "t.test(dset$totalmobility)"
   ]
  },
  {
   "cell_type": "markdown",
   "metadata": {},
   "source": [
    "### Question 2. Does attending public or private colleges make a difference in terms of upward mobility?"
   ]
  },
  {
   "cell_type": "code",
   "execution_count": 14,
   "metadata": {},
   "outputs": [
    {
     "name": "stderr",
     "output_type": "stream",
     "text": [
      "Warning message in chisq.test(dset$type, dset$totalmobility):\n",
      "“Chi-squared approximation may be incorrect”"
     ]
    },
    {
     "data": {
      "text/plain": [
       "\n",
       "\tPearson's Chi-squared test\n",
       "\n",
       "data:  dset$type and dset$totalmobility\n",
       "X-squared = 4398, df = 4396, p-value = 0.4887\n"
      ]
     },
     "metadata": {},
     "output_type": "display_data"
    }
   ],
   "source": [
    "### not sure if it is right\n",
    "public <-filter(dset, type == 1)\n",
    "priv_npro <-filter(dset, type == 2)\n",
    "forpro <- filter(dset, type == 3)\n",
    "chisq.test(dset$type,dset$totalmobility)"
   ]
  },
  {
   "cell_type": "code",
   "execution_count": 16,
   "metadata": {},
   "outputs": [
    {
     "data": {
      "text/plain": [
       "\n",
       "\tWelch Two Sample t-test\n",
       "\n",
       "data:  public$totalmobility and priv_npro$totalmobility\n",
       "t = 13.109, df = 1585.2, p-value < 2.2e-16\n",
       "alternative hypothesis: true difference in means is not equal to 0\n",
       "95 percent confidence interval:\n",
       " 0.04539056 0.06136358\n",
       "sample estimates:\n",
       "mean of x mean of y \n",
       "0.3962793 0.3429022 \n"
      ]
     },
     "metadata": {},
     "output_type": "display_data"
    },
    {
     "data": {
      "text/plain": [
       "\n",
       "\tWelch Two Sample t-test\n",
       "\n",
       "data:  public$totalmobility and dset$totalmobility\n",
       "t = 6.0224, df = 2721.6, p-value = 1.95e-09\n",
       "alternative hypothesis: true difference in means is not equal to 0\n",
       "95 percent confidence interval:\n",
       " 0.01256579 0.02469893\n",
       "sample estimates:\n",
       "mean of x mean of y \n",
       "0.3962793 0.3776469 \n"
      ]
     },
     "metadata": {},
     "output_type": "display_data"
    }
   ],
   "source": [
    "t.test(public$totalmobility,priv_npro$totalmobility)\n",
    "\n",
    "t.test(public$totalmobility, dset$totalmobility)"
   ]
  },
  {
   "cell_type": "code",
   "execution_count": 24,
   "metadata": {},
   "outputs": [
    {
     "data": {
      "text/plain": [
       "\n",
       "\tWelch Two Sample t-test\n",
       "\n",
       "data:  priv_npro$totalmobility and dset$totalmobility\n",
       "t = -8.9974, df = 1444.5, p-value < 2.2e-16\n",
       "alternative hypothesis: true difference in means is not equal to 0\n",
       "95 percent confidence interval:\n",
       " -0.04231973 -0.02716968\n",
       "sample estimates:\n",
       "mean of x mean of y \n",
       "0.3429022 0.3776469 \n"
      ]
     },
     "metadata": {},
     "output_type": "display_data"
    }
   ],
   "source": [
    "t.test(priv_npro$totalmobility,dset$totalmobility)"
   ]
  },
  {
   "cell_type": "code",
   "execution_count": 13,
   "metadata": {},
   "outputs": [
    {
     "data": {
      "text/plain": [
       "\n",
       "\tWelch Two Sample t-test\n",
       "\n",
       "data:  forpro$totalmobility and dset$totalmobility\n",
       "t = 6.4992, df = 218.93, p-value = 5.375e-10\n",
       "alternative hypothesis: true difference in means is not equal to 0\n",
       "95 percent confidence interval:\n",
       " 0.03951275 0.07390687\n",
       "sample estimates:\n",
       "mean of x mean of y \n",
       "0.4482851 0.3915753 \n"
      ]
     },
     "metadata": {},
     "output_type": "display_data"
    }
   ],
   "source": [
    "t.test(forpro$totalmobility,dset$totalmobility)"
   ]
  },
  {
   "cell_type": "markdown",
   "metadata": {},
   "source": [
    "### Question 3. Does attending lvy or other colleges make a difference in terms of upward mobility?"
   ]
  },
  {
   "cell_type": "code",
   "execution_count": 17,
   "metadata": {},
   "outputs": [],
   "source": [
    "ivy <- filter(dset, tier == 1)\n",
    "other_colleges <-filter(dset, tier != 1)"
   ]
  },
  {
   "cell_type": "code",
   "execution_count": 18,
   "metadata": {},
   "outputs": [
    {
     "data": {
      "text/plain": [
       "\n",
       "\tWelch Two Sample t-test\n",
       "\n",
       "data:  ivy$totalmobility and other_colleges$totalmobility\n",
       "t = -13.023, df = 11.648, p-value = 2.688e-08\n",
       "alternative hypothesis: true difference in means is not equal to 0\n",
       "95 percent confidence interval:\n",
       " -0.1796054 -0.1279741\n",
       "sample estimates:\n",
       "mean of x mean of y \n",
       "0.2246964 0.3784862 \n"
      ]
     },
     "metadata": {},
     "output_type": "display_data"
    }
   ],
   "source": [
    "t.test(ivy$totalmobility,other_colleges$totalmobility)"
   ]
  },
  {
   "cell_type": "code",
   "execution_count": 16,
   "metadata": {},
   "outputs": [
    {
     "data": {
      "text/plain": [
       "\n",
       "\tWelch Two Sample t-test\n",
       "\n",
       "data:  ivy$totalmobility and dset$totalmobility\n",
       "t = -25.633, df = 12.74, p-value = 2.416e-12\n",
       "alternative hypothesis: true difference in means is not equal to 0\n",
       "95 percent confidence interval:\n",
       " -0.2430464 -0.2051908\n",
       "sample estimates:\n",
       "mean of x mean of y \n",
       "0.1674567 0.3915753 \n"
      ]
     },
     "metadata": {},
     "output_type": "display_data"
    }
   ],
   "source": [
    "t.test(ivy$totalmobility,dset$totalmobility)"
   ]
  },
  {
   "cell_type": "markdown",
   "metadata": {},
   "source": [
    "### Question 4. Does attending colleges in different regions (1 = Northeast, 2 = Midwest, 3 = South, 4 = West) makes a difference in terms of upward mobility?\n",
    "\n"
   ]
  },
  {
   "cell_type": "code",
   "execution_count": 27,
   "metadata": {},
   "outputs": [],
   "source": [
    "northeast <- filter(dset, region == 1)\n",
    "midwest <- filter(dset, region == 2)\n",
    "south <- filter(dset, region == 3)\n",
    "west <- filter(dset, region == 4)\n",
    "\n",
    "\n"
   ]
  },
  {
   "cell_type": "code",
   "execution_count": 28,
   "metadata": {},
   "outputs": [
    {
     "data": {
      "text/plain": [
       "\n",
       "\tWelch Two Sample t-test\n",
       "\n",
       "data:  northeast$totalmobility and dset$totalmobility\n",
       "t = -1.2304, df = 691.09, p-value = 0.219\n",
       "alternative hypothesis: true difference in means is not equal to 0\n",
       "95 percent confidence interval:\n",
       " -0.016072985  0.003688687\n",
       "sample estimates:\n",
       "mean of x mean of y \n",
       "0.3714548 0.3776469 \n"
      ]
     },
     "metadata": {},
     "output_type": "display_data"
    }
   ],
   "source": [
    "t.test(northeast$totalmobility,dset$totalmobility)"
   ]
  },
  {
   "cell_type": "code",
   "execution_count": 29,
   "metadata": {},
   "outputs": [
    {
     "data": {
      "text/plain": [
       "\n",
       "\tWelch Two Sample t-test\n",
       "\n",
       "data:  south$totalmobility and dset$totalmobility\n",
       "t = 4.84, df = 1384.7, p-value = 1.444e-06\n",
       "alternative hypothesis: true difference in means is not equal to 0\n",
       "95 percent confidence interval:\n",
       " 0.01124607 0.02657552\n",
       "sample estimates:\n",
       "mean of x mean of y \n",
       "0.3965577 0.3776469 \n"
      ]
     },
     "metadata": {},
     "output_type": "display_data"
    }
   ],
   "source": [
    "t.test(south$totalmobility,dset$totalmobility)"
   ]
  },
  {
   "cell_type": "code",
   "execution_count": 30,
   "metadata": {},
   "outputs": [
    {
     "data": {
      "text/plain": [
       "\n",
       "\tWelch Two Sample t-test\n",
       "\n",
       "data:  west$totalmobility and dset$totalmobility\n",
       "t = -2.4322, df = 547.77, p-value = 0.01533\n",
       "alternative hypothesis: true difference in means is not equal to 0\n",
       "95 percent confidence interval:\n",
       " -0.021122481 -0.002247839\n",
       "sample estimates:\n",
       "mean of x mean of y \n",
       "0.3659618 0.3776469 \n"
      ]
     },
     "metadata": {},
     "output_type": "display_data"
    }
   ],
   "source": [
    "t.test(west$totalmobility,dset$totalmobility)"
   ]
  },
  {
   "cell_type": "markdown",
   "metadata": {},
   "source": [
    "### Question 5. Does year-of-colleges (2-year, 4-year, less than 2 year) make a difference in terms of upward mobility?\n",
    "\n"
   ]
  },
  {
   "cell_type": "code",
   "execution_count": 20,
   "metadata": {},
   "outputs": [],
   "source": [
    "twoyr <- filter(dset, tier == 11)\n",
    "fouryr <-filter(dset, tier == 10)"
   ]
  },
  {
   "cell_type": "code",
   "execution_count": 21,
   "metadata": {},
   "outputs": [
    {
     "data": {
      "text/plain": [
       "\n",
       "\tWelch Two Sample t-test\n",
       "\n",
       "data:  twoyr$totalmobility and fouryr$totalmobility\n",
       "t = 2.7652, df = 140.78, p-value = 0.006452\n",
       "alternative hypothesis: true difference in means is not equal to 0\n",
       "95 percent confidence interval:\n",
       " 0.01208973 0.07273332\n",
       "sample estimates:\n",
       "mean of x mean of y \n",
       "0.4463197 0.4039082 \n"
      ]
     },
     "metadata": {},
     "output_type": "display_data"
    }
   ],
   "source": [
    "t.test(twoyr$totalmobility,fouryr$totalmobility)"
   ]
  },
  {
   "cell_type": "code",
   "execution_count": null,
   "metadata": {},
   "outputs": [],
   "source": []
  },
  {
   "cell_type": "code",
   "execution_count": null,
   "metadata": {},
   "outputs": [],
   "source": [
    " "
   ]
  },
  {
   "cell_type": "markdown",
   "metadata": {},
   "source": [
    "### Question 6 Does attending colleges in different states (RI versus other state) make a difference in terms of upward mobility?"
   ]
  },
  {
   "cell_type": "code",
   "execution_count": 21,
   "metadata": {},
   "outputs": [
    {
     "data": {
      "text/html": [
       "<table>\n",
       "<caption>A tibble: 12 × 18</caption>\n",
       "<thead>\n",
       "\t<tr><th scope=col>super_opeid</th><th scope=col>name</th><th scope=col>type</th><th scope=col>tier</th><th scope=col>tier_name</th><th scope=col>iclevel</th><th scope=col>region</th><th scope=col>state</th><th scope=col>czname</th><th scope=col>q1upwardunc</th><th scope=col>q2upwardunc</th><th scope=col>q3upwardunc</th><th scope=col>q4upwardunc</th><th scope=col>upwardconq1</th><th scope=col>upwardconq2</th><th scope=col>upwardconq3</th><th scope=col>upwardconq4</th><th scope=col>totalmobility</th></tr>\n",
       "\t<tr><th scope=col>&lt;dbl&gt;</th><th scope=col>&lt;chr&gt;</th><th scope=col>&lt;dbl&gt;</th><th scope=col>&lt;dbl&gt;</th><th scope=col>&lt;chr&gt;</th><th scope=col>&lt;dbl&gt;</th><th scope=col>&lt;dbl&gt;</th><th scope=col>&lt;chr&gt;</th><th scope=col>&lt;chr&gt;</th><th scope=col>&lt;dbl&gt;</th><th scope=col>&lt;dbl&gt;</th><th scope=col>&lt;dbl&gt;</th><th scope=col>&lt;dbl&gt;</th><th scope=col>&lt;dbl&gt;</th><th scope=col>&lt;dbl&gt;</th><th scope=col>&lt;dbl&gt;</th><th scope=col>&lt;dbl&gt;</th><th scope=col>&lt;dbl&gt;</th></tr>\n",
       "</thead>\n",
       "<tbody>\n",
       "\t<tr><td> 3401</td><td>Brown University                          </td><td>2</td><td> 1</td><td>Ivy Plus                                     </td><td>1</td><td>1</td><td>RI</td><td>Providence</td><td>0.01584510</td><td>0.03492005</td><td>0.02125386</td><td>0.07252935</td><td>0.06771187</td><td>0.08919157</td><td>0.1498274</td><td>0.5997119</td><td>0.1445484</td></tr>\n",
       "\t<tr><td> 3402</td><td>Bryant University                         </td><td>2</td><td> 6</td><td>Selective private                            </td><td>1</td><td>1</td><td>RI</td><td>Providence</td><td>0.01804856</td><td>0.05350075</td><td>0.04169452</td><td>0.15318818</td><td>0.06999034</td><td>0.08557492</td><td>0.1552544</td><td>0.6681939</td><td>0.2664320</td></tr>\n",
       "\t<tr><td> 3408</td><td>Community College Of Rhode Island         </td><td>1</td><td> 9</td><td>Two-year (public and private not-for-profit) </td><td>2</td><td>1</td><td>RI</td><td>Providence</td><td>0.14454832</td><td>0.11440925</td><td>0.11569327</td><td>0.05093064</td><td>0.26017273</td><td>0.27190563</td><td>0.2436235</td><td>0.1972099</td><td>0.4255815</td></tr>\n",
       "\t<tr><td> 3404</td><td><span style=white-space:pre-wrap>Johnson &amp; Wales University                </span></td><td>2</td><td> 6</td><td><span style=white-space:pre-wrap>Selective private                            </span></td><td>1</td><td>1</td><td>RI</td><td>Providence</td><td>0.10850931</td><td>0.12046063</td><td>0.11909486</td><td>0.05438447</td><td>0.20121797</td><td>0.26800631</td><td>0.2955930</td><td>0.2382871</td><td>0.4024493</td></tr>\n",
       "\t<tr><td> 7845</td><td>New England Institute Of Technology       </td><td>2</td><td> 8</td><td>Nonselective four-year private not-for-profit</td><td>1</td><td>1</td><td>RI</td><td>Providence</td><td>0.11302493</td><td>0.11964894</td><td>0.13367222</td><td>0.08927906</td><td>0.22178304</td><td>0.20404682</td><td>0.2809249</td><td>0.3211782</td><td>0.4556252</td></tr>\n",
       "\t<tr><td> 3406</td><td>Providence College                        </td><td>2</td><td> 4</td><td>Highly selective private                     </td><td>1</td><td>1</td><td>RI</td><td>Providence</td><td>0.01051018</td><td>0.03984329</td><td>0.02765036</td><td>0.10379121</td><td>0.02089778</td><td>0.11153561</td><td>0.1639972</td><td>0.5708235</td><td>0.1817950</td></tr>\n",
       "\t<tr><td> 3407</td><td>Rhode Island College                      </td><td>1</td><td> 5</td><td>Selective public                             </td><td>1</td><td>1</td><td>RI</td><td>Providence</td><td>0.07659457</td><td>0.10280212</td><td>0.12166147</td><td>0.10828966</td><td>0.18046823</td><td>0.21930906</td><td>0.2858710</td><td>0.3357867</td><td>0.4093478</td></tr>\n",
       "\t<tr><td> 3409</td><td>Rhode Island School Of Design             </td><td>2</td><td> 8</td><td>Nonselective four-year private not-for-profit</td><td>1</td><td>1</td><td>RI</td><td>Providence</td><td>0.02284536</td><td>0.03859232</td><td>0.04249664</td><td>0.04927470</td><td>0.20153809</td><td>0.12656035</td><td>0.2107091</td><td>0.3105851</td><td>0.1532090</td></tr>\n",
       "\t<tr><td> 3410</td><td>Roger Williams University                 </td><td>2</td><td> 6</td><td>Selective private                            </td><td>1</td><td>1</td><td>RI</td><td>Providence</td><td>0.02524314</td><td>0.06090175</td><td>0.06509446</td><td>0.10779707</td><td>0.13673677</td><td>0.16140027</td><td>0.2341278</td><td>0.4208284</td><td>0.2590364</td></tr>\n",
       "\t<tr><td>11647</td><td>SBI Campus - An Affiliate Of Sanford-Brown</td><td>3</td><td>11</td><td>Two-year for-profit                          </td><td>2</td><td>1</td><td>RI</td><td>Providence</td><td>0.19620020</td><td>0.14366816</td><td>0.09844528</td><td>0.03771766</td><td>0.24742965</td><td>0.25326513</td><td>0.2493809</td><td>0.2046557</td><td>0.4760313</td></tr>\n",
       "\t<tr><td> 3411</td><td>Salve Regina University                   </td><td>2</td><td> 6</td><td>Selective private                            </td><td>1</td><td>1</td><td>RI</td><td>Providence</td><td>0.02215721</td><td>0.06087530</td><td>0.06046268</td><td>0.09842925</td><td>0.11910093</td><td>0.12574275</td><td>0.2354553</td><td>0.4521486</td><td>0.2419244</td></tr>\n",
       "\t<tr><td> 3414</td><td>University Of Rhode Island                </td><td>1</td><td> 5</td><td>Selective public                             </td><td>1</td><td>1</td><td>RI</td><td>Providence</td><td>0.04097875</td><td>0.07404494</td><td>0.06434031</td><td>0.11231147</td><td>0.11221264</td><td>0.17988386</td><td>0.2170016</td><td>0.4644059</td><td>0.2916755</td></tr>\n",
       "</tbody>\n",
       "</table>\n"
      ],
      "text/latex": [
       "A tibble: 12 × 18\n",
       "\\begin{tabular}{r|llllllllllllllllll}\n",
       " super\\_opeid & name & type & tier & tier\\_name & iclevel & region & state & czname & q1upwardunc & q2upwardunc & q3upwardunc & q4upwardunc & upwardconq1 & upwardconq2 & upwardconq3 & upwardconq4 & totalmobility\\\\\n",
       " <dbl> & <chr> & <dbl> & <dbl> & <chr> & <dbl> & <dbl> & <chr> & <chr> & <dbl> & <dbl> & <dbl> & <dbl> & <dbl> & <dbl> & <dbl> & <dbl> & <dbl>\\\\\n",
       "\\hline\n",
       "\t  3401 & Brown University                           & 2 &  1 & Ivy Plus                                      & 1 & 1 & RI & Providence & 0.01584510 & 0.03492005 & 0.02125386 & 0.07252935 & 0.06771187 & 0.08919157 & 0.1498274 & 0.5997119 & 0.1445484\\\\\n",
       "\t  3402 & Bryant University                          & 2 &  6 & Selective private                             & 1 & 1 & RI & Providence & 0.01804856 & 0.05350075 & 0.04169452 & 0.15318818 & 0.06999034 & 0.08557492 & 0.1552544 & 0.6681939 & 0.2664320\\\\\n",
       "\t  3408 & Community College Of Rhode Island          & 1 &  9 & Two-year (public and private not-for-profit)  & 2 & 1 & RI & Providence & 0.14454832 & 0.11440925 & 0.11569327 & 0.05093064 & 0.26017273 & 0.27190563 & 0.2436235 & 0.1972099 & 0.4255815\\\\\n",
       "\t  3404 & Johnson \\& Wales University                 & 2 &  6 & Selective private                             & 1 & 1 & RI & Providence & 0.10850931 & 0.12046063 & 0.11909486 & 0.05438447 & 0.20121797 & 0.26800631 & 0.2955930 & 0.2382871 & 0.4024493\\\\\n",
       "\t  7845 & New England Institute Of Technology        & 2 &  8 & Nonselective four-year private not-for-profit & 1 & 1 & RI & Providence & 0.11302493 & 0.11964894 & 0.13367222 & 0.08927906 & 0.22178304 & 0.20404682 & 0.2809249 & 0.3211782 & 0.4556252\\\\\n",
       "\t  3406 & Providence College                         & 2 &  4 & Highly selective private                      & 1 & 1 & RI & Providence & 0.01051018 & 0.03984329 & 0.02765036 & 0.10379121 & 0.02089778 & 0.11153561 & 0.1639972 & 0.5708235 & 0.1817950\\\\\n",
       "\t  3407 & Rhode Island College                       & 1 &  5 & Selective public                              & 1 & 1 & RI & Providence & 0.07659457 & 0.10280212 & 0.12166147 & 0.10828966 & 0.18046823 & 0.21930906 & 0.2858710 & 0.3357867 & 0.4093478\\\\\n",
       "\t  3409 & Rhode Island School Of Design              & 2 &  8 & Nonselective four-year private not-for-profit & 1 & 1 & RI & Providence & 0.02284536 & 0.03859232 & 0.04249664 & 0.04927470 & 0.20153809 & 0.12656035 & 0.2107091 & 0.3105851 & 0.1532090\\\\\n",
       "\t  3410 & Roger Williams University                  & 2 &  6 & Selective private                             & 1 & 1 & RI & Providence & 0.02524314 & 0.06090175 & 0.06509446 & 0.10779707 & 0.13673677 & 0.16140027 & 0.2341278 & 0.4208284 & 0.2590364\\\\\n",
       "\t 11647 & SBI Campus - An Affiliate Of Sanford-Brown & 3 & 11 & Two-year for-profit                           & 2 & 1 & RI & Providence & 0.19620020 & 0.14366816 & 0.09844528 & 0.03771766 & 0.24742965 & 0.25326513 & 0.2493809 & 0.2046557 & 0.4760313\\\\\n",
       "\t  3411 & Salve Regina University                    & 2 &  6 & Selective private                             & 1 & 1 & RI & Providence & 0.02215721 & 0.06087530 & 0.06046268 & 0.09842925 & 0.11910093 & 0.12574275 & 0.2354553 & 0.4521486 & 0.2419244\\\\\n",
       "\t  3414 & University Of Rhode Island                 & 1 &  5 & Selective public                              & 1 & 1 & RI & Providence & 0.04097875 & 0.07404494 & 0.06434031 & 0.11231147 & 0.11221264 & 0.17988386 & 0.2170016 & 0.4644059 & 0.2916755\\\\\n",
       "\\end{tabular}\n"
      ],
      "text/markdown": [
       "\n",
       "A tibble: 12 × 18\n",
       "\n",
       "| super_opeid &lt;dbl&gt; | name &lt;chr&gt; | type &lt;dbl&gt; | tier &lt;dbl&gt; | tier_name &lt;chr&gt; | iclevel &lt;dbl&gt; | region &lt;dbl&gt; | state &lt;chr&gt; | czname &lt;chr&gt; | q1upwardunc &lt;dbl&gt; | q2upwardunc &lt;dbl&gt; | q3upwardunc &lt;dbl&gt; | q4upwardunc &lt;dbl&gt; | upwardconq1 &lt;dbl&gt; | upwardconq2 &lt;dbl&gt; | upwardconq3 &lt;dbl&gt; | upwardconq4 &lt;dbl&gt; | totalmobility &lt;dbl&gt; |\n",
       "|---|---|---|---|---|---|---|---|---|---|---|---|---|---|---|---|---|---|\n",
       "|  3401 | Brown University                           | 2 |  1 | Ivy Plus                                      | 1 | 1 | RI | Providence | 0.01584510 | 0.03492005 | 0.02125386 | 0.07252935 | 0.06771187 | 0.08919157 | 0.1498274 | 0.5997119 | 0.1445484 |\n",
       "|  3402 | Bryant University                          | 2 |  6 | Selective private                             | 1 | 1 | RI | Providence | 0.01804856 | 0.05350075 | 0.04169452 | 0.15318818 | 0.06999034 | 0.08557492 | 0.1552544 | 0.6681939 | 0.2664320 |\n",
       "|  3408 | Community College Of Rhode Island          | 1 |  9 | Two-year (public and private not-for-profit)  | 2 | 1 | RI | Providence | 0.14454832 | 0.11440925 | 0.11569327 | 0.05093064 | 0.26017273 | 0.27190563 | 0.2436235 | 0.1972099 | 0.4255815 |\n",
       "|  3404 | Johnson &amp; Wales University                 | 2 |  6 | Selective private                             | 1 | 1 | RI | Providence | 0.10850931 | 0.12046063 | 0.11909486 | 0.05438447 | 0.20121797 | 0.26800631 | 0.2955930 | 0.2382871 | 0.4024493 |\n",
       "|  7845 | New England Institute Of Technology        | 2 |  8 | Nonselective four-year private not-for-profit | 1 | 1 | RI | Providence | 0.11302493 | 0.11964894 | 0.13367222 | 0.08927906 | 0.22178304 | 0.20404682 | 0.2809249 | 0.3211782 | 0.4556252 |\n",
       "|  3406 | Providence College                         | 2 |  4 | Highly selective private                      | 1 | 1 | RI | Providence | 0.01051018 | 0.03984329 | 0.02765036 | 0.10379121 | 0.02089778 | 0.11153561 | 0.1639972 | 0.5708235 | 0.1817950 |\n",
       "|  3407 | Rhode Island College                       | 1 |  5 | Selective public                              | 1 | 1 | RI | Providence | 0.07659457 | 0.10280212 | 0.12166147 | 0.10828966 | 0.18046823 | 0.21930906 | 0.2858710 | 0.3357867 | 0.4093478 |\n",
       "|  3409 | Rhode Island School Of Design              | 2 |  8 | Nonselective four-year private not-for-profit | 1 | 1 | RI | Providence | 0.02284536 | 0.03859232 | 0.04249664 | 0.04927470 | 0.20153809 | 0.12656035 | 0.2107091 | 0.3105851 | 0.1532090 |\n",
       "|  3410 | Roger Williams University                  | 2 |  6 | Selective private                             | 1 | 1 | RI | Providence | 0.02524314 | 0.06090175 | 0.06509446 | 0.10779707 | 0.13673677 | 0.16140027 | 0.2341278 | 0.4208284 | 0.2590364 |\n",
       "| 11647 | SBI Campus - An Affiliate Of Sanford-Brown | 3 | 11 | Two-year for-profit                           | 2 | 1 | RI | Providence | 0.19620020 | 0.14366816 | 0.09844528 | 0.03771766 | 0.24742965 | 0.25326513 | 0.2493809 | 0.2046557 | 0.4760313 |\n",
       "|  3411 | Salve Regina University                    | 2 |  6 | Selective private                             | 1 | 1 | RI | Providence | 0.02215721 | 0.06087530 | 0.06046268 | 0.09842925 | 0.11910093 | 0.12574275 | 0.2354553 | 0.4521486 | 0.2419244 |\n",
       "|  3414 | University Of Rhode Island                 | 1 |  5 | Selective public                              | 1 | 1 | RI | Providence | 0.04097875 | 0.07404494 | 0.06434031 | 0.11231147 | 0.11221264 | 0.17988386 | 0.2170016 | 0.4644059 | 0.2916755 |\n",
       "\n"
      ],
      "text/plain": [
       "   super_opeid name                                       type tier\n",
       "1   3401       Brown University                           2     1  \n",
       "2   3402       Bryant University                          2     6  \n",
       "3   3408       Community College Of Rhode Island          1     9  \n",
       "4   3404       Johnson & Wales University                 2     6  \n",
       "5   7845       New England Institute Of Technology        2     8  \n",
       "6   3406       Providence College                         2     4  \n",
       "7   3407       Rhode Island College                       1     5  \n",
       "8   3409       Rhode Island School Of Design              2     8  \n",
       "9   3410       Roger Williams University                  2     6  \n",
       "10 11647       SBI Campus - An Affiliate Of Sanford-Brown 3    11  \n",
       "11  3411       Salve Regina University                    2     6  \n",
       "12  3414       University Of Rhode Island                 1     5  \n",
       "   tier_name                                     iclevel region state\n",
       "1  Ivy Plus                                      1       1      RI   \n",
       "2  Selective private                             1       1      RI   \n",
       "3  Two-year (public and private not-for-profit)  2       1      RI   \n",
       "4  Selective private                             1       1      RI   \n",
       "5  Nonselective four-year private not-for-profit 1       1      RI   \n",
       "6  Highly selective private                      1       1      RI   \n",
       "7  Selective public                              1       1      RI   \n",
       "8  Nonselective four-year private not-for-profit 1       1      RI   \n",
       "9  Selective private                             1       1      RI   \n",
       "10 Two-year for-profit                           2       1      RI   \n",
       "11 Selective private                             1       1      RI   \n",
       "12 Selective public                              1       1      RI   \n",
       "   czname     q1upwardunc q2upwardunc q3upwardunc q4upwardunc upwardconq1\n",
       "1  Providence 0.01584510  0.03492005  0.02125386  0.07252935  0.06771187 \n",
       "2  Providence 0.01804856  0.05350075  0.04169452  0.15318818  0.06999034 \n",
       "3  Providence 0.14454832  0.11440925  0.11569327  0.05093064  0.26017273 \n",
       "4  Providence 0.10850931  0.12046063  0.11909486  0.05438447  0.20121797 \n",
       "5  Providence 0.11302493  0.11964894  0.13367222  0.08927906  0.22178304 \n",
       "6  Providence 0.01051018  0.03984329  0.02765036  0.10379121  0.02089778 \n",
       "7  Providence 0.07659457  0.10280212  0.12166147  0.10828966  0.18046823 \n",
       "8  Providence 0.02284536  0.03859232  0.04249664  0.04927470  0.20153809 \n",
       "9  Providence 0.02524314  0.06090175  0.06509446  0.10779707  0.13673677 \n",
       "10 Providence 0.19620020  0.14366816  0.09844528  0.03771766  0.24742965 \n",
       "11 Providence 0.02215721  0.06087530  0.06046268  0.09842925  0.11910093 \n",
       "12 Providence 0.04097875  0.07404494  0.06434031  0.11231147  0.11221264 \n",
       "   upwardconq2 upwardconq3 upwardconq4 totalmobility\n",
       "1  0.08919157  0.1498274   0.5997119   0.1445484    \n",
       "2  0.08557492  0.1552544   0.6681939   0.2664320    \n",
       "3  0.27190563  0.2436235   0.1972099   0.4255815    \n",
       "4  0.26800631  0.2955930   0.2382871   0.4024493    \n",
       "5  0.20404682  0.2809249   0.3211782   0.4556252    \n",
       "6  0.11153561  0.1639972   0.5708235   0.1817950    \n",
       "7  0.21930906  0.2858710   0.3357867   0.4093478    \n",
       "8  0.12656035  0.2107091   0.3105851   0.1532090    \n",
       "9  0.16140027  0.2341278   0.4208284   0.2590364    \n",
       "10 0.25326513  0.2493809   0.2046557   0.4760313    \n",
       "11 0.12574275  0.2354553   0.4521486   0.2419244    \n",
       "12 0.17988386  0.2170016   0.4644059   0.2916755    "
      ]
     },
     "metadata": {},
     "output_type": "display_data"
    }
   ],
   "source": [
    "RhodeIsland <- filter(dset, state == \"RI\")\n",
    "RhodeIsland"
   ]
  },
  {
   "cell_type": "code",
   "execution_count": 22,
   "metadata": {},
   "outputs": [
    {
     "data": {
      "text/plain": [
       "\n",
       "\tWelch Two Sample t-test\n",
       "\n",
       "data:  RhodeIsland$totalmobility and dset$totalmobility\n",
       "t = -2.3792, df = 11.099, p-value = 0.03636\n",
       "alternative hypothesis: true difference in means is not equal to 0\n",
       "95 percent confidence interval:\n",
       " -0.15893566 -0.00627225\n",
       "sample estimates:\n",
       "mean of x mean of y \n",
       "0.3089713 0.3915753 \n"
      ]
     },
     "metadata": {},
     "output_type": "display_data"
    }
   ],
   "source": [
    "t.test(RhodeIsland$totalmobility,dset$totalmobility)"
   ]
  },
  {
   "cell_type": "code",
   "execution_count": null,
   "metadata": {},
   "outputs": [],
   "source": []
  }
 ],
 "metadata": {
  "kernelspec": {
   "display_name": "R",
   "language": "R",
   "name": "ir"
  },
  "language_info": {
   "codemirror_mode": "r",
   "file_extension": ".r",
   "mimetype": "text/x-r-source",
   "name": "R",
   "pygments_lexer": "r",
   "version": "3.6.1"
  }
 },
 "nbformat": 4,
 "nbformat_minor": 4
}
